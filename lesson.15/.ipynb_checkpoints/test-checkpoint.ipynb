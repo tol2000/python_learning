{
 "cells": [
  {
   "cell_type": "markdown",
   "id": "12c151a5-24b1-4cac-a57d-3f3d3f42c1d3",
   "metadata": {},
   "source": [
    "# Stoped at 0:42"
   ]
  },
  {
   "cell_type": "code",
   "execution_count": 14,
   "id": "b6a0afe2-6082-4a77-8307-4c1e27b36cca",
   "metadata": {},
   "outputs": [],
   "source": [
    "from pprint import pprint"
   ]
  },
  {
   "cell_type": "code",
   "execution_count": 1,
   "id": "0cb0af22-009e-4d5d-8324-5f514fc54768",
   "metadata": {},
   "outputs": [],
   "source": [
    "import numpy as np"
   ]
  },
  {
   "cell_type": "code",
   "execution_count": 16,
   "id": "94037909-13a0-4df5-899a-af2be46742e6",
   "metadata": {},
   "outputs": [
    {
     "name": "stdout",
     "output_type": "stream",
     "text": [
      "array([[[1, 2],\n",
      "        [2, 3]],\n",
      "\n",
      "       [[5, 6],\n",
      "        [6, 7]],\n",
      "\n",
      "       [[2, 2],\n",
      "        [2, 2]]])\n"
     ]
    }
   ],
   "source": [
    "a = np.array(\n",
    "    [\n",
    "        [\n",
    "            [1,2],\n",
    "            [2,3],\n",
    "        ],\n",
    "        [\n",
    "            [5,6],\n",
    "            [6,7],\n",
    "        ],\n",
    "        [\n",
    "            [2,2],\n",
    "            [2,2],\n",
    "        ],\n",
    "    ]\n",
    ")\n",
    "pprint(a)"
   ]
  },
  {
   "cell_type": "code",
   "execution_count": 13,
   "id": "38a1851d-34fc-4501-9107-b11bb44391a6",
   "metadata": {},
   "outputs": [
    {
     "data": {
      "text/plain": [
       "3"
      ]
     },
     "execution_count": 13,
     "metadata": {},
     "output_type": "execute_result"
    },
    {
     "data": {
      "text/plain": [
       "(3, 2, 2)"
      ]
     },
     "execution_count": 13,
     "metadata": {},
     "output_type": "execute_result"
    }
   ],
   "source": [
    "a.ndim\n",
    "a.shape"
   ]
  },
  {
   "cell_type": "code",
   "execution_count": 46,
   "id": "8df96e8a-32b2-43bc-bc12-09fd27a053e5",
   "metadata": {},
   "outputs": [
    {
     "data": {
      "text/plain": [
       "array([1, 2, 3, 4], dtype=int32)"
      ]
     },
     "execution_count": 46,
     "metadata": {},
     "output_type": "execute_result"
    },
    {
     "data": {
      "text/plain": [
       "dtype('int32')"
      ]
     },
     "execution_count": 46,
     "metadata": {},
     "output_type": "execute_result"
    },
    {
     "data": {
      "text/plain": [
       "dtype('int64')"
      ]
     },
     "execution_count": 46,
     "metadata": {},
     "output_type": "execute_result"
    },
    {
     "data": {
      "text/plain": [
       "array([ 8589934593, 17179869187])"
      ]
     },
     "execution_count": 46,
     "metadata": {},
     "output_type": "execute_result"
    }
   ],
   "source": [
    "b = np.array([1,2,3,4], dtype=np.int32)\n",
    "\n",
    "b\n",
    "b.dtype\n",
    "b.dtype = np.int64\n",
    "b.dtype\n",
    "b"
   ]
  },
  {
   "cell_type": "code",
   "execution_count": 54,
   "id": "ecae3fe2-23c3-4e01-a1e8-0c3063f80e09",
   "metadata": {},
   "outputs": [
    {
     "data": {
      "text/plain": [
       "array([0, 1, 2, 3, 4, 5, 6, 7], dtype=int8)"
      ]
     },
     "execution_count": 54,
     "metadata": {},
     "output_type": "execute_result"
    },
    {
     "data": {
      "text/plain": [
       "array([ 256,  770, 1284, 1798], dtype=int16)"
      ]
     },
     "execution_count": 54,
     "metadata": {},
     "output_type": "execute_result"
    }
   ],
   "source": [
    "c = np.arange(8, dtype=np.int8)\n",
    "c\n",
    "c.dtype = np.int16\n",
    "c"
   ]
  },
  {
   "cell_type": "code",
   "execution_count": 55,
   "id": "4275e24a-c630-472a-8013-9c7d3acc6313",
   "metadata": {},
   "outputs": [
    {
     "data": {
      "text/plain": [
       "array([  0,   1,   2,   3,   4,   5,   6,   7,   8,   9,  10,  11,  12,\n",
       "        13,  14,  15,  16,  17,  18,  19,  20,  21,  22,  23,  24,  25,\n",
       "        26,  27,  28,  29,  30,  31,  32,  33,  34,  35,  36,  37,  38,\n",
       "        39,  40,  41,  42,  43,  44,  45,  46,  47,  48,  49,  50,  51,\n",
       "        52,  53,  54,  55,  56,  57,  58,  59,  60,  61,  62,  63,  64,\n",
       "        65,  66,  67,  68,  69,  70,  71,  72,  73,  74,  75,  76,  77,\n",
       "        78,  79,  80,  81,  82,  83,  84,  85,  86,  87,  88,  89,  90,\n",
       "        91,  92,  93,  94,  95,  96,  97,  98,  99, 100, 101, 102, 103,\n",
       "       104, 105, 106, 107, 108, 109, 110, 111, 112, 113, 114, 115, 116,\n",
       "       117, 118, 119, 120, 121, 122, 123, 124, 125, 126, 127, 128, 129,\n",
       "       130, 131, 132, 133, 134, 135, 136, 137, 138, 139, 140, 141, 142,\n",
       "       143, 144, 145, 146, 147, 148, 149, 150, 151, 152, 153, 154, 155,\n",
       "       156, 157, 158, 159, 160, 161, 162, 163, 164, 165, 166, 167, 168,\n",
       "       169, 170, 171, 172, 173, 174, 175, 176, 177, 178, 179, 180, 181,\n",
       "       182, 183, 184, 185, 186, 187, 188, 189, 190, 191, 192, 193, 194,\n",
       "       195, 196, 197, 198, 199, 200, 201, 202, 203, 204, 205, 206, 207,\n",
       "       208, 209, 210, 211, 212, 213, 214, 215, 216, 217, 218, 219, 220,\n",
       "       221, 222, 223, 224, 225, 226, 227, 228, 229, 230, 231, 232, 233,\n",
       "       234, 235, 236, 237, 238, 239, 240, 241, 242, 243, 244, 245, 246,\n",
       "       247, 248, 249, 250, 251, 252, 253, 254, 255, 256, 257, 258, 259,\n",
       "       260, 261, 262, 263, 264, 265, 266, 267, 268, 269, 270, 271, 272,\n",
       "       273, 274, 275, 276, 277, 278, 279, 280, 281, 282, 283, 284, 285,\n",
       "       286, 287, 288, 289, 290, 291, 292, 293, 294, 295, 296, 297, 298,\n",
       "       299, 300, 301, 302, 303, 304, 305, 306, 307, 308, 309, 310, 311,\n",
       "       312, 313, 314, 315, 316, 317, 318, 319, 320, 321, 322, 323, 324,\n",
       "       325, 326, 327, 328, 329, 330, 331, 332, 333, 334, 335, 336, 337,\n",
       "       338, 339, 340, 341, 342, 343, 344, 345, 346, 347, 348, 349, 350,\n",
       "       351, 352, 353, 354, 355, 356, 357, 358, 359, 360, 361, 362, 363,\n",
       "       364, 365, 366, 367, 368, 369, 370, 371, 372, 373, 374, 375, 376,\n",
       "       377, 378, 379, 380, 381, 382, 383, 384, 385, 386, 387, 388, 389,\n",
       "       390, 391, 392, 393, 394, 395, 396, 397, 398, 399, 400, 401, 402,\n",
       "       403, 404, 405, 406, 407, 408, 409, 410, 411, 412, 413, 414, 415,\n",
       "       416, 417, 418, 419, 420, 421, 422, 423, 424, 425, 426, 427, 428,\n",
       "       429, 430, 431, 432, 433, 434, 435, 436, 437, 438, 439, 440, 441,\n",
       "       442, 443, 444, 445, 446, 447, 448, 449, 450, 451, 452, 453, 454,\n",
       "       455, 456, 457, 458, 459, 460, 461, 462, 463, 464, 465, 466, 467,\n",
       "       468, 469, 470, 471, 472, 473, 474, 475, 476, 477, 478, 479, 480,\n",
       "       481, 482, 483, 484, 485, 486, 487, 488, 489, 490, 491, 492, 493,\n",
       "       494, 495, 496, 497, 498, 499, 500, 501, 502, 503, 504, 505, 506,\n",
       "       507, 508, 509, 510, 511])"
      ]
     },
     "execution_count": 55,
     "metadata": {},
     "output_type": "execute_result"
    },
    {
     "data": {
      "text/plain": [
       "array([[[  0,   1,   2,   3,   4,   5,   6,   7],\n",
       "        [  8,   9,  10,  11,  12,  13,  14,  15],\n",
       "        [ 16,  17,  18,  19,  20,  21,  22,  23],\n",
       "        [ 24,  25,  26,  27,  28,  29,  30,  31],\n",
       "        [ 32,  33,  34,  35,  36,  37,  38,  39],\n",
       "        [ 40,  41,  42,  43,  44,  45,  46,  47],\n",
       "        [ 48,  49,  50,  51,  52,  53,  54,  55],\n",
       "        [ 56,  57,  58,  59,  60,  61,  62,  63]],\n",
       "\n",
       "       [[ 64,  65,  66,  67,  68,  69,  70,  71],\n",
       "        [ 72,  73,  74,  75,  76,  77,  78,  79],\n",
       "        [ 80,  81,  82,  83,  84,  85,  86,  87],\n",
       "        [ 88,  89,  90,  91,  92,  93,  94,  95],\n",
       "        [ 96,  97,  98,  99, 100, 101, 102, 103],\n",
       "        [104, 105, 106, 107, 108, 109, 110, 111],\n",
       "        [112, 113, 114, 115, 116, 117, 118, 119],\n",
       "        [120, 121, 122, 123, 124, 125, 126, 127]],\n",
       "\n",
       "       [[128, 129, 130, 131, 132, 133, 134, 135],\n",
       "        [136, 137, 138, 139, 140, 141, 142, 143],\n",
       "        [144, 145, 146, 147, 148, 149, 150, 151],\n",
       "        [152, 153, 154, 155, 156, 157, 158, 159],\n",
       "        [160, 161, 162, 163, 164, 165, 166, 167],\n",
       "        [168, 169, 170, 171, 172, 173, 174, 175],\n",
       "        [176, 177, 178, 179, 180, 181, 182, 183],\n",
       "        [184, 185, 186, 187, 188, 189, 190, 191]],\n",
       "\n",
       "       [[192, 193, 194, 195, 196, 197, 198, 199],\n",
       "        [200, 201, 202, 203, 204, 205, 206, 207],\n",
       "        [208, 209, 210, 211, 212, 213, 214, 215],\n",
       "        [216, 217, 218, 219, 220, 221, 222, 223],\n",
       "        [224, 225, 226, 227, 228, 229, 230, 231],\n",
       "        [232, 233, 234, 235, 236, 237, 238, 239],\n",
       "        [240, 241, 242, 243, 244, 245, 246, 247],\n",
       "        [248, 249, 250, 251, 252, 253, 254, 255]],\n",
       "\n",
       "       [[256, 257, 258, 259, 260, 261, 262, 263],\n",
       "        [264, 265, 266, 267, 268, 269, 270, 271],\n",
       "        [272, 273, 274, 275, 276, 277, 278, 279],\n",
       "        [280, 281, 282, 283, 284, 285, 286, 287],\n",
       "        [288, 289, 290, 291, 292, 293, 294, 295],\n",
       "        [296, 297, 298, 299, 300, 301, 302, 303],\n",
       "        [304, 305, 306, 307, 308, 309, 310, 311],\n",
       "        [312, 313, 314, 315, 316, 317, 318, 319]],\n",
       "\n",
       "       [[320, 321, 322, 323, 324, 325, 326, 327],\n",
       "        [328, 329, 330, 331, 332, 333, 334, 335],\n",
       "        [336, 337, 338, 339, 340, 341, 342, 343],\n",
       "        [344, 345, 346, 347, 348, 349, 350, 351],\n",
       "        [352, 353, 354, 355, 356, 357, 358, 359],\n",
       "        [360, 361, 362, 363, 364, 365, 366, 367],\n",
       "        [368, 369, 370, 371, 372, 373, 374, 375],\n",
       "        [376, 377, 378, 379, 380, 381, 382, 383]],\n",
       "\n",
       "       [[384, 385, 386, 387, 388, 389, 390, 391],\n",
       "        [392, 393, 394, 395, 396, 397, 398, 399],\n",
       "        [400, 401, 402, 403, 404, 405, 406, 407],\n",
       "        [408, 409, 410, 411, 412, 413, 414, 415],\n",
       "        [416, 417, 418, 419, 420, 421, 422, 423],\n",
       "        [424, 425, 426, 427, 428, 429, 430, 431],\n",
       "        [432, 433, 434, 435, 436, 437, 438, 439],\n",
       "        [440, 441, 442, 443, 444, 445, 446, 447]],\n",
       "\n",
       "       [[448, 449, 450, 451, 452, 453, 454, 455],\n",
       "        [456, 457, 458, 459, 460, 461, 462, 463],\n",
       "        [464, 465, 466, 467, 468, 469, 470, 471],\n",
       "        [472, 473, 474, 475, 476, 477, 478, 479],\n",
       "        [480, 481, 482, 483, 484, 485, 486, 487],\n",
       "        [488, 489, 490, 491, 492, 493, 494, 495],\n",
       "        [496, 497, 498, 499, 500, 501, 502, 503],\n",
       "        [504, 505, 506, 507, 508, 509, 510, 511]]])"
      ]
     },
     "execution_count": 55,
     "metadata": {},
     "output_type": "execute_result"
    }
   ],
   "source": [
    "d = np.arange(512)\n",
    "d\n",
    "d.reshape(8, 8, 8)"
   ]
  },
  {
   "cell_type": "code",
   "execution_count": 57,
   "id": "91130bb5-cc58-4cb6-8859-94d2107253bb",
   "metadata": {},
   "outputs": [
    {
     "data": {
      "text/plain": [
       "5"
      ]
     },
     "execution_count": 57,
     "metadata": {},
     "output_type": "execute_result"
    },
    {
     "name": "stdout",
     "output_type": "stream",
     "text": [
      "5\n"
     ]
    }
   ],
   "source": [
    "aaa = 5\n",
    "aaa\n",
    "print(_)"
   ]
  },
  {
   "cell_type": "code",
   "execution_count": 64,
   "id": "97620e36-1246-4ac3-86f2-8b50f287265f",
   "metadata": {},
   "outputs": [
    {
     "data": {
      "text/plain": [
       "array([0. , 0.5, 1. , 1.5, 2. , 2.5, 3. , 3.5, 4. , 4.5, 5. , 5.5, 6. ,\n",
       "       6.5, 7. , 7.5, 8. , 8.5, 9. , 9.5], dtype=float16)"
      ]
     },
     "execution_count": 64,
     "metadata": {},
     "output_type": "execute_result"
    },
    {
     "data": {
      "text/plain": [
       "dtype('float16')"
      ]
     },
     "execution_count": 64,
     "metadata": {},
     "output_type": "execute_result"
    }
   ],
   "source": [
    "a1 = np.arange(10, step=.5, dtype=np.float16)\n",
    "a1\n",
    "a1.dtype"
   ]
  },
  {
   "cell_type": "code",
   "execution_count": 76,
   "id": "ae4037d3-fb48-46e1-87a6-8da752f242f4",
   "metadata": {},
   "outputs": [
    {
     "name": "stdout",
     "output_type": "stream",
     "text": [
      "0.0\n",
      "0.3333\n",
      "0.6665\n",
      "1.0\n",
      "0.0\n",
      "0.33333333333333331483\n",
      "0.66666666666666662966\n",
      "1.0\n"
     ]
    }
   ],
   "source": [
    "a1 = np.linspace(0,1,4, dtype=np.float16)\n",
    "for n in a1:\n",
    "    print(n)\n",
    "a2 = np.linspace(0,1,4, dtype=np.float128)\n",
    "for n in a2:\n",
    "    print(n)"
   ]
  },
  {
   "cell_type": "code",
   "execution_count": 124,
   "id": "3a55785c-88ca-4c02-a88b-12d17165abeb",
   "metadata": {},
   "outputs": [
    {
     "data": {
      "text/plain": [
       "array([0, 1, 2, 3, 4])"
      ]
     },
     "execution_count": 124,
     "metadata": {},
     "output_type": "execute_result"
    },
    {
     "data": {
      "text/plain": [
       "array([0, 1, 2, 3, 4, 5, 6])"
      ]
     },
     "execution_count": 124,
     "metadata": {},
     "output_type": "execute_result"
    },
    {
     "data": {
      "text/plain": [
       "array([0, 2, 4, 6, 8, 5, 6])"
      ]
     },
     "execution_count": 124,
     "metadata": {},
     "output_type": "execute_result"
    }
   ],
   "source": [
    "a = np.arange(5)\n",
    "b = np.arange(7)\n",
    "a\n",
    "b\n",
    "np.add(np.concatenate((a, np.zeros(b.shape[0]-a.shape[0], dtype=a.dtype))), b)"
   ]
  },
  {
   "cell_type": "code",
   "execution_count": 133,
   "id": "cf37be85-140e-4b72-8f00-5eacaa3e6810",
   "metadata": {},
   "outputs": [
    {
     "data": {
      "text/plain": [
       "array([[ 0,  2,  4,  6,  8],\n",
       "       [10, 12, 14, 16, 18]])"
      ]
     },
     "execution_count": 133,
     "metadata": {},
     "output_type": "execute_result"
    },
    {
     "data": {
      "text/plain": [
       "90"
      ]
     },
     "execution_count": 133,
     "metadata": {},
     "output_type": "execute_result"
    },
    {
     "data": {
      "text/plain": [
       "array([10, 14, 18, 22, 26])"
      ]
     },
     "execution_count": 133,
     "metadata": {},
     "output_type": "execute_result"
    },
    {
     "data": {
      "text/plain": [
       "array([20, 70])"
      ]
     },
     "execution_count": 133,
     "metadata": {},
     "output_type": "execute_result"
    }
   ],
   "source": [
    "a = np.arange(0, 20, 2).reshape((2, 5))\n",
    "a\n",
    "a.sum()\n",
    "a.sum(axis=0)\n",
    "a.sum(axis=1)"
   ]
  },
  {
   "cell_type": "code",
   "execution_count": 151,
   "id": "cbf480ee-fc75-499d-b673-286243118317",
   "metadata": {},
   "outputs": [
    {
     "data": {
      "text/plain": [
       "array([[[ 0,  2,  4,  6],\n",
       "        [ 8, 10, 12, 14],\n",
       "        [16, 18, 20, 22]],\n",
       "\n",
       "       [[24, 26, 28, 30],\n",
       "        [32, 34, 36, 38],\n",
       "        [40, 42, 44, 46]]])"
      ]
     },
     "execution_count": 151,
     "metadata": {},
     "output_type": "execute_result"
    },
    {
     "data": {
      "text/plain": [
       "552"
      ]
     },
     "execution_count": 151,
     "metadata": {},
     "output_type": "execute_result"
    },
    {
     "data": {
      "text/plain": [
       "array([[24, 28, 32, 36],\n",
       "       [40, 44, 48, 52],\n",
       "       [56, 60, 64, 68]])"
      ]
     },
     "execution_count": 151,
     "metadata": {},
     "output_type": "execute_result"
    },
    {
     "data": {
      "text/plain": [
       "array([[ 24,  30,  36,  42],\n",
       "       [ 96, 102, 108, 114]])"
      ]
     },
     "execution_count": 151,
     "metadata": {},
     "output_type": "execute_result"
    },
    {
     "data": {
      "text/plain": [
       "array([[ 12,  44,  76],\n",
       "       [108, 140, 172]])"
      ]
     },
     "execution_count": 151,
     "metadata": {},
     "output_type": "execute_result"
    }
   ],
   "source": [
    "a = np.arange(0, 48, 2).reshape((2, 3, 4))\n",
    "a\n",
    "a.sum()\n",
    "a.sum(axis=0)\n",
    "a.sum(axis=1)\n",
    "a.sum(axis=2)"
   ]
  },
  {
   "cell_type": "code",
   "execution_count": null,
   "id": "6b6f991a-f7ee-44d8-a313-e68a487454ca",
   "metadata": {},
   "outputs": [],
   "source": [
    "a = np.arange(0, 48, 2).reshape((2, 3, 4))\n",
    "a\n",
    "for i in range(a.shape[0]):\n",
    "    for j in range(a.shape[1]):\n",
    "        for k in range(a.shape[2]):\n",
    "            print(a[i, j , k], end=' ')\n",
    "        print('')\n",
    "    print('')"
   ]
  },
  {
   "cell_type": "code",
   "execution_count": 185,
   "id": "a9f83bf7-ce53-41fe-94ce-dd1c7e6a42de",
   "metadata": {},
   "outputs": [
    {
     "name": "stdout",
     "output_type": "stream",
     "text": [
      "Result will be with size 8 and shape (2, 4)\n"
     ]
    },
    {
     "data": {
      "text/plain": [
       "array([[[ 0,  2,  4,  6],\n",
       "        [ 8, 10, 12, 14],\n",
       "        [16, 18, 20, 22]],\n",
       "\n",
       "       [[24, 26, 28, 30],\n",
       "        [32, 34, 36, 38],\n",
       "        [40, 42, 44, 46]]])"
      ]
     },
     "execution_count": 185,
     "metadata": {},
     "output_type": "execute_result"
    },
    {
     "data": {
      "text/plain": [
       "array([[[0, 0, 0, 0],\n",
       "        [0, 0, 0, 0]],\n",
       "\n",
       "       [[0, 0, 0, 0],\n",
       "        [0, 0, 0, 0]],\n",
       "\n",
       "       [[0, 0, 0, 0],\n",
       "        [0, 0, 0, 0]]])"
      ]
     },
     "execution_count": 185,
     "metadata": {},
     "output_type": "execute_result"
    },
    {
     "name": "stdout",
     "output_type": "stream",
     "text": [
      "(0, 0, 0) -> (0, 0, 0)\n",
      "a: 0\n",
      "(0, 0, 1) -> (0, 0, 1)\n",
      "a: 2\n",
      "(0, 0, 2) -> (0, 0, 2)\n",
      "a: 4\n",
      "(0, 0, 3) -> (0, 0, 3)\n",
      "a: 6\n",
      "(1, 0, 0) -> (0, 1, 0)\n",
      "a: 8\n",
      "(1, 0, 1) -> (0, 1, 1)\n",
      "a: 10\n",
      "(1, 0, 2) -> (0, 1, 2)\n",
      "a: 12\n",
      "(1, 0, 3) -> (0, 1, 3)\n",
      "a: 14\n",
      "(0, 1, 0) -> (1, 0, 0)\n",
      "a: 24\n",
      "(0, 1, 1) -> (1, 0, 1)\n",
      "a: 26\n",
      "(0, 1, 2) -> (1, 0, 2)\n",
      "a: 28\n",
      "(0, 1, 3) -> (1, 0, 3)\n",
      "a: 30\n",
      "(1, 1, 0) -> (1, 1, 0)\n",
      "a: 32\n",
      "(1, 1, 1) -> (1, 1, 1)\n",
      "a: 34\n",
      "(1, 1, 2) -> (1, 1, 2)\n",
      "a: 36\n",
      "(1, 1, 3) -> (1, 1, 3)\n",
      "a: 38\n",
      "(0, 2, 0) -> (2, 0, 0)\n"
     ]
    },
    {
     "ename": "IndexError",
     "evalue": "index 2 is out of bounds for axis 0 with size 2",
     "output_type": "error",
     "traceback": [
      "\u001b[0;31m---------------------------------------------------------------------------\u001b[0m",
      "\u001b[0;31mIndexError\u001b[0m                                Traceback (most recent call last)",
      "Input \u001b[0;32mIn [185]\u001b[0m, in \u001b[0;36m<module>\u001b[0;34m\u001b[0m\n\u001b[1;32m     29\u001b[0m             cur_tpl \u001b[38;5;241m=\u001b[39m \u001b[38;5;28mtuple\u001b[39m([trf_tpl[dst_shape_seq[\u001b[38;5;241m0\u001b[39m]], trf_tpl[dst_shape_seq[\u001b[38;5;241m1\u001b[39m]], trf_tpl[dst_shape_seq[\u001b[38;5;241m2\u001b[39m]]])\n\u001b[1;32m     30\u001b[0m             \u001b[38;5;28mprint\u001b[39m(\u001b[38;5;124mf\u001b[39m\u001b[38;5;124m'\u001b[39m\u001b[38;5;132;01m{\u001b[39;00mcur_tpl\u001b[38;5;132;01m}\u001b[39;00m\u001b[38;5;124m -> \u001b[39m\u001b[38;5;132;01m{\u001b[39;00mtrf_tpl\u001b[38;5;132;01m}\u001b[39;00m\u001b[38;5;124m'\u001b[39m)\n\u001b[0;32m---> 31\u001b[0m             \u001b[38;5;28mprint\u001b[39m(\u001b[38;5;124mf\u001b[39m\u001b[38;5;124m'\u001b[39m\u001b[38;5;124ma: \u001b[39m\u001b[38;5;132;01m{\u001b[39;00ma[trf_tpl]\u001b[38;5;132;01m}\u001b[39;00m\u001b[38;5;124m'\u001b[39m)\n\u001b[1;32m     32\u001b[0m             trf[trf_tpl] \u001b[38;5;241m=\u001b[39m a[trf_tpl]\n\u001b[1;32m     34\u001b[0m trf\n",
      "\u001b[0;31mIndexError\u001b[0m: index 2 is out of bounds for axis 0 with size 2"
     ]
    }
   ],
   "source": [
    "import functools\n",
    "import operator\n",
    "\n",
    "src_shape = (2, 3, 4)\n",
    "axis = 1\n",
    "\n",
    "src_shape_seq = (0, 1, 2)\n",
    "dst_shape_seq = (src_shape_seq[axis],) + tuple(x for n, x in enumerate(src_shape_seq) if n != axis)\n",
    "\n",
    "res_shape = tuple(x for n, x in enumerate(src_shape) if n != axis)\n",
    "res_size = functools.reduce(operator.mul, res_shape)\n",
    "print(f'Result will be with size {res_size} and shape {res_shape}')\n",
    "\n",
    "prc_shape = (src_shape[axis],) + res_shape\n",
    "\n",
    "a = np.arange(0, 48, 2).reshape(src_shape)\n",
    "a\n",
    "\n",
    "res = np.zeros(res_size, dtype=a.dtype).reshape(res_shape)\n",
    "trf = np.zeros(a.size, dtype=a.dtype).reshape(prc_shape)\n",
    "trf\n",
    "\n",
    "src_shape_list = list(src_shape)\n",
    "\n",
    "for i in range(prc_shape[0]):\n",
    "    for j in range(prc_shape[1]):\n",
    "        for k in range(prc_shape[2]):\n",
    "            trf_tpl = (i, j, k)\n",
    "            cur_tpl = tuple([trf_tpl[dst_shape_seq[0]], trf_tpl[dst_shape_seq[1]], trf_tpl[dst_shape_seq[2]]])\n",
    "            print(f'{cur_tpl} -> {trf_tpl}')\n",
    "            print(f'a: {a[trf_tpl]}')\n",
    "            trf[trf_tpl] = a[trf_tpl]\n",
    "\n",
    "trf"
   ]
  },
  {
   "cell_type": "code",
   "execution_count": 161,
   "id": "1a39e67b-d199-4f47-ae3b-05603af66325",
   "metadata": {},
   "outputs": [
    {
     "data": {
      "text/plain": [
       "array([[[ 0,  2,  4,  6],\n",
       "        [ 8, 10, 12, 14],\n",
       "        [16, 18, 20, 22]],\n",
       "\n",
       "       [[24, 26, 28, 30],\n",
       "        [32, 34, 36, 38],\n",
       "        [40, 42, 44, 46]]])"
      ]
     },
     "execution_count": 161,
     "metadata": {},
     "output_type": "execute_result"
    },
    {
     "data": {
      "text/plain": [
       "46"
      ]
     },
     "execution_count": 161,
     "metadata": {},
     "output_type": "execute_result"
    }
   ],
   "source": [
    "a = np.arange(0, 48, 2).reshape(src_shape)\n",
    "a\n",
    "l = [1, 2, 3]\n",
    "a[tuple(l)]"
   ]
  },
  {
   "cell_type": "code",
   "execution_count": null,
   "id": "8a2bc1fb-88ef-45f0-b68e-589db6e665c4",
   "metadata": {},
   "outputs": [],
   "source": []
  }
 ],
 "metadata": {
  "kernelspec": {
   "display_name": "Python 3 (ipykernel)",
   "language": "python",
   "name": "python3"
  },
  "language_info": {
   "codemirror_mode": {
    "name": "ipython",
    "version": 3
   },
   "file_extension": ".py",
   "mimetype": "text/x-python",
   "name": "python",
   "nbconvert_exporter": "python",
   "pygments_lexer": "ipython3",
   "version": "3.10.2"
  }
 },
 "nbformat": 4,
 "nbformat_minor": 5
}
