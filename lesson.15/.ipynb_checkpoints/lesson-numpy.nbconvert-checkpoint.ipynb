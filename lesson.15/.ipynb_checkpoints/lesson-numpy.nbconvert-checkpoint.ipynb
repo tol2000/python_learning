{
 "cells": [
  {
   "cell_type": "code",
   "execution_count": 1,
   "metadata": {
    "collapsed": false,
    "execution": {
     "iopub.execute_input": "2020-09-22T18:57:59.017322Z",
     "iopub.status.busy": "2020-09-22T18:57:59.015047Z",
     "iopub.status.idle": "2020-09-22T18:57:59.152788Z",
     "shell.execute_reply": "2020-09-22T18:57:59.153700Z"
    },
    "pycharm": {
     "name": "#%%\n"
    }
   },
   "outputs": [
    {
     "name": "stdout",
     "output_type": "stream",
     "text": [
      "Help on package numpy.doc in numpy:\n",
      "\n",
      "NAME\n",
      "    numpy.doc\n",
      "\n",
      "DESCRIPTION\n",
      "    Topical documentation\n",
      "    =====================\n",
      "    \n",
      "    The following topics are available:\n",
      "    \n",
      "    - basics\n",
      "    - broadcasting\n",
      "    - byteswapping\n",
      "    - constants\n",
      "    - creation\n",
      "    - dispatch\n",
      "    - glossary\n",
      "    - indexing\n",
      "    - internals\n",
      "    - misc\n",
      "    - structured_arrays\n",
      "    - subclassing\n",
      "    - ufuncs\n",
      "    \n",
      "    You can view them by\n",
      "    \n",
      "    >>> help(np.doc.TOPIC)                                      #doctest: +SKIP\n",
      "\n",
      "PACKAGE CONTENTS\n",
      "    basics\n",
      "    broadcasting\n",
      "    byteswapping\n",
      "    constants\n",
      "    creation\n",
      "    dispatch\n",
      "    glossary\n",
      "    indexing\n",
      "    internals\n",
      "    misc\n",
      "    structured_arrays\n",
      "    subclassing\n",
      "    ufuncs\n",
      "\n",
      "DATA\n",
      "    __all__ = ['basics', 'broadcasting', 'byteswapping', 'constants', 'cre...\n",
      "\n",
      "FILE\n",
      "    /home/suren/Documents/Otus/lessons/PythonBasic.2020-07/15.numpy/venv/lib/python3.8/site-packages/numpy/doc/__init__.py\n",
      "\n",
      "\n"
     ]
    }
   ],
   "source": [
    "import numpy as np\n",
    "from numpy import doc\n",
    "\n",
    "help(doc)"
   ]
  },
  {
   "cell_type": "code",
   "execution_count": 2,
   "metadata": {
    "collapsed": false,
    "execution": {
     "iopub.execute_input": "2020-09-22T18:57:59.161495Z",
     "iopub.status.busy": "2020-09-22T18:57:59.160646Z",
     "iopub.status.idle": "2020-09-22T18:57:59.176863Z",
     "shell.execute_reply": "2020-09-22T18:57:59.177474Z"
    },
    "pycharm": {
     "name": "#%%\n"
    }
   },
   "outputs": [
    {
     "data": {
      "text/plain": [
       "<function numpy.array>"
      ]
     },
     "execution_count": 1,
     "metadata": {},
     "output_type": "execute_result"
    }
   ],
   "source": [
    "np.array"
   ]
  },
  {
   "cell_type": "code",
   "execution_count": 3,
   "metadata": {
    "collapsed": false,
    "execution": {
     "iopub.execute_input": "2020-09-22T18:57:59.181372Z",
     "iopub.status.busy": "2020-09-22T18:57:59.180913Z",
     "iopub.status.idle": "2020-09-22T18:57:59.183470Z",
     "shell.execute_reply": "2020-09-22T18:57:59.183011Z"
    },
    "pycharm": {
     "name": "#%%\n"
    }
   },
   "outputs": [
    {
     "name": "stdout",
     "output_type": "stream",
     "text": [
      "array([1, 2, 3])\n",
      "<class 'numpy.ndarray'>\n"
     ]
    }
   ],
   "source": [
    "a = np.array([1, 2, 3])\n",
    "print(repr(a))\n",
    "print(type(a))"
   ]
  },
  {
   "cell_type": "code",
   "execution_count": 4,
   "metadata": {
    "collapsed": false,
    "execution": {
     "iopub.execute_input": "2020-09-22T18:57:59.186766Z",
     "iopub.status.busy": "2020-09-22T18:57:59.186268Z",
     "iopub.status.idle": "2020-09-22T18:57:59.187912Z",
     "shell.execute_reply": "2020-09-22T18:57:59.188332Z"
    },
    "pycharm": {
     "name": "#%%\n"
    }
   },
   "outputs": [
    {
     "name": "stdout",
     "output_type": "stream",
     "text": [
      "1\n",
      "(3,)\n"
     ]
    }
   ],
   "source": [
    "print(a.ndim)\n",
    "print(a.shape)"
   ]
  },
  {
   "cell_type": "code",
   "execution_count": 5,
   "metadata": {
    "collapsed": false,
    "execution": {
     "iopub.execute_input": "2020-09-22T18:57:59.191706Z",
     "iopub.status.busy": "2020-09-22T18:57:59.190954Z",
     "iopub.status.idle": "2020-09-22T18:57:59.193782Z",
     "shell.execute_reply": "2020-09-22T18:57:59.193317Z"
    },
    "pycharm": {
     "name": "#%%\n"
    }
   },
   "outputs": [
    {
     "data": {
      "text/plain": [
       "dtype('int64')"
      ]
     },
     "execution_count": 1,
     "metadata": {},
     "output_type": "execute_result"
    }
   ],
   "source": [
    "a.dtype"
   ]
  },
  {
   "cell_type": "code",
   "execution_count": 6,
   "metadata": {
    "collapsed": false,
    "execution": {
     "iopub.execute_input": "2020-09-22T18:57:59.197174Z",
     "iopub.status.busy": "2020-09-22T18:57:59.196663Z",
     "iopub.status.idle": "2020-09-22T18:57:59.199761Z",
     "shell.execute_reply": "2020-09-22T18:57:59.199266Z"
    },
    "pycharm": {
     "name": "#%%\n"
    }
   },
   "outputs": [
    {
     "data": {
      "text/plain": [
       "8"
      ]
     },
     "execution_count": 1,
     "metadata": {},
     "output_type": "execute_result"
    }
   ],
   "source": [
    "a.itemsize"
   ]
  },
  {
   "cell_type": "code",
   "execution_count": 7,
   "metadata": {
    "collapsed": false,
    "execution": {
     "iopub.execute_input": "2020-09-22T18:57:59.203362Z",
     "iopub.status.busy": "2020-09-22T18:57:59.202924Z",
     "iopub.status.idle": "2020-09-22T18:57:59.205523Z",
     "shell.execute_reply": "2020-09-22T18:57:59.205875Z"
    },
    "pycharm": {
     "name": "#%%\n"
    }
   },
   "outputs": [
    {
     "data": {
      "text/plain": [
       "array([[4, 5, 6],\n",
       "       [7, 8, 9]])"
      ]
     },
     "execution_count": 1,
     "metadata": {},
     "output_type": "execute_result"
    }
   ],
   "source": [
    "b = np.array([[4, 5, 6], [7, 8, 9]])\n",
    "b"
   ]
  },
  {
   "cell_type": "code",
   "execution_count": 8,
   "metadata": {
    "collapsed": false,
    "execution": {
     "iopub.execute_input": "2020-09-22T18:57:59.209406Z",
     "iopub.status.busy": "2020-09-22T18:57:59.208951Z",
     "iopub.status.idle": "2020-09-22T18:57:59.211164Z",
     "shell.execute_reply": "2020-09-22T18:57:59.210775Z"
    },
    "pycharm": {
     "name": "#%%\n"
    }
   },
   "outputs": [
    {
     "name": "stdout",
     "output_type": "stream",
     "text": [
      "6\n",
      "2\n",
      "(2, 3)\n"
     ]
    }
   ],
   "source": [
    "print(b.size)\n",
    "print(b.ndim)\n",
    "print(b.shape)"
   ]
  },
  {
   "cell_type": "code",
   "execution_count": 9,
   "metadata": {
    "collapsed": false,
    "execution": {
     "iopub.execute_input": "2020-09-22T18:57:59.214598Z",
     "iopub.status.busy": "2020-09-22T18:57:59.214147Z",
     "iopub.status.idle": "2020-09-22T18:57:59.216834Z",
     "shell.execute_reply": "2020-09-22T18:57:59.216371Z"
    },
    "pycharm": {
     "name": "#%%\n"
    }
   },
   "outputs": [
    {
     "name": "stdout",
     "output_type": "stream",
     "text": [
      "dtype('int64')\n",
      "int64\n",
      "int32\n",
      "4\n"
     ]
    }
   ],
   "source": [
    "print(repr(b.dtype))\n",
    "print(b.dtype.name)\n",
    "b.dtype = np.int32\n",
    "print(b.dtype)\n",
    "print(b.itemsize)"
   ]
  },
  {
   "cell_type": "code",
   "execution_count": 10,
   "metadata": {
    "collapsed": false,
    "execution": {
     "iopub.execute_input": "2020-09-22T18:57:59.220414Z",
     "iopub.status.busy": "2020-09-22T18:57:59.219973Z",
     "iopub.status.idle": "2020-09-22T18:57:59.222419Z",
     "shell.execute_reply": "2020-09-22T18:57:59.222010Z"
    },
    "pycharm": {
     "name": "#%%\n"
    }
   },
   "outputs": [
    {
     "name": "stdout",
     "output_type": "stream",
     "text": [
      "[ 0  1  2  3  4  5  6  7  8  9 10 11 12 13 14]\n",
      "[[ 0  1  2  3  4]\n",
      " [ 5  6  7  8  9]\n",
      " [10 11 12 13 14]]\n"
     ]
    }
   ],
   "source": [
    "a = np.arange(15)\n",
    "print(a)\n",
    "a = a.reshape(3, 5)\n",
    "print(a)"
   ]
  },
  {
   "cell_type": "code",
   "execution_count": 11,
   "metadata": {
    "collapsed": false,
    "execution": {
     "iopub.execute_input": "2020-09-22T18:57:59.225766Z",
     "iopub.status.busy": "2020-09-22T18:57:59.225151Z",
     "iopub.status.idle": "2020-09-22T18:57:59.227185Z",
     "shell.execute_reply": "2020-09-22T18:57:59.227537Z"
    },
    "pycharm": {
     "name": "#%%\n"
    }
   },
   "outputs": [
    {
     "name": "stdout",
     "output_type": "stream",
     "text": [
      "[[ 15  20  25  30  35]\n",
      " [ 40  45  50  55  60]\n",
      " [ 65  70  75  80  85]\n",
      " [ 90  95 100 105 110]]\n"
     ]
    }
   ],
   "source": [
    "b = np.arange(15, 115, 5).reshape(4, 5)\n",
    "print(b)"
   ]
  },
  {
   "cell_type": "code",
   "execution_count": 12,
   "metadata": {
    "collapsed": false,
    "execution": {
     "iopub.execute_input": "2020-09-22T18:57:59.230730Z",
     "iopub.status.busy": "2020-09-22T18:57:59.230283Z",
     "iopub.status.idle": "2020-09-22T18:57:59.232421Z",
     "shell.execute_reply": "2020-09-22T18:57:59.232780Z"
    },
    "pycharm": {
     "name": "#%%\n"
    }
   },
   "outputs": [
    {
     "name": "stdout",
     "output_type": "stream",
     "text": [
      "(4, 5)\n",
      "2\n",
      "20\n",
      "int64\n"
     ]
    }
   ],
   "source": [
    "print(b.shape)\n",
    "print(b.ndim)\n",
    "print(b.size)\n",
    "print(b.dtype)"
   ]
  },
  {
   "cell_type": "code",
   "execution_count": 13,
   "metadata": {
    "collapsed": false,
    "execution": {
     "iopub.execute_input": "2020-09-22T18:57:59.236621Z",
     "iopub.status.busy": "2020-09-22T18:57:59.236062Z",
     "iopub.status.idle": "2020-09-22T18:57:59.239406Z",
     "shell.execute_reply": "2020-09-22T18:57:59.239821Z"
    },
    "pycharm": {
     "name": "#%%\n"
    }
   },
   "outputs": [
    {
     "name": "stdout",
     "output_type": "stream",
     "text": [
      "[1.  1.5 2.  2.5 3.  3.5 4.  4.5]\n",
      "8\n"
     ]
    }
   ],
   "source": [
    "a = np.arange(1, 5, 0.5)\n",
    "print(a)\n",
    "print(a.size)"
   ]
  },
  {
   "cell_type": "code",
   "execution_count": 14,
   "metadata": {
    "collapsed": false,
    "execution": {
     "iopub.execute_input": "2020-09-22T18:57:59.243782Z",
     "iopub.status.busy": "2020-09-22T18:57:59.243310Z",
     "iopub.status.idle": "2020-09-22T18:57:59.246034Z",
     "shell.execute_reply": "2020-09-22T18:57:59.245602Z"
    },
    "pycharm": {
     "name": "#%%\n"
    }
   },
   "outputs": [
    {
     "name": "stdout",
     "output_type": "stream",
     "text": [
      "[0.  0.3 0.6 0.9 1.2 1.5 1.8]\n",
      "7\n"
     ]
    }
   ],
   "source": [
    "a = np.arange(0, 2, 0.3)\n",
    "print(a)\n",
    "print(a.size)"
   ]
  },
  {
   "cell_type": "code",
   "execution_count": 15,
   "metadata": {
    "collapsed": false,
    "execution": {
     "iopub.execute_input": "2020-09-22T18:57:59.249952Z",
     "iopub.status.busy": "2020-09-22T18:57:59.249450Z",
     "iopub.status.idle": "2020-09-22T18:57:59.253374Z",
     "shell.execute_reply": "2020-09-22T18:57:59.252808Z"
    },
    "pycharm": {
     "name": "#%%\n"
    }
   },
   "outputs": [
    {
     "data": {
      "text/plain": [
       "array([0.        , 0.31578947, 0.63157895, 0.94736842, 1.26315789,\n",
       "       1.57894737, 1.89473684, 2.21052632, 2.52631579, 2.84210526,\n",
       "       3.15789474, 3.47368421, 3.78947368, 4.10526316, 4.42105263,\n",
       "       4.73684211, 5.05263158, 5.36842105, 5.68421053, 6.        ])"
      ]
     },
     "execution_count": 1,
     "metadata": {},
     "output_type": "execute_result"
    }
   ],
   "source": [
    "a = np.linspace(0, 6, 20)\n",
    "a"
   ]
  },
  {
   "cell_type": "code",
   "execution_count": 16,
   "metadata": {
    "collapsed": false,
    "execution": {
     "iopub.execute_input": "2020-09-22T18:57:59.257280Z",
     "iopub.status.busy": "2020-09-22T18:57:59.256796Z",
     "iopub.status.idle": "2020-09-22T18:57:59.258903Z",
     "shell.execute_reply": "2020-09-22T18:57:59.259285Z"
    },
    "pycharm": {
     "name": "#%%\n"
    }
   },
   "outputs": [
    {
     "name": "stdout",
     "output_type": "stream",
     "text": [
      "[0 1 2 3 4 5 6 7 8 9]\n",
      "[10 11 12 13 14 15 16 17 18 19]\n"
     ]
    }
   ],
   "source": [
    "a = np.arange(10)\n",
    "b = np.arange(10, 20)\n",
    "\n",
    "print(a)\n",
    "print(b)"
   ]
  },
  {
   "cell_type": "code",
   "execution_count": 17,
   "metadata": {
    "collapsed": false,
    "execution": {
     "iopub.execute_input": "2020-09-22T18:57:59.263405Z",
     "iopub.status.busy": "2020-09-22T18:57:59.262914Z",
     "iopub.status.idle": "2020-09-22T18:57:59.266097Z",
     "shell.execute_reply": "2020-09-22T18:57:59.265552Z"
    },
    "pycharm": {
     "name": "#%%\n"
    }
   },
   "outputs": [
    {
     "data": {
      "text/plain": [
       "array([0., 0., 0., 0., 0., 0., 0., 0., 0., 0.])"
      ]
     },
     "execution_count": 1,
     "metadata": {},
     "output_type": "execute_result"
    }
   ],
   "source": [
    "SIZE = 10\n",
    "SHAPE = (SIZE, )\n",
    "\n",
    "res = np.zeros(SHAPE)\n",
    "res"
   ]
  },
  {
   "cell_type": "code",
   "execution_count": 18,
   "metadata": {
    "collapsed": false,
    "execution": {
     "iopub.execute_input": "2020-09-22T18:57:59.269786Z",
     "iopub.status.busy": "2020-09-22T18:57:59.269285Z",
     "iopub.status.idle": "2020-09-22T18:57:59.272257Z",
     "shell.execute_reply": "2020-09-22T18:57:59.271750Z"
    },
    "pycharm": {
     "name": "#%%\n"
    }
   },
   "outputs": [
    {
     "data": {
      "text/plain": [
       "dtype('float64')"
      ]
     },
     "execution_count": 1,
     "metadata": {},
     "output_type": "execute_result"
    }
   ],
   "source": [
    "res.dtype"
   ]
  },
  {
   "cell_type": "code",
   "execution_count": 19,
   "metadata": {
    "collapsed": false,
    "execution": {
     "iopub.execute_input": "2020-09-22T18:57:59.275902Z",
     "iopub.status.busy": "2020-09-22T18:57:59.275405Z",
     "iopub.status.idle": "2020-09-22T18:57:59.278494Z",
     "shell.execute_reply": "2020-09-22T18:57:59.277960Z"
    },
    "pycharm": {
     "name": "#%%\n"
    }
   },
   "outputs": [
    {
     "data": {
      "text/plain": [
       "array([0, 0, 0, 0, 0, 0, 0, 0, 0, 0])"
      ]
     },
     "execution_count": 1,
     "metadata": {},
     "output_type": "execute_result"
    }
   ],
   "source": [
    "res = np.zeros(SHAPE, dtype=a.dtype)\n",
    "res"
   ]
  },
  {
   "cell_type": "code",
   "execution_count": 20,
   "metadata": {
    "collapsed": false,
    "execution": {
     "iopub.execute_input": "2020-09-22T18:57:59.281876Z",
     "iopub.status.busy": "2020-09-22T18:57:59.281375Z",
     "iopub.status.idle": "2020-09-22T18:57:59.283597Z",
     "shell.execute_reply": "2020-09-22T18:57:59.284057Z"
    },
    "pycharm": {
     "name": "#%%\n"
    }
   },
   "outputs": [
    {
     "name": "stdout",
     "output_type": "stream",
     "text": [
      "int64\n"
     ]
    }
   ],
   "source": [
    "print(res.dtype)"
   ]
  },
  {
   "cell_type": "code",
   "execution_count": 21,
   "metadata": {
    "collapsed": false,
    "execution": {
     "iopub.execute_input": "2020-09-22T18:57:59.288050Z",
     "iopub.status.busy": "2020-09-22T18:57:59.287539Z",
     "iopub.status.idle": "2020-09-22T18:57:59.290092Z",
     "shell.execute_reply": "2020-09-22T18:57:59.290504Z"
    },
    "pycharm": {
     "name": "#%%\n"
    }
   },
   "outputs": [
    {
     "data": {
      "text/plain": [
       "array([10, 12, 14, 16, 18, 20, 22, 24, 26, 28])"
      ]
     },
     "execution_count": 1,
     "metadata": {},
     "output_type": "execute_result"
    }
   ],
   "source": [
    "for i in range(SIZE):\n",
    "    res[i] = a[i] + b[i]\n",
    "\n",
    "res"
   ]
  },
  {
   "cell_type": "code",
   "execution_count": 22,
   "metadata": {
    "collapsed": false,
    "execution": {
     "iopub.execute_input": "2020-09-22T18:57:59.294040Z",
     "iopub.status.busy": "2020-09-22T18:57:59.293517Z",
     "iopub.status.idle": "2020-09-22T18:57:59.296903Z",
     "shell.execute_reply": "2020-09-22T18:57:59.296450Z"
    },
    "pycharm": {
     "name": "#%%\n"
    }
   },
   "outputs": [
    {
     "data": {
      "text/plain": [
       "array([10, 12, 14, 16, 18, 20, 22, 24, 26, 28])"
      ]
     },
     "execution_count": 1,
     "metadata": {},
     "output_type": "execute_result"
    }
   ],
   "source": [
    "a + b"
   ]
  },
  {
   "cell_type": "code",
   "execution_count": 23,
   "metadata": {
    "collapsed": false,
    "execution": {
     "iopub.execute_input": "2020-09-22T18:57:59.302096Z",
     "iopub.status.busy": "2020-09-22T18:57:59.300901Z",
     "iopub.status.idle": "2020-09-22T18:57:59.303861Z",
     "shell.execute_reply": "2020-09-22T18:57:59.304371Z"
    },
    "pycharm": {
     "name": "#%%\n"
    }
   },
   "outputs": [
    {
     "data": {
      "text/plain": [
       "array([  0,  11,  24,  39,  56,  75,  96, 119, 144, 171])"
      ]
     },
     "execution_count": 1,
     "metadata": {},
     "output_type": "execute_result"
    }
   ],
   "source": [
    "a * b"
   ]
  },
  {
   "cell_type": "code",
   "execution_count": 24,
   "metadata": {
    "collapsed": false,
    "execution": {
     "iopub.execute_input": "2020-09-22T18:57:59.309009Z",
     "iopub.status.busy": "2020-09-22T18:57:59.308472Z",
     "iopub.status.idle": "2020-09-22T18:57:59.311511Z",
     "shell.execute_reply": "2020-09-22T18:57:59.310819Z"
    },
    "pycharm": {
     "name": "#%%\n"
    }
   },
   "outputs": [
    {
     "name": "stdout",
     "output_type": "stream",
     "text": [
      "[[1 2 3]\n",
      " [4 5 6]]\n",
      "[[ 9 10 11]\n",
      " [12 13 14]]\n"
     ]
    }
   ],
   "source": [
    "SHAPE = 2, 3\n",
    "a = np.arange(1, 7).reshape(SHAPE)\n",
    "b = np.arange(9, 15).reshape(SHAPE)\n",
    "\n",
    "print(a)\n",
    "print(b)"
   ]
  },
  {
   "cell_type": "code",
   "execution_count": 25,
   "metadata": {
    "collapsed": false,
    "execution": {
     "iopub.execute_input": "2020-09-22T18:57:59.316299Z",
     "iopub.status.busy": "2020-09-22T18:57:59.315741Z",
     "iopub.status.idle": "2020-09-22T18:57:59.319349Z",
     "shell.execute_reply": "2020-09-22T18:57:59.318781Z"
    },
    "pycharm": {
     "name": "#%%\n"
    }
   },
   "outputs": [
    {
     "data": {
      "text/plain": [
       "array([[ 9, 20, 33],\n",
       "       [48, 65, 84]])"
      ]
     },
     "execution_count": 1,
     "metadata": {},
     "output_type": "execute_result"
    }
   ],
   "source": [
    "a * b"
   ]
  },
  {
   "cell_type": "code",
   "execution_count": 26,
   "metadata": {
    "collapsed": false,
    "execution": {
     "iopub.execute_input": "2020-09-22T18:57:59.323379Z",
     "iopub.status.busy": "2020-09-22T18:57:59.322841Z",
     "iopub.status.idle": "2020-09-22T18:57:59.326033Z",
     "shell.execute_reply": "2020-09-22T18:57:59.325553Z"
    },
    "pycharm": {
     "name": "#%%\n"
    }
   },
   "outputs": [
    {
     "data": {
      "text/plain": [
       "array([[8, 8, 8],\n",
       "       [8, 8, 8]])"
      ]
     },
     "execution_count": 1,
     "metadata": {},
     "output_type": "execute_result"
    }
   ],
   "source": [
    "b - a"
   ]
  },
  {
   "cell_type": "code",
   "execution_count": 27,
   "metadata": {
    "collapsed": false,
    "execution": {
     "iopub.execute_input": "2020-09-22T18:57:59.329783Z",
     "iopub.status.busy": "2020-09-22T18:57:59.329245Z",
     "iopub.status.idle": "2020-09-22T18:57:59.331931Z",
     "shell.execute_reply": "2020-09-22T18:57:59.331360Z"
    },
    "pycharm": {
     "name": "#%%\n"
    }
   },
   "outputs": [],
   "source": [
    "a = np.arange(7)\n",
    "b = np.arange(9)\n",
    "\n",
    "# expected exception\n",
    "# a + b"
   ]
  },
  {
   "cell_type": "code",
   "execution_count": 28,
   "metadata": {
    "collapsed": false,
    "execution": {
     "iopub.execute_input": "2020-09-22T18:57:59.336588Z",
     "iopub.status.busy": "2020-09-22T18:57:59.335955Z",
     "iopub.status.idle": "2020-09-22T18:57:59.339344Z",
     "shell.execute_reply": "2020-09-22T18:57:59.339813Z"
    },
    "pycharm": {
     "name": "#%%\n"
    }
   },
   "outputs": [
    {
     "name": "stderr",
     "output_type": "stream",
     "text": [
      "<ipython-input-1-c0b5946fc56e>:1: RuntimeWarning: divide by zero encountered in true_divide\n",
      "  np.arange(10, 20) / np.arange(10)\n"
     ]
    },
    {
     "data": {
      "text/plain": [
       "array([        inf, 11.        ,  6.        ,  4.33333333,  3.5       ,\n",
       "        3.        ,  2.66666667,  2.42857143,  2.25      ,  2.11111111])"
      ]
     },
     "execution_count": 1,
     "metadata": {},
     "output_type": "execute_result"
    }
   ],
   "source": [
    "np.arange(10, 20) / np.arange(10)"
   ]
  },
  {
   "cell_type": "code",
   "execution_count": 29,
   "metadata": {
    "collapsed": false,
    "execution": {
     "iopub.execute_input": "2020-09-22T18:57:59.345211Z",
     "iopub.status.busy": "2020-09-22T18:57:59.344252Z",
     "iopub.status.idle": "2020-09-22T18:57:59.348864Z",
     "shell.execute_reply": "2020-09-22T18:57:59.348262Z"
    },
    "pycharm": {
     "name": "#%%\n"
    }
   },
   "outputs": [
    {
     "name": "stdout",
     "output_type": "stream",
     "text": [
      "[0 1 2 3 4 5 6 7 8 9]\n"
     ]
    },
    {
     "data": {
      "text/plain": [
       "array([1, 1, 1, 1, 1, 1, 1, 1, 1])"
      ]
     },
     "execution_count": 1,
     "metadata": {},
     "output_type": "execute_result"
    }
   ],
   "source": [
    "a = np.arange(10)\n",
    "print(a)\n",
    "np.diff(a)"
   ]
  },
  {
   "cell_type": "code",
   "execution_count": 30,
   "metadata": {
    "collapsed": false,
    "execution": {
     "iopub.execute_input": "2020-09-22T18:57:59.354946Z",
     "iopub.status.busy": "2020-09-22T18:57:59.354225Z",
     "iopub.status.idle": "2020-09-22T18:57:59.357537Z",
     "shell.execute_reply": "2020-09-22T18:57:59.358153Z"
    },
    "pycharm": {
     "name": "#%%\n"
    }
   },
   "outputs": [
    {
     "name": "stdout",
     "output_type": "stream",
     "text": [
      "[[10 15 20 25]\n",
      " [30 35 40 45]]\n"
     ]
    },
    {
     "data": {
      "text/plain": [
       "array([[5, 5, 5],\n",
       "       [5, 5, 5]])"
      ]
     },
     "execution_count": 1,
     "metadata": {},
     "output_type": "execute_result"
    }
   ],
   "source": [
    "a = np.arange(10, 50, 5).reshape(2, 4)\n",
    "print(a)\n",
    "np.diff(a)"
   ]
  },
  {
   "cell_type": "code",
   "execution_count": 31,
   "metadata": {
    "collapsed": false,
    "execution": {
     "iopub.execute_input": "2020-09-22T18:57:59.363134Z",
     "iopub.status.busy": "2020-09-22T18:57:59.362544Z",
     "iopub.status.idle": "2020-09-22T18:57:59.366051Z",
     "shell.execute_reply": "2020-09-22T18:57:59.366668Z"
    },
    "pycharm": {
     "name": "#%%\n"
    }
   },
   "outputs": [
    {
     "data": {
      "text/plain": [
       "array([[ 30,  45,  60,  75],\n",
       "       [ 90, 105, 120, 135]])"
      ]
     },
     "execution_count": 1,
     "metadata": {},
     "output_type": "execute_result"
    }
   ],
   "source": [
    "a * 3"
   ]
  },
  {
   "cell_type": "code",
   "execution_count": 32,
   "metadata": {
    "collapsed": false,
    "execution": {
     "iopub.execute_input": "2020-09-22T18:57:59.370948Z",
     "iopub.status.busy": "2020-09-22T18:57:59.370369Z",
     "iopub.status.idle": "2020-09-22T18:57:59.373851Z",
     "shell.execute_reply": "2020-09-22T18:57:59.373272Z"
    },
    "pycharm": {
     "name": "#%%\n"
    }
   },
   "outputs": [
    {
     "data": {
      "text/plain": [
       "array([[20, 20, 20],\n",
       "       [20, 20, 20]])"
      ]
     },
     "execution_count": 1,
     "metadata": {},
     "output_type": "execute_result"
    }
   ],
   "source": [
    "np.diff(a * 4)"
   ]
  },
  {
   "cell_type": "code",
   "execution_count": 33,
   "metadata": {
    "collapsed": false,
    "execution": {
     "iopub.execute_input": "2020-09-22T18:57:59.377864Z",
     "iopub.status.busy": "2020-09-22T18:57:59.377313Z",
     "iopub.status.idle": "2020-09-22T18:57:59.380758Z",
     "shell.execute_reply": "2020-09-22T18:57:59.380194Z"
    },
    "pycharm": {
     "name": "#%%\n"
    }
   },
   "outputs": [
    {
     "data": {
      "text/plain": [
       "220"
      ]
     },
     "execution_count": 1,
     "metadata": {},
     "output_type": "execute_result"
    }
   ],
   "source": [
    "np.sum(a)"
   ]
  },
  {
   "cell_type": "code",
   "execution_count": 34,
   "metadata": {
    "collapsed": false,
    "execution": {
     "iopub.execute_input": "2020-09-22T18:57:59.385167Z",
     "iopub.status.busy": "2020-09-22T18:57:59.384557Z",
     "iopub.status.idle": "2020-09-22T18:57:59.387945Z",
     "shell.execute_reply": "2020-09-22T18:57:59.387376Z"
    },
    "pycharm": {
     "name": "#%%\n"
    }
   },
   "outputs": [
    {
     "data": {
      "text/plain": [
       "660"
      ]
     },
     "execution_count": 1,
     "metadata": {},
     "output_type": "execute_result"
    }
   ],
   "source": [
    "np.sum(a * 3)"
   ]
  },
  {
   "cell_type": "code",
   "execution_count": 35,
   "metadata": {
    "collapsed": false,
    "execution": {
     "iopub.execute_input": "2020-09-22T18:57:59.391832Z",
     "iopub.status.busy": "2020-09-22T18:57:59.391214Z",
     "iopub.status.idle": "2020-09-22T18:57:59.394153Z",
     "shell.execute_reply": "2020-09-22T18:57:59.394718Z"
    },
    "pycharm": {
     "name": "#%%\n"
    }
   },
   "outputs": [
    {
     "data": {
      "text/plain": [
       "2"
      ]
     },
     "execution_count": 1,
     "metadata": {},
     "output_type": "execute_result"
    }
   ],
   "source": [
    "a.ndim"
   ]
  },
  {
   "cell_type": "code",
   "execution_count": 36,
   "metadata": {
    "collapsed": false,
    "execution": {
     "iopub.execute_input": "2020-09-22T18:57:59.399380Z",
     "iopub.status.busy": "2020-09-22T18:57:59.398567Z",
     "iopub.status.idle": "2020-09-22T18:57:59.401875Z",
     "shell.execute_reply": "2020-09-22T18:57:59.401252Z"
    },
    "pycharm": {
     "name": "#%%\n"
    }
   },
   "outputs": [
    {
     "data": {
      "text/plain": [
       "array([[10, 15, 20, 25],\n",
       "       [30, 35, 40, 45]])"
      ]
     },
     "execution_count": 1,
     "metadata": {},
     "output_type": "execute_result"
    }
   ],
   "source": [
    "a"
   ]
  },
  {
   "cell_type": "code",
   "execution_count": 37,
   "metadata": {
    "collapsed": false,
    "execution": {
     "iopub.execute_input": "2020-09-22T18:57:59.405742Z",
     "iopub.status.busy": "2020-09-22T18:57:59.405249Z",
     "iopub.status.idle": "2020-09-22T18:57:59.407860Z",
     "shell.execute_reply": "2020-09-22T18:57:59.408307Z"
    },
    "pycharm": {
     "name": "#%%\n"
    }
   },
   "outputs": [
    {
     "data": {
      "text/plain": [
       "array([40, 50, 60, 70])"
      ]
     },
     "execution_count": 1,
     "metadata": {},
     "output_type": "execute_result"
    }
   ],
   "source": [
    "np.sum(a, axis=0)"
   ]
  },
  {
   "cell_type": "code",
   "execution_count": 38,
   "metadata": {
    "collapsed": false,
    "execution": {
     "iopub.execute_input": "2020-09-22T18:57:59.411889Z",
     "iopub.status.busy": "2020-09-22T18:57:59.411405Z",
     "iopub.status.idle": "2020-09-22T18:57:59.413929Z",
     "shell.execute_reply": "2020-09-22T18:57:59.414403Z"
    },
    "pycharm": {
     "name": "#%%\n"
    }
   },
   "outputs": [
    {
     "data": {
      "text/plain": [
       "array([ 70, 150])"
      ]
     },
     "execution_count": 1,
     "metadata": {},
     "output_type": "execute_result"
    }
   ],
   "source": [
    "np.sum(a, axis=1)"
   ]
  },
  {
   "cell_type": "code",
   "execution_count": 39,
   "metadata": {
    "collapsed": false,
    "execution": {
     "iopub.execute_input": "2020-09-22T18:57:59.417722Z",
     "iopub.status.busy": "2020-09-22T18:57:59.417264Z",
     "iopub.status.idle": "2020-09-22T18:57:59.420002Z",
     "shell.execute_reply": "2020-09-22T18:57:59.419520Z"
    },
    "pycharm": {
     "name": "#%%\n"
    }
   },
   "outputs": [
    {
     "data": {
      "text/plain": [
       "141750000000"
      ]
     },
     "execution_count": 1,
     "metadata": {},
     "output_type": "execute_result"
    }
   ],
   "source": [
    "np.prod(a)"
   ]
  },
  {
   "cell_type": "code",
   "execution_count": 40,
   "metadata": {
    "collapsed": false,
    "execution": {
     "iopub.execute_input": "2020-09-22T18:57:59.423414Z",
     "iopub.status.busy": "2020-09-22T18:57:59.422924Z",
     "iopub.status.idle": "2020-09-22T18:57:59.425927Z",
     "shell.execute_reply": "2020-09-22T18:57:59.425521Z"
    },
    "pycharm": {
     "name": "#%%\n"
    }
   },
   "outputs": [
    {
     "data": {
      "text/plain": [
       "array([ 300,  525,  800, 1125])"
      ]
     },
     "execution_count": 1,
     "metadata": {},
     "output_type": "execute_result"
    }
   ],
   "source": [
    "np.prod(a, axis=0)"
   ]
  },
  {
   "cell_type": "code",
   "execution_count": 41,
   "metadata": {
    "collapsed": false,
    "execution": {
     "iopub.execute_input": "2020-09-22T18:57:59.429323Z",
     "iopub.status.busy": "2020-09-22T18:57:59.428866Z",
     "iopub.status.idle": "2020-09-22T18:57:59.431687Z",
     "shell.execute_reply": "2020-09-22T18:57:59.432053Z"
    },
    "pycharm": {
     "name": "#%%\n"
    }
   },
   "outputs": [
    {
     "data": {
      "text/plain": [
       "array([  75000, 1890000])"
      ]
     },
     "execution_count": 1,
     "metadata": {},
     "output_type": "execute_result"
    }
   ],
   "source": [
    "np.prod(a, axis=1)"
   ]
  },
  {
   "cell_type": "code",
   "execution_count": 42,
   "metadata": {
    "collapsed": false,
    "execution": {
     "iopub.execute_input": "2020-09-22T18:57:59.435316Z",
     "iopub.status.busy": "2020-09-22T18:57:59.434866Z",
     "iopub.status.idle": "2020-09-22T18:57:59.437973Z",
     "shell.execute_reply": "2020-09-22T18:57:59.437491Z"
    },
    "pycharm": {
     "name": "#%%\n"
    }
   },
   "outputs": [
    {
     "data": {
      "text/plain": [
       "array([[ 100,  225,  400,  625],\n",
       "       [ 900, 1225, 1600, 2025]])"
      ]
     },
     "execution_count": 1,
     "metadata": {},
     "output_type": "execute_result"
    }
   ],
   "source": [
    "a ** 2"
   ]
  },
  {
   "cell_type": "code",
   "execution_count": 43,
   "metadata": {
    "collapsed": false,
    "execution": {
     "iopub.execute_input": "2020-09-22T18:57:59.441516Z",
     "iopub.status.busy": "2020-09-22T18:57:59.441003Z",
     "iopub.status.idle": "2020-09-22T18:57:59.443477Z",
     "shell.execute_reply": "2020-09-22T18:57:59.443954Z"
    },
    "pycharm": {
     "name": "#%%\n"
    }
   },
   "outputs": [
    {
     "data": {
      "text/plain": [
       "array([[3.16227766, 3.87298335, 4.47213595, 5.        ],\n",
       "       [5.47722558, 5.91607978, 6.32455532, 6.70820393]])"
      ]
     },
     "execution_count": 1,
     "metadata": {},
     "output_type": "execute_result"
    }
   ],
   "source": [
    "np.sqrt(a)"
   ]
  },
  {
   "cell_type": "code",
   "execution_count": 44,
   "metadata": {
    "collapsed": false,
    "execution": {
     "iopub.execute_input": "2020-09-22T18:57:59.447710Z",
     "iopub.status.busy": "2020-09-22T18:57:59.447058Z",
     "iopub.status.idle": "2020-09-22T18:57:59.450571Z",
     "shell.execute_reply": "2020-09-22T18:57:59.450007Z"
    },
    "pycharm": {
     "name": "#%%\n"
    }
   },
   "outputs": [
    {
     "data": {
      "text/plain": [
       "array([[False, False, False, False],\n",
       "       [False,  True,  True,  True]])"
      ]
     },
     "execution_count": 1,
     "metadata": {},
     "output_type": "execute_result"
    }
   ],
   "source": [
    "a > 30"
   ]
  },
  {
   "cell_type": "code",
   "execution_count": 45,
   "metadata": {
    "collapsed": false,
    "execution": {
     "iopub.execute_input": "2020-09-22T18:57:59.455208Z",
     "iopub.status.busy": "2020-09-22T18:57:59.454657Z",
     "iopub.status.idle": "2020-09-22T18:57:59.457852Z",
     "shell.execute_reply": "2020-09-22T18:57:59.457326Z"
    },
    "pycharm": {
     "name": "#%%\n"
    }
   },
   "outputs": [
    {
     "data": {
      "text/plain": [
       "array([[10, 15, 20, 25],\n",
       "       [30, 35, 40, 45]])"
      ]
     },
     "execution_count": 1,
     "metadata": {},
     "output_type": "execute_result"
    }
   ],
   "source": [
    "a"
   ]
  },
  {
   "cell_type": "code",
   "execution_count": 46,
   "metadata": {
    "collapsed": false,
    "execution": {
     "iopub.execute_input": "2020-09-22T18:57:59.462178Z",
     "iopub.status.busy": "2020-09-22T18:57:59.461619Z",
     "iopub.status.idle": "2020-09-22T18:57:59.464240Z",
     "shell.execute_reply": "2020-09-22T18:57:59.464754Z"
    },
    "pycharm": {
     "name": "#%%\n"
    }
   },
   "outputs": [
    {
     "data": {
      "text/plain": [
       "array([[40, 45, 50, 55],\n",
       "       [60, 65, 70, 75]])"
      ]
     },
     "execution_count": 1,
     "metadata": {},
     "output_type": "execute_result"
    }
   ],
   "source": [
    "b = np.linspace(40, 75, 8, dtype=np.int64).reshape(2, 4)\n",
    "b"
   ]
  },
  {
   "cell_type": "code",
   "execution_count": 47,
   "metadata": {
    "collapsed": false,
    "execution": {
     "iopub.execute_input": "2020-09-22T18:57:59.468744Z",
     "iopub.status.busy": "2020-09-22T18:57:59.468151Z",
     "iopub.status.idle": "2020-09-22T18:57:59.470669Z",
     "shell.execute_reply": "2020-09-22T18:57:59.471179Z"
    },
    "pycharm": {
     "name": "#%%\n"
    }
   },
   "outputs": [
    {
     "data": {
      "text/plain": [
       "array([[ True,  True,  True,  True],\n",
       "       [ True,  True,  True,  True]])"
      ]
     },
     "execution_count": 1,
     "metadata": {},
     "output_type": "execute_result"
    }
   ],
   "source": [
    "a < b"
   ]
  },
  {
   "cell_type": "code",
   "execution_count": 48,
   "metadata": {
    "collapsed": false,
    "execution": {
     "iopub.execute_input": "2020-09-22T18:57:59.476051Z",
     "iopub.status.busy": "2020-09-22T18:57:59.475520Z",
     "iopub.status.idle": "2020-09-22T18:57:59.478566Z",
     "shell.execute_reply": "2020-09-22T18:57:59.478026Z"
    },
    "pycharm": {
     "name": "#%%\n"
    }
   },
   "outputs": [
    {
     "data": {
      "text/plain": [
       "array([[50, 45, 40, 35],\n",
       "       [30, 25, 20, 15]])"
      ]
     },
     "execution_count": 1,
     "metadata": {},
     "output_type": "execute_result"
    }
   ],
   "source": [
    "b = np.arange(50, 10, -5).reshape(2, 4)\n",
    "b"
   ]
  },
  {
   "cell_type": "code",
   "execution_count": 49,
   "metadata": {
    "collapsed": false,
    "execution": {
     "iopub.execute_input": "2020-09-22T18:57:59.482148Z",
     "iopub.status.busy": "2020-09-22T18:57:59.481633Z",
     "iopub.status.idle": "2020-09-22T18:57:59.484724Z",
     "shell.execute_reply": "2020-09-22T18:57:59.484217Z"
    },
    "pycharm": {
     "name": "#%%\n"
    }
   },
   "outputs": [
    {
     "data": {
      "text/plain": [
       "array([[False, False, False, False],\n",
       "       [False,  True,  True,  True]])"
      ]
     },
     "execution_count": 1,
     "metadata": {},
     "output_type": "execute_result"
    }
   ],
   "source": [
    "a > b"
   ]
  },
  {
   "cell_type": "code",
   "execution_count": 50,
   "metadata": {
    "collapsed": false,
    "execution": {
     "iopub.execute_input": "2020-09-22T18:57:59.488221Z",
     "iopub.status.busy": "2020-09-22T18:57:59.487738Z",
     "iopub.status.idle": "2020-09-22T18:57:59.491037Z",
     "shell.execute_reply": "2020-09-22T18:57:59.490512Z"
    },
    "pycharm": {
     "name": "#%%\n"
    }
   },
   "outputs": [
    {
     "data": {
      "text/plain": [
       "array([[10, 15, 20, 25],\n",
       "       [30, 35, 40, 45]])"
      ]
     },
     "execution_count": 1,
     "metadata": {},
     "output_type": "execute_result"
    }
   ],
   "source": [
    "a"
   ]
  },
  {
   "cell_type": "code",
   "execution_count": 51,
   "metadata": {
    "collapsed": false,
    "execution": {
     "iopub.execute_input": "2020-09-22T18:57:59.494486Z",
     "iopub.status.busy": "2020-09-22T18:57:59.493980Z",
     "iopub.status.idle": "2020-09-22T18:57:59.496250Z",
     "shell.execute_reply": "2020-09-22T18:57:59.496645Z"
    },
    "pycharm": {
     "name": "#%%\n"
    }
   },
   "outputs": [
    {
     "data": {
      "text/plain": [
       "dtype('int64')"
      ]
     },
     "execution_count": 1,
     "metadata": {},
     "output_type": "execute_result"
    }
   ],
   "source": [
    "a.dtype"
   ]
  },
  {
   "cell_type": "code",
   "execution_count": 52,
   "metadata": {
    "collapsed": false,
    "execution": {
     "iopub.execute_input": "2020-09-22T18:57:59.500422Z",
     "iopub.status.busy": "2020-09-22T18:57:59.499931Z",
     "iopub.status.idle": "2020-09-22T18:57:59.503261Z",
     "shell.execute_reply": "2020-09-22T18:57:59.502687Z"
    },
    "pycharm": {
     "name": "#%%\n"
    }
   },
   "outputs": [
    {
     "data": {
      "text/plain": [
       "array([[ 3.33333333,  5.        ,  6.66666667,  8.33333333],\n",
       "       [10.        , 11.66666667, 13.33333333, 15.        ]])"
      ]
     },
     "execution_count": 1,
     "metadata": {},
     "output_type": "execute_result"
    }
   ],
   "source": [
    "a / 3"
   ]
  },
  {
   "cell_type": "code",
   "execution_count": 53,
   "metadata": {
    "collapsed": false,
    "execution": {
     "iopub.execute_input": "2020-09-22T18:57:59.507482Z",
     "iopub.status.busy": "2020-09-22T18:57:59.506894Z",
     "iopub.status.idle": "2020-09-22T18:57:59.509400Z",
     "shell.execute_reply": "2020-09-22T18:57:59.509899Z"
    },
    "pycharm": {
     "name": "#%%\n"
    }
   },
   "outputs": [
    {
     "data": {
      "text/plain": [
       "array([[False, False, False, False],\n",
       "       [False, False, False,  True]])"
      ]
     },
     "execution_count": 1,
     "metadata": {},
     "output_type": "execute_result"
    }
   ],
   "source": [
    "(a / 3) >= b"
   ]
  },
  {
   "cell_type": "code",
   "execution_count": 54,
   "metadata": {
    "collapsed": false,
    "execution": {
     "iopub.execute_input": "2020-09-22T18:57:59.513434Z",
     "iopub.status.busy": "2020-09-22T18:57:59.512931Z",
     "iopub.status.idle": "2020-09-22T18:57:59.516397Z",
     "shell.execute_reply": "2020-09-22T18:57:59.515865Z"
    },
    "pycharm": {
     "name": "#%%\n"
    }
   },
   "outputs": [
    {
     "data": {
      "text/plain": [
       "array([[ 3,  5,  6,  8],\n",
       "       [10, 11, 13, 15]])"
      ]
     },
     "execution_count": 1,
     "metadata": {},
     "output_type": "execute_result"
    }
   ],
   "source": [
    "a // 3"
   ]
  },
  {
   "cell_type": "code",
   "execution_count": 55,
   "metadata": {
    "collapsed": false,
    "execution": {
     "iopub.execute_input": "2020-09-22T18:57:59.519974Z",
     "iopub.status.busy": "2020-09-22T18:57:59.519476Z",
     "iopub.status.idle": "2020-09-22T18:57:59.522499Z",
     "shell.execute_reply": "2020-09-22T18:57:59.522047Z"
    },
    "pycharm": {
     "name": "#%%\n"
    }
   },
   "outputs": [
    {
     "data": {
      "text/plain": [
       "array([[0, 0, 0, 0],\n",
       "       [1, 1, 2, 3]])"
      ]
     },
     "execution_count": 1,
     "metadata": {},
     "output_type": "execute_result"
    }
   ],
   "source": [
    "a // b"
   ]
  },
  {
   "cell_type": "code",
   "execution_count": 56,
   "metadata": {
    "collapsed": false,
    "execution": {
     "iopub.execute_input": "2020-09-22T18:57:59.526159Z",
     "iopub.status.busy": "2020-09-22T18:57:59.525625Z",
     "iopub.status.idle": "2020-09-22T18:57:59.528622Z",
     "shell.execute_reply": "2020-09-22T18:57:59.528189Z"
    },
    "pycharm": {
     "name": "#%%\n"
    }
   },
   "outputs": [
    {
     "data": {
      "text/plain": [
       "array([[10, 15, 20, 25],\n",
       "       [ 0, 10,  0,  0]])"
      ]
     },
     "execution_count": 1,
     "metadata": {},
     "output_type": "execute_result"
    }
   ],
   "source": [
    "a % b"
   ]
  },
  {
   "cell_type": "code",
   "execution_count": 57,
   "metadata": {
    "collapsed": false,
    "execution": {
     "iopub.execute_input": "2020-09-22T18:57:59.532109Z",
     "iopub.status.busy": "2020-09-22T18:57:59.531597Z",
     "iopub.status.idle": "2020-09-22T18:57:59.533750Z",
     "shell.execute_reply": "2020-09-22T18:57:59.534147Z"
    },
    "pycharm": {
     "name": "#%%\n"
    }
   },
   "outputs": [
    {
     "name": "stdout",
     "output_type": "stream",
     "text": [
      "[[10 15 20 25]\n",
      " [30 35 40 45]]\n",
      "[[50 45 40 35]\n",
      " [30 25 20 15]]\n"
     ]
    }
   ],
   "source": [
    "print(a)\n",
    "print(b)"
   ]
  },
  {
   "cell_type": "code",
   "execution_count": 58,
   "metadata": {
    "collapsed": false,
    "execution": {
     "iopub.execute_input": "2020-09-22T18:57:59.537761Z",
     "iopub.status.busy": "2020-09-22T18:57:59.537269Z",
     "iopub.status.idle": "2020-09-22T18:57:59.540048Z",
     "shell.execute_reply": "2020-09-22T18:57:59.539529Z"
    },
    "pycharm": {
     "name": "#%%\n"
    }
   },
   "outputs": [
    {
     "data": {
      "text/plain": [
       "array([  0,   1,   8,  27,  64, 125, 216, 343, 512, 729])"
      ]
     },
     "execution_count": 1,
     "metadata": {},
     "output_type": "execute_result"
    }
   ],
   "source": [
    "a = np.arange(10) ** 3\n",
    "a"
   ]
  },
  {
   "cell_type": "code",
   "execution_count": 59,
   "metadata": {
    "collapsed": false,
    "execution": {
     "iopub.execute_input": "2020-09-22T18:57:59.543649Z",
     "iopub.status.busy": "2020-09-22T18:57:59.543097Z",
     "iopub.status.idle": "2020-09-22T18:57:59.545678Z",
     "shell.execute_reply": "2020-09-22T18:57:59.546250Z"
    },
    "pycharm": {
     "name": "#%%\n"
    }
   },
   "outputs": [
    {
     "data": {
      "text/plain": [
       "512"
      ]
     },
     "execution_count": 1,
     "metadata": {},
     "output_type": "execute_result"
    }
   ],
   "source": [
    "a[8]"
   ]
  },
  {
   "cell_type": "code",
   "execution_count": 60,
   "metadata": {
    "collapsed": false,
    "execution": {
     "iopub.execute_input": "2020-09-22T18:57:59.552376Z",
     "iopub.status.busy": "2020-09-22T18:57:59.550627Z",
     "iopub.status.idle": "2020-09-22T18:57:59.556557Z",
     "shell.execute_reply": "2020-09-22T18:57:59.555869Z"
    },
    "pycharm": {
     "name": "#%%\n"
    }
   },
   "outputs": [
    {
     "data": {
      "text/plain": [
       "array([ 8, 27, 64])"
      ]
     },
     "execution_count": 1,
     "metadata": {},
     "output_type": "execute_result"
    }
   ],
   "source": [
    "a[2:5]"
   ]
  },
  {
   "cell_type": "code",
   "execution_count": 61,
   "metadata": {
    "collapsed": false,
    "execution": {
     "iopub.execute_input": "2020-09-22T18:57:59.561493Z",
     "iopub.status.busy": "2020-09-22T18:57:59.560872Z",
     "iopub.status.idle": "2020-09-22T18:57:59.563331Z",
     "shell.execute_reply": "2020-09-22T18:57:59.563885Z"
    },
    "pycharm": {
     "name": "#%%\n"
    }
   },
   "outputs": [
    {
     "data": {
      "text/plain": [
       "array([ 0,  1,  8, 27])"
      ]
     },
     "execution_count": 1,
     "metadata": {},
     "output_type": "execute_result"
    }
   ],
   "source": [
    "a[:4]"
   ]
  },
  {
   "cell_type": "code",
   "execution_count": 62,
   "metadata": {
    "collapsed": false,
    "execution": {
     "iopub.execute_input": "2020-09-22T18:57:59.568436Z",
     "iopub.status.busy": "2020-09-22T18:57:59.567773Z",
     "iopub.status.idle": "2020-09-22T18:57:59.571076Z",
     "shell.execute_reply": "2020-09-22T18:57:59.570467Z"
    },
    "pycharm": {
     "name": "#%%\n"
    }
   },
   "outputs": [
    {
     "data": {
      "text/plain": [
       "array([343, 512, 729])"
      ]
     },
     "execution_count": 1,
     "metadata": {},
     "output_type": "execute_result"
    }
   ],
   "source": [
    "a[7:]"
   ]
  },
  {
   "cell_type": "code",
   "execution_count": 63,
   "metadata": {
    "collapsed": false,
    "execution": {
     "iopub.execute_input": "2020-09-22T18:57:59.575690Z",
     "iopub.status.busy": "2020-09-22T18:57:59.574334Z",
     "iopub.status.idle": "2020-09-22T18:57:59.578367Z",
     "shell.execute_reply": "2020-09-22T18:57:59.578802Z"
    },
    "pycharm": {
     "name": "#%%\n"
    }
   },
   "outputs": [
    {
     "data": {
      "text/plain": [
       "array([ 27, 125, 343])"
      ]
     },
     "execution_count": 1,
     "metadata": {},
     "output_type": "execute_result"
    }
   ],
   "source": [
    "a[3:9:2]"
   ]
  },
  {
   "cell_type": "code",
   "execution_count": 64,
   "metadata": {
    "collapsed": false,
    "execution": {
     "iopub.execute_input": "2020-09-22T18:57:59.582678Z",
     "iopub.status.busy": "2020-09-22T18:57:59.582103Z",
     "iopub.status.idle": "2020-09-22T18:57:59.584845Z",
     "shell.execute_reply": "2020-09-22T18:57:59.585289Z"
    },
    "pycharm": {
     "name": "#%%\n"
    }
   },
   "outputs": [
    {
     "data": {
      "text/plain": [
       "array([ 27, 125, 343, 729])"
      ]
     },
     "execution_count": 1,
     "metadata": {},
     "output_type": "execute_result"
    }
   ],
   "source": [
    "a[3::2]"
   ]
  },
  {
   "cell_type": "code",
   "execution_count": 65,
   "metadata": {
    "collapsed": false,
    "execution": {
     "iopub.execute_input": "2020-09-22T18:57:59.589171Z",
     "iopub.status.busy": "2020-09-22T18:57:59.588641Z",
     "iopub.status.idle": "2020-09-22T18:57:59.591246Z",
     "shell.execute_reply": "2020-09-22T18:57:59.591671Z"
    },
    "pycharm": {
     "name": "#%%\n"
    }
   },
   "outputs": [
    {
     "data": {
      "text/plain": [
       "array([  0,  27, 216, 729])"
      ]
     },
     "execution_count": 1,
     "metadata": {},
     "output_type": "execute_result"
    }
   ],
   "source": [
    "a[::3]"
   ]
  },
  {
   "cell_type": "code",
   "execution_count": 66,
   "metadata": {
    "collapsed": false,
    "execution": {
     "iopub.execute_input": "2020-09-22T18:57:59.595618Z",
     "iopub.status.busy": "2020-09-22T18:57:59.595086Z",
     "iopub.status.idle": "2020-09-22T18:57:59.598377Z",
     "shell.execute_reply": "2020-09-22T18:57:59.597806Z"
    },
    "pycharm": {
     "name": "#%%\n"
    }
   },
   "outputs": [
    {
     "data": {
      "text/plain": [
       "array([729, 512, 343, 216, 125,  64,  27,   8,   1,   0])"
      ]
     },
     "execution_count": 1,
     "metadata": {},
     "output_type": "execute_result"
    }
   ],
   "source": [
    "a[::-1]"
   ]
  },
  {
   "cell_type": "code",
   "execution_count": 67,
   "metadata": {
    "collapsed": false,
    "execution": {
     "iopub.execute_input": "2020-09-22T18:57:59.602290Z",
     "iopub.status.busy": "2020-09-22T18:57:59.601727Z",
     "iopub.status.idle": "2020-09-22T18:57:59.606290Z",
     "shell.execute_reply": "2020-09-22T18:57:59.605803Z"
    },
    "pycharm": {
     "name": "#%%\n"
    }
   },
   "outputs": [
    {
     "data": {
      "text/plain": [
       "array([  0,  27, 216])"
      ]
     },
     "execution_count": 1,
     "metadata": {},
     "output_type": "execute_result"
    }
   ],
   "source": [
    "a[:9:3]"
   ]
  },
  {
   "cell_type": "code",
   "execution_count": 68,
   "metadata": {
    "collapsed": false,
    "execution": {
     "iopub.execute_input": "2020-09-22T18:57:59.610153Z",
     "iopub.status.busy": "2020-09-22T18:57:59.609602Z",
     "iopub.status.idle": "2020-09-22T18:57:59.612434Z",
     "shell.execute_reply": "2020-09-22T18:57:59.612855Z"
    },
    "pycharm": {
     "name": "#%%\n"
    }
   },
   "outputs": [
    {
     "data": {
      "text/plain": [
       "array([  0,   1,   8,  27,  64, 125, 216, 343, 512, 729])"
      ]
     },
     "execution_count": 1,
     "metadata": {},
     "output_type": "execute_result"
    }
   ],
   "source": [
    "a"
   ]
  },
  {
   "cell_type": "code",
   "execution_count": 69,
   "metadata": {
    "collapsed": false,
    "execution": {
     "iopub.execute_input": "2020-09-22T18:57:59.616907Z",
     "iopub.status.busy": "2020-09-22T18:57:59.616348Z",
     "iopub.status.idle": "2020-09-22T18:57:59.619556Z",
     "shell.execute_reply": "2020-09-22T18:57:59.618990Z"
    },
    "pycharm": {
     "name": "#%%\n"
    }
   },
   "outputs": [
    {
     "data": {
      "text/plain": [
       "array([123,   1,   8, 123,  64, 125, 123, 343, 512, 729])"
      ]
     },
     "execution_count": 1,
     "metadata": {},
     "output_type": "execute_result"
    }
   ],
   "source": [
    "a[:9:3] = 123\n",
    "a"
   ]
  },
  {
   "cell_type": "code",
   "execution_count": 70,
   "metadata": {
    "collapsed": false,
    "execution": {
     "iopub.execute_input": "2020-09-22T18:57:59.623805Z",
     "iopub.status.busy": "2020-09-22T18:57:59.623270Z",
     "iopub.status.idle": "2020-09-22T18:57:59.626549Z",
     "shell.execute_reply": "2020-09-22T18:57:59.626072Z"
    },
    "pycharm": {
     "name": "#%%\n"
    }
   },
   "outputs": [
    {
     "data": {
      "text/plain": [
       "array([[ 0,  1,  2,  3],\n",
       "       [ 4,  5,  6,  7],\n",
       "       [ 8,  9, 10, 11],\n",
       "       [12, 13, 14, 15],\n",
       "       [16, 17, 18, 19]])"
      ]
     },
     "execution_count": 1,
     "metadata": {},
     "output_type": "execute_result"
    }
   ],
   "source": [
    "SHAPE = 5, 4\n",
    "\n",
    "b = np.arange(20).reshape(SHAPE)\n",
    "b"
   ]
  },
  {
   "cell_type": "code",
   "execution_count": 71,
   "metadata": {
    "collapsed": false,
    "execution": {
     "iopub.execute_input": "2020-09-22T18:57:59.630846Z",
     "iopub.status.busy": "2020-09-22T18:57:59.630315Z",
     "iopub.status.idle": "2020-09-22T18:57:59.633559Z",
     "shell.execute_reply": "2020-09-22T18:57:59.632954Z"
    },
    "pycharm": {
     "name": "#%%\n"
    }
   },
   "outputs": [
    {
     "name": "stdout",
     "output_type": "stream",
     "text": [
      "3\n",
      "4\n",
      "34\n"
     ]
    }
   ],
   "source": [
    "def f(x, y):\n",
    "    print(x)\n",
    "    print(y)\n",
    "    return 10 * x + y\n",
    "\n",
    "print(f(3, 4))"
   ]
  },
  {
   "cell_type": "code",
   "execution_count": 72,
   "metadata": {
    "collapsed": false,
    "execution": {
     "iopub.execute_input": "2020-09-22T18:57:59.640179Z",
     "iopub.status.busy": "2020-09-22T18:57:59.639088Z",
     "iopub.status.idle": "2020-09-22T18:57:59.643561Z",
     "shell.execute_reply": "2020-09-22T18:57:59.642988Z"
    },
    "pycharm": {
     "name": "#%%\n"
    }
   },
   "outputs": [
    {
     "name": "stdout",
     "output_type": "stream",
     "text": [
      "[[0. 0. 0. 0.]\n",
      " [1. 1. 1. 1.]\n",
      " [2. 2. 2. 2.]\n",
      " [3. 3. 3. 3.]\n",
      " [4. 4. 4. 4.]]\n",
      "[[0. 1. 2. 3.]\n",
      " [0. 1. 2. 3.]\n",
      " [0. 1. 2. 3.]\n",
      " [0. 1. 2. 3.]\n",
      " [0. 1. 2. 3.]]\n"
     ]
    },
    {
     "data": {
      "text/plain": [
       "array([[ 0.,  1.,  2.,  3.],\n",
       "       [10., 11., 12., 13.],\n",
       "       [20., 21., 22., 23.],\n",
       "       [30., 31., 32., 33.],\n",
       "       [40., 41., 42., 43.]])"
      ]
     },
     "execution_count": 1,
     "metadata": {},
     "output_type": "execute_result"
    }
   ],
   "source": [
    "np.fromfunction(f, SHAPE)"
   ]
  },
  {
   "cell_type": "code",
   "execution_count": 73,
   "metadata": {
    "collapsed": false,
    "execution": {
     "iopub.execute_input": "2020-09-22T18:57:59.648502Z",
     "iopub.status.busy": "2020-09-22T18:57:59.647637Z",
     "iopub.status.idle": "2020-09-22T18:57:59.649777Z",
     "shell.execute_reply": "2020-09-22T18:57:59.650526Z"
    },
    "pycharm": {
     "name": "#%%\n"
    }
   },
   "outputs": [
    {
     "name": "stdout",
     "output_type": "stream",
     "text": [
      "1\n",
      "3\n",
      "6\n"
     ]
    }
   ],
   "source": [
    "def inc_by_index_1(x):\n",
    "    # 0, 1, 2, 3, 4\n",
    "    # 0, 1, 3, 6, 10\n",
    "    # print(x)\n",
    "    if not (x > 0):\n",
    "        return x\n",
    "    return x + inc_by_index_1(x - 1)\n",
    "\n",
    "print(inc_by_index_1(1))\n",
    "print(inc_by_index_1(2))\n",
    "print(inc_by_index_1(3))"
   ]
  },
  {
   "cell_type": "code",
   "execution_count": 74,
   "metadata": {
    "collapsed": false,
    "execution": {
     "iopub.execute_input": "2020-09-22T18:57:59.655709Z",
     "iopub.status.busy": "2020-09-22T18:57:59.655114Z",
     "iopub.status.idle": "2020-09-22T18:57:59.657706Z",
     "shell.execute_reply": "2020-09-22T18:57:59.658133Z"
    },
    "pycharm": {
     "name": "#%%\n"
    }
   },
   "outputs": [
    {
     "data": {
      "text/plain": [
       "array([[20, 22, 24, 26],\n",
       "       [28, 30, 32, 34],\n",
       "       [36, 38, 40, 42],\n",
       "       [44, 46, 48, 50],\n",
       "       [52, 54, 56, 58]])"
      ]
     },
     "execution_count": 1,
     "metadata": {},
     "output_type": "execute_result"
    }
   ],
   "source": [
    "a = np.arange(20, 60, 2).reshape(5, 4)\n",
    "a"
   ]
  },
  {
   "cell_type": "code",
   "execution_count": 75,
   "metadata": {
    "collapsed": false,
    "execution": {
     "iopub.execute_input": "2020-09-22T18:57:59.661972Z",
     "iopub.status.busy": "2020-09-22T18:57:59.661416Z",
     "iopub.status.idle": "2020-09-22T18:57:59.664544Z",
     "shell.execute_reply": "2020-09-22T18:57:59.665007Z"
    },
    "pycharm": {
     "name": "#%%\n"
    }
   },
   "outputs": [
    {
     "data": {
      "text/plain": [
       "array([28, 30, 32, 34])"
      ]
     },
     "execution_count": 1,
     "metadata": {},
     "output_type": "execute_result"
    }
   ],
   "source": [
    "a[1]"
   ]
  },
  {
   "cell_type": "code",
   "execution_count": 76,
   "metadata": {
    "collapsed": false,
    "execution": {
     "iopub.execute_input": "2020-09-22T18:57:59.669306Z",
     "iopub.status.busy": "2020-09-22T18:57:59.668650Z",
     "iopub.status.idle": "2020-09-22T18:57:59.672083Z",
     "shell.execute_reply": "2020-09-22T18:57:59.671517Z"
    },
    "pycharm": {
     "name": "#%%\n"
    }
   },
   "outputs": [
    {
     "data": {
      "text/plain": [
       "array([44, 46, 48, 50])"
      ]
     },
     "execution_count": 1,
     "metadata": {},
     "output_type": "execute_result"
    }
   ],
   "source": [
    "a[3]"
   ]
  },
  {
   "cell_type": "code",
   "execution_count": 77,
   "metadata": {
    "collapsed": false,
    "execution": {
     "iopub.execute_input": "2020-09-22T18:57:59.675861Z",
     "iopub.status.busy": "2020-09-22T18:57:59.675325Z",
     "iopub.status.idle": "2020-09-22T18:57:59.678599Z",
     "shell.execute_reply": "2020-09-22T18:57:59.678030Z"
    },
    "pycharm": {
     "name": "#%%\n"
    }
   },
   "outputs": [
    {
     "data": {
      "text/plain": [
       "52"
      ]
     },
     "execution_count": 1,
     "metadata": {},
     "output_type": "execute_result"
    }
   ],
   "source": [
    "a[4][0]"
   ]
  },
  {
   "cell_type": "code",
   "execution_count": 78,
   "metadata": {
    "collapsed": false,
    "execution": {
     "iopub.execute_input": "2020-09-22T18:57:59.682487Z",
     "iopub.status.busy": "2020-09-22T18:57:59.681895Z",
     "iopub.status.idle": "2020-09-22T18:57:59.684491Z",
     "shell.execute_reply": "2020-09-22T18:57:59.685061Z"
    },
    "pycharm": {
     "name": "#%%\n"
    }
   },
   "outputs": [
    {
     "data": {
      "text/plain": [
       "52"
      ]
     },
     "execution_count": 1,
     "metadata": {},
     "output_type": "execute_result"
    }
   ],
   "source": [
    "a[4, 0]"
   ]
  },
  {
   "cell_type": "code",
   "execution_count": 79,
   "metadata": {
    "collapsed": false,
    "execution": {
     "iopub.execute_input": "2020-09-22T18:57:59.688912Z",
     "iopub.status.busy": "2020-09-22T18:57:59.688362Z",
     "iopub.status.idle": "2020-09-22T18:57:59.691044Z",
     "shell.execute_reply": "2020-09-22T18:57:59.691575Z"
    },
    "pycharm": {
     "name": "#%%\n"
    }
   },
   "outputs": [
    {
     "data": {
      "text/plain": [
       "array([26, 34, 42, 50, 58])"
      ]
     },
     "execution_count": 1,
     "metadata": {},
     "output_type": "execute_result"
    }
   ],
   "source": [
    "a[:, 3]"
   ]
  },
  {
   "cell_type": "code",
   "execution_count": 80,
   "metadata": {
    "collapsed": false,
    "execution": {
     "iopub.execute_input": "2020-09-22T18:57:59.695392Z",
     "iopub.status.busy": "2020-09-22T18:57:59.694820Z",
     "iopub.status.idle": "2020-09-22T18:57:59.698123Z",
     "shell.execute_reply": "2020-09-22T18:57:59.697558Z"
    },
    "pycharm": {
     "name": "#%%\n"
    }
   },
   "outputs": [
    {
     "data": {
      "text/plain": [
       "array([[28, 30],\n",
       "       [36, 38]])"
      ]
     },
     "execution_count": 1,
     "metadata": {},
     "output_type": "execute_result"
    }
   ],
   "source": [
    "a[1:3, :2]"
   ]
  },
  {
   "cell_type": "code",
   "execution_count": 81,
   "metadata": {
    "collapsed": false,
    "execution": {
     "iopub.execute_input": "2020-09-22T18:57:59.702143Z",
     "iopub.status.busy": "2020-09-22T18:57:59.701561Z",
     "iopub.status.idle": "2020-09-22T18:57:59.704671Z",
     "shell.execute_reply": "2020-09-22T18:57:59.704103Z"
    },
    "pycharm": {
     "name": "#%%\n"
    }
   },
   "outputs": [
    {
     "data": {
      "text/plain": [
       "array([52, 54, 56, 58])"
      ]
     },
     "execution_count": 1,
     "metadata": {},
     "output_type": "execute_result"
    }
   ],
   "source": [
    "a[-1]"
   ]
  },
  {
   "cell_type": "code",
   "execution_count": 82,
   "metadata": {
    "collapsed": false,
    "execution": {
     "iopub.execute_input": "2020-09-22T18:57:59.708614Z",
     "iopub.status.busy": "2020-09-22T18:57:59.708071Z",
     "iopub.status.idle": "2020-09-22T18:57:59.711390Z",
     "shell.execute_reply": "2020-09-22T18:57:59.710839Z"
    },
    "pycharm": {
     "name": "#%%\n"
    }
   },
   "outputs": [
    {
     "data": {
      "text/plain": [
       "array([[52, 54, 56, 58],\n",
       "       [44, 46, 48, 50],\n",
       "       [36, 38, 40, 42],\n",
       "       [28, 30, 32, 34],\n",
       "       [20, 22, 24, 26]])"
      ]
     },
     "execution_count": 1,
     "metadata": {},
     "output_type": "execute_result"
    }
   ],
   "source": [
    "a[::-1]"
   ]
  },
  {
   "cell_type": "code",
   "execution_count": 83,
   "metadata": {
    "collapsed": false,
    "execution": {
     "iopub.execute_input": "2020-09-22T18:57:59.715625Z",
     "iopub.status.busy": "2020-09-22T18:57:59.715036Z",
     "iopub.status.idle": "2020-09-22T18:57:59.718482Z",
     "shell.execute_reply": "2020-09-22T18:57:59.717702Z"
    },
    "pycharm": {
     "name": "#%%\n"
    }
   },
   "outputs": [
    {
     "data": {
      "text/plain": [
       "array([[58, 56, 54, 52],\n",
       "       [50, 48, 46, 44],\n",
       "       [42, 40, 38, 36],\n",
       "       [34, 32, 30, 28],\n",
       "       [26, 24, 22, 20]])"
      ]
     },
     "execution_count": 1,
     "metadata": {},
     "output_type": "execute_result"
    }
   ],
   "source": [
    "a[::-1, ::-1]"
   ]
  },
  {
   "cell_type": "code",
   "execution_count": 84,
   "metadata": {
    "collapsed": false,
    "execution": {
     "iopub.execute_input": "2020-09-22T18:57:59.722552Z",
     "iopub.status.busy": "2020-09-22T18:57:59.721982Z",
     "iopub.status.idle": "2020-09-22T18:57:59.725147Z",
     "shell.execute_reply": "2020-09-22T18:57:59.724559Z"
    },
    "pycharm": {
     "name": "#%%\n"
    }
   },
   "outputs": [
    {
     "data": {
      "text/plain": [
       "array([[20, 28, 36, 44, 52],\n",
       "       [22, 30, 38, 46, 54],\n",
       "       [24, 32, 40, 48, 56],\n",
       "       [26, 34, 42, 50, 58]])"
      ]
     },
     "execution_count": 1,
     "metadata": {},
     "output_type": "execute_result"
    }
   ],
   "source": [
    "a.transpose()"
   ]
  },
  {
   "cell_type": "code",
   "execution_count": 85,
   "metadata": {
    "collapsed": false,
    "execution": {
     "iopub.execute_input": "2020-09-22T18:57:59.728808Z",
     "iopub.status.busy": "2020-09-22T18:57:59.728273Z",
     "iopub.status.idle": "2020-09-22T18:57:59.731104Z",
     "shell.execute_reply": "2020-09-22T18:57:59.731636Z"
    },
    "pycharm": {
     "name": "#%%\n"
    }
   },
   "outputs": [
    {
     "data": {
      "text/plain": [
       "array([[20, 22, 24, 26],\n",
       "       [28, 30, 32, 34],\n",
       "       [36, 38, 40, 42],\n",
       "       [44, 46, 48, 50],\n",
       "       [52, 54, 56, 58]])"
      ]
     },
     "execution_count": 1,
     "metadata": {},
     "output_type": "execute_result"
    }
   ],
   "source": [
    "a"
   ]
  },
  {
   "cell_type": "code",
   "execution_count": 86,
   "metadata": {
    "collapsed": false,
    "execution": {
     "iopub.execute_input": "2020-09-22T18:57:59.735668Z",
     "iopub.status.busy": "2020-09-22T18:57:59.734888Z",
     "iopub.status.idle": "2020-09-22T18:57:59.738477Z",
     "shell.execute_reply": "2020-09-22T18:57:59.737900Z"
    },
    "pycharm": {
     "name": "#%%\n"
    }
   },
   "outputs": [
    {
     "data": {
      "text/plain": [
       "array([[20, 28, 36, 44, 52],\n",
       "       [22, 30, 38, 46, 54],\n",
       "       [24, 32, 40, 48, 56],\n",
       "       [26, 34, 42, 50, 58]])"
      ]
     },
     "execution_count": 1,
     "metadata": {},
     "output_type": "execute_result"
    }
   ],
   "source": [
    "a_t = a.transpose()\n",
    "a_t"
   ]
  },
  {
   "cell_type": "code",
   "execution_count": 87,
   "metadata": {
    "collapsed": false,
    "execution": {
     "iopub.execute_input": "2020-09-22T18:57:59.742147Z",
     "iopub.status.busy": "2020-09-22T18:57:59.741623Z",
     "iopub.status.idle": "2020-09-22T18:57:59.744173Z",
     "shell.execute_reply": "2020-09-22T18:57:59.744590Z"
    },
    "pycharm": {
     "name": "#%%\n"
    }
   },
   "outputs": [
    {
     "name": "stdout",
     "output_type": "stream",
     "text": [
      "[20 22 24 26]\n",
      "[20 28 36 44 52]\n"
     ]
    }
   ],
   "source": [
    "print(a[0])\n",
    "print(a_t[0])"
   ]
  },
  {
   "cell_type": "code",
   "execution_count": 88,
   "metadata": {
    "collapsed": false,
    "execution": {
     "iopub.execute_input": "2020-09-22T18:57:59.748317Z",
     "iopub.status.busy": "2020-09-22T18:57:59.747748Z",
     "iopub.status.idle": "2020-09-22T18:57:59.750874Z",
     "shell.execute_reply": "2020-09-22T18:57:59.751566Z"
    },
    "pycharm": {
     "name": "#%%\n"
    }
   },
   "outputs": [
    {
     "name": "stdout",
     "output_type": "stream",
     "text": [
      "[20 28 36 44 52]\n"
     ]
    }
   ],
   "source": [
    "print(a[:, 0])"
   ]
  },
  {
   "cell_type": "code",
   "execution_count": 89,
   "metadata": {
    "collapsed": false,
    "execution": {
     "iopub.execute_input": "2020-09-22T18:57:59.756930Z",
     "iopub.status.busy": "2020-09-22T18:57:59.756387Z",
     "iopub.status.idle": "2020-09-22T18:57:59.759169Z",
     "shell.execute_reply": "2020-09-22T18:57:59.759600Z"
    },
    "pycharm": {
     "name": "#%%\n"
    }
   },
   "outputs": [
    {
     "data": {
      "text/plain": [
       "array([[[ 0,  1,  2,  3,  4,  5],\n",
       "        [ 6,  7,  8,  9, 10, 11],\n",
       "        [12, 13, 14, 15, 16, 17],\n",
       "        [18, 19, 20, 21, 22, 23]],\n",
       "\n",
       "       [[24, 25, 26, 27, 28, 29],\n",
       "        [30, 31, 32, 33, 34, 35],\n",
       "        [36, 37, 38, 39, 40, 41],\n",
       "        [42, 43, 44, 45, 46, 47]]])"
      ]
     },
     "execution_count": 1,
     "metadata": {},
     "output_type": "execute_result"
    }
   ],
   "source": [
    "SHAPE_3D = (2, 4, 6)\n",
    "\n",
    "a = np.arange(48).reshape(SHAPE_3D)\n",
    "a"
   ]
  },
  {
   "cell_type": "code",
   "execution_count": 90,
   "metadata": {
    "collapsed": false,
    "execution": {
     "iopub.execute_input": "2020-09-22T18:57:59.763404Z",
     "iopub.status.busy": "2020-09-22T18:57:59.762876Z",
     "iopub.status.idle": "2020-09-22T18:57:59.765503Z",
     "shell.execute_reply": "2020-09-22T18:57:59.766041Z"
    },
    "pycharm": {
     "name": "#%%\n"
    }
   },
   "outputs": [
    {
     "name": "stdout",
     "output_type": "stream",
     "text": [
      "3\n",
      "48\n",
      "(2, 4, 6)\n"
     ]
    }
   ],
   "source": [
    "print(a.ndim)\n",
    "print(a.size)\n",
    "print(a.shape)"
   ]
  },
  {
   "cell_type": "code",
   "execution_count": 91,
   "metadata": {
    "collapsed": false,
    "execution": {
     "iopub.execute_input": "2020-09-22T18:57:59.773949Z",
     "iopub.status.busy": "2020-09-22T18:57:59.770591Z",
     "iopub.status.idle": "2020-09-22T18:57:59.775219Z",
     "shell.execute_reply": "2020-09-22T18:57:59.775766Z"
    },
    "pycharm": {
     "name": "#%%\n"
    }
   },
   "outputs": [
    {
     "name": "stdout",
     "output_type": "stream",
     "text": [
      "[[24 25 26 27 28 29]\n",
      " [30 31 32 33 34 35]\n",
      " [36 37 38 39 40 41]\n",
      " [42 43 44 45 46 47]]\n",
      "[[18 19 20 21 22 23]\n",
      " [42 43 44 45 46 47]]\n",
      "[[ 5 11 17 23]\n",
      " [29 35 41 47]]\n"
     ]
    }
   ],
   "source": [
    "print(a[1])\n",
    "print(a[:, 3])\n",
    "print(a[:, :, 5])"
   ]
  },
  {
   "cell_type": "code",
   "execution_count": 92,
   "metadata": {
    "collapsed": false,
    "execution": {
     "iopub.execute_input": "2020-09-22T18:57:59.779792Z",
     "iopub.status.busy": "2020-09-22T18:57:59.779121Z",
     "iopub.status.idle": "2020-09-22T18:57:59.781518Z",
     "shell.execute_reply": "2020-09-22T18:57:59.782051Z"
    },
    "pycharm": {
     "name": "#%%\n"
    }
   },
   "outputs": [
    {
     "data": {
      "text/plain": [
       "47"
      ]
     },
     "execution_count": 1,
     "metadata": {},
     "output_type": "execute_result"
    }
   ],
   "source": [
    "a[1, 3, 5]"
   ]
  },
  {
   "cell_type": "code",
   "execution_count": 93,
   "metadata": {
    "collapsed": false,
    "execution": {
     "iopub.execute_input": "2020-09-22T18:57:59.786347Z",
     "iopub.status.busy": "2020-09-22T18:57:59.785626Z",
     "iopub.status.idle": "2020-09-22T18:57:59.788817Z",
     "shell.execute_reply": "2020-09-22T18:57:59.788302Z"
    },
    "pycharm": {
     "name": "#%%\n"
    }
   },
   "outputs": [
    {
     "data": {
      "text/plain": [
       "array([[ 5, 11, 17, 23],\n",
       "       [29, 35, 41, 47]])"
      ]
     },
     "execution_count": 1,
     "metadata": {},
     "output_type": "execute_result"
    }
   ],
   "source": [
    "a[..., 5]"
   ]
  },
  {
   "cell_type": "code",
   "execution_count": 94,
   "metadata": {
    "collapsed": false,
    "execution": {
     "iopub.execute_input": "2020-09-22T18:57:59.792717Z",
     "iopub.status.busy": "2020-09-22T18:57:59.792082Z",
     "iopub.status.idle": "2020-09-22T18:57:59.794525Z",
     "shell.execute_reply": "2020-09-22T18:57:59.795033Z"
    },
    "pycharm": {
     "name": "#%%\n"
    }
   },
   "outputs": [
    {
     "data": {
      "text/plain": [
       "array([[[        0,         1,        32,       243,      1024,\n",
       "              3125],\n",
       "        [     7776,     16807,     32768,     59049,    100000,\n",
       "            161051],\n",
       "        [   248832,    371293,    537824,    759375,   1048576,\n",
       "           1419857],\n",
       "        [  1889568,   2476099,   3200000,   4084101,   5153632,\n",
       "           6436343]],\n",
       "\n",
       "       [[  7962624,   9765625,  11881376,  14348907,  17210368,\n",
       "          20511149],\n",
       "        [ 24300000,  28629151,  33554432,  39135393,  45435424,\n",
       "          52521875],\n",
       "        [ 60466176,  69343957,  79235168,  90224199, 102400000,\n",
       "         115856201],\n",
       "        [130691232, 147008443, 164916224, 184528125, 205962976,\n",
       "         229345007]]])"
      ]
     },
     "execution_count": 1,
     "metadata": {},
     "output_type": "execute_result"
    }
   ],
   "source": [
    "a ** 5"
   ]
  },
  {
   "cell_type": "code",
   "execution_count": 95,
   "metadata": {
    "collapsed": false,
    "execution": {
     "iopub.execute_input": "2020-09-22T18:57:59.799233Z",
     "iopub.status.busy": "2020-09-22T18:57:59.798594Z",
     "iopub.status.idle": "2020-09-22T18:57:59.801011Z",
     "shell.execute_reply": "2020-09-22T18:57:59.801513Z"
    },
    "pycharm": {
     "name": "#%%\n"
    }
   },
   "outputs": [
    {
     "data": {
      "text/plain": [
       "(2, 3, 4, 5, 6)"
      ]
     },
     "execution_count": 1,
     "metadata": {},
     "output_type": "execute_result"
    }
   ],
   "source": [
    "SHAPE_5D = tuple(range(2, 7))\n",
    "SHAPE_5D"
   ]
  },
  {
   "cell_type": "code",
   "execution_count": 96,
   "metadata": {
    "collapsed": false,
    "execution": {
     "iopub.execute_input": "2020-09-22T18:57:59.810180Z",
     "iopub.status.busy": "2020-09-22T18:57:59.809411Z",
     "iopub.status.idle": "2020-09-22T18:57:59.813269Z",
     "shell.execute_reply": "2020-09-22T18:57:59.813708Z"
    },
    "pycharm": {
     "name": "#%%\n"
    }
   },
   "outputs": [
    {
     "data": {
      "text/plain": [
       "array([[[[[ 28992,  10594,  32710,      0,  28992,  10594],\n",
       "          [ 32710,      0,  30096,    393,      0,      0],\n",
       "          [ 30096,    393,      0,      0,  -6232,  -2224],\n",
       "          [ 32709,      0,     11,      0,     -1,     -1],\n",
       "          [     0,      0,      0,      0,      8,      0]],\n",
       "\n",
       "         [[     0,      0,      0,      0,  32709,      0],\n",
       "          [     0,      0,      0,      0,      9,      0],\n",
       "          [     0,      0, -28831,  -2224,  32709,      0],\n",
       "          [  4636,    344,      0,      0,     -1,     -1],\n",
       "          [    -1,     -1,      0,      0,      0,      0]],\n",
       "\n",
       "         [[    -1,     -1,     -1,     -1,      0,      0],\n",
       "          [     0,      0,      1,      0,  32709,      0],\n",
       "          [    72,      0,      0,      0,     11,      0],\n",
       "          [     0,      0, -28831,  -2224,  32709,      0],\n",
       "          [  4652,    344,      0,      0,      1,      0]],\n",
       "\n",
       "         [[     0,      0,     28,      0,      0,      0],\n",
       "          [    -1,     -1,     -1,     -1,      0,      0],\n",
       "          [     0,      0,      1,      0,  32709,      0],\n",
       "          [   144,      0,      0,      0,     11,      0],\n",
       "          [     0,      0, -28831,  -2224,  32709,      0]]],\n",
       "\n",
       "\n",
       "        [[[  4660,    344,      0,      0,      0,      0],\n",
       "          [     0,      0,     28,      0,      0,      0],\n",
       "          [    -1,     -1,     -1,     -1,     10,      0],\n",
       "          [     0,      0,      1,      0,  32709,      0],\n",
       "          [   216,      0,      0,      0,      8,      0]],\n",
       "\n",
       "         [[     0,      0, -28830,  -2224,  32709,      0],\n",
       "          [  7912,    344,      0,      0,      2,      0],\n",
       "          [     0,      0,     26,      0,      0,      0],\n",
       "          [    -1,     -1,     -1,     -1,      0,      0],\n",
       "          [     0,      0,      1,      0,  32710,      0]],\n",
       "\n",
       "         [[   288,      0,      0,      0,     11,      0],\n",
       "          [     0,      0, -28831,  -2224,  32709,      0],\n",
       "          [  2508,    344,      0,      0,      2,      0],\n",
       "          [     0,      0,     16,      0,      0,      0],\n",
       "          [    -1,     -1,     -1,     -1,      0,      0]],\n",
       "\n",
       "         [[     0,      0,      1,      0,      0,      0],\n",
       "          [   360,      0,      0,      0,     11,      0],\n",
       "          [     0,      0, -18336,  -2223,  32709,      0],\n",
       "          [  2408,    344,      0,      0,      0,      0],\n",
       "          [     0,      0,      0,      0,      0,      0]]],\n",
       "\n",
       "\n",
       "        [[[     0,      0,      0,      0,      2,      0],\n",
       "          [ 32709,      0,      0,      0,  10280,      0],\n",
       "          [   432,      0,      0,      0,      7,      0],\n",
       "          [     0,      0,  27331,   7173,  32710,      0],\n",
       "          [ 23840,    339,      0,      0,      0,      0]],\n",
       "\n",
       "         [[     0,      0,      1,      0,      0,      0],\n",
       "          [     1,      0,      0,      0,  -9680,  -2224],\n",
       "          [ 32709,      0,      1,      0,      0,      0],\n",
       "          [ 27312,   7173,  32710,      0,  27331,   7173],\n",
       "          [ 32710,      0,      0,      0,      0,      0]],\n",
       "\n",
       "         [[   504,      0,      0,      0,      2,      0],\n",
       "          [     0,      0,  27338,   7173,  32710,      0],\n",
       "          [ 23792,    339,      0,      0,      6,      0],\n",
       "          [     0,      0,      2,      0,      0,      0],\n",
       "          [     1,      0,      0,      0,      0,      0]],\n",
       "\n",
       "         [[     0,      0,      1,      0,      0,      0],\n",
       "          [   600,      0,      0,      0,      9,      0],\n",
       "          [     0,      0,  27338,   7173,  32710,      0],\n",
       "          [ 23840,    339,      1,      0,      1,      0],\n",
       "          [     0,      0,  -1574,  -2223,  32709,      0]]]],\n",
       "\n",
       "\n",
       "\n",
       "       [[[[     0,      0,      0,      0,  -9680,  -2224],\n",
       "          [ 32709,      0,      1,      0,      0,      0],\n",
       "          [   672,      0,      0,      0,      3,      0],\n",
       "          [     0,      0,  27338,   7173,  32710,      0],\n",
       "          [ 23844,    339,      0,      0,     -1,     -1]],\n",
       "\n",
       "         [[    -1,     -1,  -1573,  -2223,  32709,      0],\n",
       "          [     1,      0,      0,      0,  -9328,  -2224],\n",
       "          [ 32709,      0,      1,      0,      0,      0],\n",
       "          [   744,      0,      0,      0,      7,      0],\n",
       "          [     0,      0,  27338,   7173,  32710,      0]],\n",
       "\n",
       "         [[ 24068,    339,      0,      0,      0,      0],\n",
       "          [     0,      0,      3,      0,      0,      0],\n",
       "          [     2,      0,      0,      0,  -9328,  -2224],\n",
       "          [ 32709,      0,      1,      0,  32710,      0],\n",
       "          [ 27312,   7173,  32710,      0,  27331,   7173]],\n",
       "\n",
       "         [[ 32710,      0,  27331,   7173,  32710,      0],\n",
       "          [ 27338,   7173,  32710,      0,      0,      0],\n",
       "          [     0,      0,    816,      0,      0,      0],\n",
       "          [     2,      0,      0,      0,  27338,   7173],\n",
       "          [ 32710,      0,  23868,    339,      0,      0]]],\n",
       "\n",
       "\n",
       "        [[[ 32372, -20813, -26427, -16808,      4,      0],\n",
       "          [     0,      0,      2,      0,      0,      0],\n",
       "          [ -9328,  -2224,  32709,      0,      1,      0],\n",
       "          [ 32710,      0,  27312,   7173,  32710,      0],\n",
       "          [ 27331,   7173,  32710,      0,  27331,   7173]],\n",
       "\n",
       "         [[ 32710,      0,  27338,   7173,  32710,      0],\n",
       "          [ 27338,   7173,  32710,      0,    928,      0],\n",
       "          [     0,      0,     11,      0,      0,      0],\n",
       "          [ 27339,   7173,  32710,      0,  24068,    339],\n",
       "          [     0,      0,      1,      0,      0,      0]],\n",
       "\n",
       "         [[-14221,  22683,  30381,  22569,  26784,   7173],\n",
       "          [ 32710,      0,  -9328,  -2224,  32709,      0],\n",
       "          [     1,      0,  22195,  19595,   1040,      0],\n",
       "          [     0,      0,      3,      0,      0,      0],\n",
       "          [  1377,      0,      0,      0,  27616,  10594]],\n",
       "\n",
       "         [[ 32710,      0,  27616,  10594,  32710,      0],\n",
       "          [     0,      0,      0,      0,      0,      0],\n",
       "          [     0,      0, -31264,  -2225,  32709,      0],\n",
       "          [     1,      0, -31434,   7972, -30080,  -2225],\n",
       "          [ 32709,      0, -31824,  -2225,  32709,      0]]],\n",
       "\n",
       "\n",
       "        [[[ 15387, -27631, -26687, -26814, -29760,  -2225],\n",
       "          [ 32709,      0, -31184,  -2225,  32709,      0],\n",
       "          [-30730,  15660,   9680, -13018, -21328,   9253],\n",
       "          [ 32710,      0,  -2992,  -2225,  32709,      0],\n",
       "          [-28128,   5381,  16397, -22387,  -2208,  -2225]],\n",
       "\n",
       "         [[ 32709,      0,  -2832,  -2225,  32709,      0],\n",
       "          [-25184,  -8523, -12655, -11195,  -2128,  -2225],\n",
       "          [ 32709,      0,  -1872,  -2225,  32709,      0],\n",
       "          [  -288, -21883, -11929,   2166,  -3648,  -2225],\n",
       "          [ 32709,      0,  -3712,  -2225,  32709,      0]],\n",
       "\n",
       "         [[-10365,   1862, -12777, -16388,  -3488,  -2225],\n",
       "          [ 32709,      0,  -1632,  -2225,  32709,      0],\n",
       "          [ 22354,  31306,  32251,  14777,   -768,  -2225],\n",
       "          [ 32709,      0,  -1152,  -2225,  32709,      0],\n",
       "          [ 18516,  -3795,   4898,  23018,   -608,  -2225]],\n",
       "\n",
       "         [[ 32709,      0, -30464,  -2225,  32709,      0],\n",
       "          [-14036,  26826, -32158,  31478, -28544,  -2224],\n",
       "          [ 32709,      0, -29264,  -2225,  32709,      0],\n",
       "          [-31403, -10767,  27954,   6852, -26224,  -2224],\n",
       "          [ 32709,      0, -26848,  -2224,  32709,      0]]]]],\n",
       "      dtype=int16)"
      ]
     },
     "execution_count": 1,
     "metadata": {},
     "output_type": "execute_result"
    }
   ],
   "source": [
    "d = np.empty(SHAPE_5D, dtype=np.int16)\n",
    "d"
   ]
  },
  {
   "cell_type": "code",
   "execution_count": 97,
   "metadata": {
    "collapsed": false,
    "execution": {
     "iopub.execute_input": "2020-09-22T18:57:59.818723Z",
     "iopub.status.busy": "2020-09-22T18:57:59.817953Z",
     "iopub.status.idle": "2020-09-22T18:57:59.820691Z",
     "shell.execute_reply": "2020-09-22T18:57:59.821241Z"
    },
    "pycharm": {
     "name": "#%%\n"
    }
   },
   "outputs": [
    {
     "data": {
      "text/plain": [
       "array([[[-2224,     0,     0,     0,    -1],\n",
       "        [    0, -2224,     0,     0,     0],\n",
       "        [    0,     0, -2224,     0,  7173],\n",
       "        [    0,     0,     0,  7173,     0]],\n",
       "\n",
       "       [[    0,     0,     0,     0,  7173],\n",
       "        [    0,     0,     0,   339,     0],\n",
       "        [ 7173,     0,     0,     0, 10594],\n",
       "        [    0,     0,     0, -2225,     0]],\n",
       "\n",
       "       [[-2225,     0,  9253,     0, -2225],\n",
       "        [    0, -2225,     0, -2225,     0],\n",
       "        [-2225,     0, -2225,     0, -2225],\n",
       "        [    0, -2224,     0, -2224,     0]]], dtype=int16)"
      ]
     },
     "execution_count": 1,
     "metadata": {},
     "output_type": "execute_result"
    }
   ],
   "source": [
    "d[1, :, :, :, 5]"
   ]
  },
  {
   "cell_type": "code",
   "execution_count": 98,
   "metadata": {
    "collapsed": false,
    "execution": {
     "iopub.execute_input": "2020-09-22T18:57:59.825878Z",
     "iopub.status.busy": "2020-09-22T18:57:59.825115Z",
     "iopub.status.idle": "2020-09-22T18:57:59.828814Z",
     "shell.execute_reply": "2020-09-22T18:57:59.828245Z"
    },
    "pycharm": {
     "name": "#%%\n"
    }
   },
   "outputs": [
    {
     "data": {
      "text/plain": [
       "array([[[-2224,     0,     0,     0,    -1],\n",
       "        [    0, -2224,     0,     0,     0],\n",
       "        [    0,     0, -2224,     0,  7173],\n",
       "        [    0,     0,     0,  7173,     0]],\n",
       "\n",
       "       [[    0,     0,     0,     0,  7173],\n",
       "        [    0,     0,     0,   339,     0],\n",
       "        [ 7173,     0,     0,     0, 10594],\n",
       "        [    0,     0,     0, -2225,     0]],\n",
       "\n",
       "       [[-2225,     0,  9253,     0, -2225],\n",
       "        [    0, -2225,     0, -2225,     0],\n",
       "        [-2225,     0, -2225,     0, -2225],\n",
       "        [    0, -2224,     0, -2224,     0]]], dtype=int16)"
      ]
     },
     "execution_count": 1,
     "metadata": {},
     "output_type": "execute_result"
    }
   ],
   "source": [
    "d[1, ..., 5]"
   ]
  },
  {
   "cell_type": "code",
   "execution_count": 99,
   "metadata": {
    "collapsed": false,
    "execution": {
     "iopub.execute_input": "2020-09-22T18:57:59.832670Z",
     "iopub.status.busy": "2020-09-22T18:57:59.832138Z",
     "iopub.status.idle": "2020-09-22T18:57:59.835294Z",
     "shell.execute_reply": "2020-09-22T18:57:59.834717Z"
    },
    "pycharm": {
     "name": "#%%\n"
    }
   },
   "outputs": [
    {
     "name": "stdout",
     "output_type": "stream",
     "text": [
      "(2, 3, 4, 5, 6)\n",
      "(3, 4, 5)\n"
     ]
    }
   ],
   "source": [
    "print(d.shape)\n",
    "print((d[1, ..., 5]).shape)"
   ]
  },
  {
   "cell_type": "code",
   "execution_count": 100,
   "metadata": {
    "collapsed": false,
    "execution": {
     "iopub.execute_input": "2020-09-22T18:57:59.839607Z",
     "iopub.status.busy": "2020-09-22T18:57:59.839071Z",
     "iopub.status.idle": "2020-09-22T18:57:59.842280Z",
     "shell.execute_reply": "2020-09-22T18:57:59.841705Z"
    },
    "pycharm": {
     "name": "#%%\n"
    }
   },
   "outputs": [
    {
     "data": {
      "text/plain": [
       "array([[[    0,     0,     0,     0],\n",
       "        [    0,     0,     0,     0],\n",
       "        [    0,     0,     0,     0]],\n",
       "\n",
       "       [[   -1,     0,  7173,     0],\n",
       "        [ 7173,     0, 10594,     0],\n",
       "        [-2225,     0, -2225,     0]]], dtype=int16)"
      ]
     },
     "execution_count": 1,
     "metadata": {},
     "output_type": "execute_result"
    }
   ],
   "source": [
    "d[..., 4, 5]"
   ]
  },
  {
   "cell_type": "code",
   "execution_count": 101,
   "metadata": {
    "collapsed": false,
    "execution": {
     "iopub.execute_input": "2020-09-22T18:57:59.846922Z",
     "iopub.status.busy": "2020-09-22T18:57:59.846377Z",
     "iopub.status.idle": "2020-09-22T18:57:59.849419Z",
     "shell.execute_reply": "2020-09-22T18:57:59.848938Z"
    },
    "pycharm": {
     "name": "#%%\n"
    }
   },
   "outputs": [
    {
     "name": "stdout",
     "output_type": "stream",
     "text": [
      "[[[ 0  1  2]\n",
      "  [ 3  4  5]\n",
      "  [ 6  7  8]]\n",
      "\n",
      " [[ 9 10 11]\n",
      "  [12 13 14]\n",
      "  [15 16 17]]]\n",
      "[0. 0.]\n"
     ]
    }
   ],
   "source": [
    "from numpy import linalg\n",
    "\n",
    "\n",
    "a = np.arange(18).reshape((2,3,3))\n",
    "print(a)\n",
    "\n",
    "print(linalg.det(a))"
   ]
  },
  {
   "cell_type": "code",
   "execution_count": null,
   "metadata": {
    "collapsed": false,
    "pycharm": {
     "name": "#%%\n"
    }
   },
   "outputs": [],
   "source": []
  }
 ],
 "metadata": {
  "kernelspec": {
   "display_name": "Python 3",
   "language": "python",
   "name": "python3"
  },
  "language_info": {
   "codemirror_mode": {
    "name": "ipython",
    "version": 3
   },
   "file_extension": ".py",
   "mimetype": "text/x-python",
   "name": "python",
   "nbconvert_exporter": "python",
   "pygments_lexer": "ipython3",
   "version": "3.8.2"
  }
 },
 "nbformat": 4,
 "nbformat_minor": 4
}
