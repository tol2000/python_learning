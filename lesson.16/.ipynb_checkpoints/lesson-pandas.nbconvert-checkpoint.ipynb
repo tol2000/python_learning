{
 "cells": [
  {
   "cell_type": "code",
   "execution_count": 1,
   "metadata": {
    "execution": {
     "iopub.execute_input": "2020-09-25T18:34:35.642415Z",
     "iopub.status.busy": "2020-09-25T18:34:35.641158Z",
     "iopub.status.idle": "2020-09-25T18:34:36.042486Z",
     "shell.execute_reply": "2020-09-25T18:34:36.043062Z"
    }
   },
   "outputs": [
    {
     "name": "stdout",
     "output_type": "stream",
     "text": [
      "Help on package pandas:\n",
      "\n",
      "NAME\n",
      "    pandas\n",
      "\n",
      "DESCRIPTION\n",
      "    pandas - a powerful data analysis and manipulation library for Python\n",
      "    =====================================================================\n",
      "    \n",
      "    **pandas** is a Python package providing fast, flexible, and expressive data\n",
      "    structures designed to make working with \"relational\" or \"labeled\" data both\n",
      "    easy and intuitive. It aims to be the fundamental high-level building block for\n",
      "    doing practical, **real world** data analysis in Python. Additionally, it has\n",
      "    the broader goal of becoming **the most powerful and flexible open source data\n",
      "    analysis / manipulation tool available in any language**. It is already well on\n",
      "    its way toward this goal.\n",
      "    \n",
      "    Main Features\n",
      "    -------------\n",
      "    Here are just a few of the things that pandas does well:\n",
      "    \n",
      "      - Easy handling of missing data in floating point as well as non-floating\n",
      "        point data.\n",
      "      - Size mutability: columns can be inserted and deleted from DataFrame and\n",
      "        higher dimensional objects\n",
      "      - Automatic and explicit data alignment: objects can be explicitly aligned\n",
      "        to a set of labels, or the user can simply ignore the labels and let\n",
      "        `Series`, `DataFrame`, etc. automatically align the data for you in\n",
      "        computations.\n",
      "      - Powerful, flexible group by functionality to perform split-apply-combine\n",
      "        operations on data sets, for both aggregating and transforming data.\n",
      "      - Make it easy to convert ragged, differently-indexed data in other Python\n",
      "        and NumPy data structures into DataFrame objects.\n",
      "      - Intelligent label-based slicing, fancy indexing, and subsetting of large\n",
      "        data sets.\n",
      "      - Intuitive merging and joining data sets.\n",
      "      - Flexible reshaping and pivoting of data sets.\n",
      "      - Hierarchical labeling of axes (possible to have multiple labels per tick).\n",
      "      - Robust IO tools for loading data from flat files (CSV and delimited),\n",
      "        Excel files, databases, and saving/loading data from the ultrafast HDF5\n",
      "        format.\n",
      "      - Time series-specific functionality: date range generation and frequency\n",
      "        conversion, moving window statistics, date shifting and lagging.\n",
      "\n",
      "PACKAGE CONTENTS\n",
      "    _config (package)\n",
      "    _libs (package)\n",
      "    _testing\n",
      "    _typing\n",
      "    _version\n",
      "    api (package)\n",
      "    arrays (package)\n",
      "    compat (package)\n",
      "    conftest\n",
      "    core (package)\n",
      "    errors (package)\n",
      "    io (package)\n",
      "    plotting (package)\n",
      "    testing\n",
      "    tests (package)\n",
      "    tseries (package)\n",
      "    util (package)\n",
      "\n",
      "SUBMODULES\n",
      "    _hashtable\n",
      "    _lib\n",
      "    _tslib\n",
      "    offsets\n",
      "\n",
      "FUNCTIONS\n",
      "    __getattr__(name)\n",
      "\n",
      "DATA\n",
      "    IndexSlice = <pandas.core.indexing._IndexSlice object>\n",
      "    NA = <NA>\n",
      "    NaT = NaT\n",
      "    __docformat__ = 'restructuredtext'\n",
      "    __git_version__ = '2a7d3326dee660824a8433ffd01065f8ac37f7d6'\n",
      "    describe_option = <pandas._config.config.CallableDynamicDoc object>\n",
      "    get_option = <pandas._config.config.CallableDynamicDoc object>\n",
      "    options = <pandas._config.config.DictWrapper object>\n",
      "    reset_option = <pandas._config.config.CallableDynamicDoc object>\n",
      "    set_option = <pandas._config.config.CallableDynamicDoc object>\n",
      "\n",
      "VERSION\n",
      "    1.1.2\n",
      "\n",
      "FILE\n",
      "    /home/suren/Documents/Otus/lessons/PythonBasic.2020-07/16.pandas/venv/lib/python3.8/site-packages/pandas/__init__.py\n",
      "\n",
      "\n"
     ]
    }
   ],
   "source": [
    "import pandas as pd\n",
    "\n",
    "help(pd)"
   ]
  },
  {
   "cell_type": "code",
   "execution_count": 2,
   "metadata": {
    "execution": {
     "iopub.execute_input": "2020-09-25T18:34:36.052525Z",
     "iopub.status.busy": "2020-09-25T18:34:36.051142Z",
     "iopub.status.idle": "2020-09-25T18:34:36.056387Z",
     "shell.execute_reply": "2020-09-25T18:34:36.055451Z"
    }
   },
   "outputs": [
    {
     "name": "stdout",
     "output_type": "stream",
     "text": [
      "0     7\n",
      "1     8\n",
      "2     9\n",
      "3    10\n",
      "4    11\n",
      "5    12\n",
      "6    13\n",
      "7    14\n",
      "8    15\n",
      "9    16\n",
      "dtype: int64\n"
     ]
    }
   ],
   "source": [
    "s = pd.Series(range(7, 17))\n",
    "print(s)"
   ]
  },
  {
   "cell_type": "code",
   "execution_count": 3,
   "metadata": {
    "execution": {
     "iopub.execute_input": "2020-09-25T18:34:36.072755Z",
     "iopub.status.busy": "2020-09-25T18:34:36.072026Z",
     "iopub.status.idle": "2020-09-25T18:34:36.076172Z",
     "shell.execute_reply": "2020-09-25T18:34:36.075474Z"
    }
   },
   "outputs": [
    {
     "data": {
      "text/plain": [
       "RangeIndex(start=0, stop=10, step=1)"
      ]
     },
     "execution_count": 1,
     "metadata": {},
     "output_type": "execute_result"
    }
   ],
   "source": [
    "s.index"
   ]
  },
  {
   "cell_type": "code",
   "execution_count": 4,
   "metadata": {
    "execution": {
     "iopub.execute_input": "2020-09-25T18:34:36.081460Z",
     "iopub.status.busy": "2020-09-25T18:34:36.080671Z",
     "iopub.status.idle": "2020-09-25T18:34:36.085867Z",
     "shell.execute_reply": "2020-09-25T18:34:36.084790Z"
    }
   },
   "outputs": [
    {
     "data": {
      "text/plain": [
       "array([ 7,  8,  9, 10, 11, 12, 13, 14, 15, 16])"
      ]
     },
     "execution_count": 1,
     "metadata": {},
     "output_type": "execute_result"
    }
   ],
   "source": [
    "s.values"
   ]
  },
  {
   "cell_type": "code",
   "execution_count": 5,
   "metadata": {
    "execution": {
     "iopub.execute_input": "2020-09-25T18:34:36.093446Z",
     "iopub.status.busy": "2020-09-25T18:34:36.090582Z",
     "iopub.status.idle": "2020-09-25T18:34:36.100700Z",
     "shell.execute_reply": "2020-09-25T18:34:36.099662Z"
    }
   },
   "outputs": [
    {
     "data": {
      "text/plain": [
       "numpy.ndarray"
      ]
     },
     "execution_count": 1,
     "metadata": {},
     "output_type": "execute_result"
    }
   ],
   "source": [
    "type(s.values)"
   ]
  },
  {
   "cell_type": "code",
   "execution_count": 6,
   "metadata": {
    "execution": {
     "iopub.execute_input": "2020-09-25T18:34:36.106279Z",
     "iopub.status.busy": "2020-09-25T18:34:36.105689Z",
     "iopub.status.idle": "2020-09-25T18:34:36.109525Z",
     "shell.execute_reply": "2020-09-25T18:34:36.108603Z"
    }
   },
   "outputs": [
    {
     "name": "stdout",
     "output_type": "stream",
     "text": [
      "[0, 1, 2, 3, 4, 5, 6, 7, 8, 9]\n",
      "abcdefghijklmnopqrstuvwxyz\n"
     ]
    }
   ],
   "source": [
    "data = list(range(10))\n",
    "print(data)\n",
    "\n",
    "from string import ascii_lowercase\n",
    "print(ascii_lowercase)"
   ]
  },
  {
   "cell_type": "code",
   "execution_count": 7,
   "metadata": {
    "execution": {
     "iopub.execute_input": "2020-09-25T18:34:36.114841Z",
     "iopub.status.busy": "2020-09-25T18:34:36.113925Z",
     "iopub.status.idle": "2020-09-25T18:34:36.116543Z",
     "shell.execute_reply": "2020-09-25T18:34:36.117389Z"
    }
   },
   "outputs": [
    {
     "name": "stdout",
     "output_type": "stream",
     "text": [
      "['a', 'b', 'c', 'd', 'e', 'f', 'g', 'h', 'i', 'j']\n"
     ]
    }
   ],
   "source": [
    "index_letters = [ascii_lowercase[i] for i in data]\n",
    "print(index_letters)"
   ]
  },
  {
   "cell_type": "code",
   "execution_count": 8,
   "metadata": {
    "execution": {
     "iopub.execute_input": "2020-09-25T18:34:36.131320Z",
     "iopub.status.busy": "2020-09-25T18:34:36.128843Z",
     "iopub.status.idle": "2020-09-25T18:34:36.136365Z",
     "shell.execute_reply": "2020-09-25T18:34:36.137235Z"
    }
   },
   "outputs": [
    {
     "data": {
      "text/plain": [
       "a    0\n",
       "b    1\n",
       "c    2\n",
       "d    3\n",
       "e    4\n",
       "f    5\n",
       "g    6\n",
       "h    7\n",
       "i    8\n",
       "j    9\n",
       "dtype: int64"
      ]
     },
     "execution_count": 1,
     "metadata": {},
     "output_type": "execute_result"
    }
   ],
   "source": [
    "s = pd.Series(data, index=index_letters)\n",
    "s"
   ]
  },
  {
   "cell_type": "code",
   "execution_count": 9,
   "metadata": {
    "execution": {
     "iopub.execute_input": "2020-09-25T18:34:36.142554Z",
     "iopub.status.busy": "2020-09-25T18:34:36.141873Z",
     "iopub.status.idle": "2020-09-25T18:34:36.145865Z",
     "shell.execute_reply": "2020-09-25T18:34:36.145215Z"
    }
   },
   "outputs": [
    {
     "name": "stdout",
     "output_type": "stream",
     "text": [
      "0\n",
      "6\n",
      "9\n"
     ]
    }
   ],
   "source": [
    "print(s['a'])\n",
    "print(s['g'])\n",
    "print(s['j'])"
   ]
  },
  {
   "cell_type": "code",
   "execution_count": 10,
   "metadata": {
    "execution": {
     "iopub.execute_input": "2020-09-25T18:34:36.155215Z",
     "iopub.status.busy": "2020-09-25T18:34:36.153983Z",
     "iopub.status.idle": "2020-09-25T18:34:36.159457Z",
     "shell.execute_reply": "2020-09-25T18:34:36.158159Z"
    }
   },
   "outputs": [
    {
     "data": {
      "text/plain": [
       "a    0\n",
       "b    1\n",
       "f    5\n",
       "g    6\n",
       "dtype: int64"
      ]
     },
     "execution_count": 1,
     "metadata": {},
     "output_type": "execute_result"
    }
   ],
   "source": [
    "s[['a', 'b', 'f', 'g']]"
   ]
  },
  {
   "cell_type": "code",
   "execution_count": 11,
   "metadata": {
    "execution": {
     "iopub.execute_input": "2020-09-25T18:34:36.167952Z",
     "iopub.status.busy": "2020-09-25T18:34:36.167076Z",
     "iopub.status.idle": "2020-09-25T18:34:36.172297Z",
     "shell.execute_reply": "2020-09-25T18:34:36.171632Z"
    }
   },
   "outputs": [
    {
     "data": {
      "text/plain": [
       "a    0\n",
       "b    1\n",
       "c    2\n",
       "d    3\n",
       "e    4\n",
       "f    5\n",
       "g    6\n",
       "h    7\n",
       "i    8\n",
       "j    9\n",
       "dtype: int64"
      ]
     },
     "execution_count": 1,
     "metadata": {},
     "output_type": "execute_result"
    }
   ],
   "source": [
    "s[:]"
   ]
  },
  {
   "cell_type": "code",
   "execution_count": 12,
   "metadata": {
    "execution": {
     "iopub.execute_input": "2020-09-25T18:34:36.180436Z",
     "iopub.status.busy": "2020-09-25T18:34:36.179511Z",
     "iopub.status.idle": "2020-09-25T18:34:36.183175Z",
     "shell.execute_reply": "2020-09-25T18:34:36.184375Z"
    }
   },
   "outputs": [
    {
     "data": {
      "text/plain": [
       "True"
      ]
     },
     "execution_count": 1,
     "metadata": {},
     "output_type": "execute_result"
    }
   ],
   "source": [
    "s is not s[:]"
   ]
  },
  {
   "cell_type": "code",
   "execution_count": 13,
   "metadata": {
    "execution": {
     "iopub.execute_input": "2020-09-25T18:34:36.192656Z",
     "iopub.status.busy": "2020-09-25T18:34:36.191523Z",
     "iopub.status.idle": "2020-09-25T18:34:36.196561Z",
     "shell.execute_reply": "2020-09-25T18:34:36.197718Z"
    }
   },
   "outputs": [
    {
     "data": {
      "text/plain": [
       "a    13\n",
       "b     1\n",
       "c     2\n",
       "d    13\n",
       "e     4\n",
       "f     5\n",
       "g     6\n",
       "h     7\n",
       "i     8\n",
       "j     9\n",
       "dtype: int64"
      ]
     },
     "execution_count": 1,
     "metadata": {},
     "output_type": "execute_result"
    }
   ],
   "source": [
    "s[['a', 'd']] = 13\n",
    "s"
   ]
  },
  {
   "cell_type": "code",
   "execution_count": 14,
   "metadata": {
    "execution": {
     "iopub.execute_input": "2020-09-25T18:34:36.203665Z",
     "iopub.status.busy": "2020-09-25T18:34:36.202998Z",
     "iopub.status.idle": "2020-09-25T18:34:36.210424Z",
     "shell.execute_reply": "2020-09-25T18:34:36.209781Z"
    }
   },
   "outputs": [
    {
     "data": {
      "text/plain": [
       "a     True\n",
       "b    False\n",
       "c    False\n",
       "d     True\n",
       "e    False\n",
       "f    False\n",
       "g    False\n",
       "h     True\n",
       "i     True\n",
       "j     True\n",
       "dtype: bool"
      ]
     },
     "execution_count": 1,
     "metadata": {},
     "output_type": "execute_result"
    }
   ],
   "source": [
    "s > 6"
   ]
  },
  {
   "cell_type": "code",
   "execution_count": 15,
   "metadata": {
    "execution": {
     "iopub.execute_input": "2020-09-25T18:34:36.219325Z",
     "iopub.status.busy": "2020-09-25T18:34:36.218224Z",
     "iopub.status.idle": "2020-09-25T18:34:36.222128Z",
     "shell.execute_reply": "2020-09-25T18:34:36.221512Z"
    }
   },
   "outputs": [
    {
     "data": {
      "text/plain": [
       "a    26\n",
       "d    26\n",
       "h    14\n",
       "i    16\n",
       "j    18\n",
       "dtype: int64"
      ]
     },
     "execution_count": 1,
     "metadata": {},
     "output_type": "execute_result"
    }
   ],
   "source": [
    "s[s > 6] * 2"
   ]
  },
  {
   "cell_type": "code",
   "execution_count": 16,
   "metadata": {
    "execution": {
     "iopub.execute_input": "2020-09-25T18:34:36.230773Z",
     "iopub.status.busy": "2020-09-25T18:34:36.229301Z",
     "iopub.status.idle": "2020-09-25T18:34:36.234806Z",
     "shell.execute_reply": "2020-09-25T18:34:36.234109Z"
    }
   },
   "outputs": [
    {
     "data": {
      "text/plain": [
       "a    169\n",
       "b      1\n",
       "c      4\n",
       "d    169\n",
       "e     16\n",
       "f     25\n",
       "g     36\n",
       "h     49\n",
       "i     64\n",
       "j     81\n",
       "dtype: int64"
      ]
     },
     "execution_count": 1,
     "metadata": {},
     "output_type": "execute_result"
    }
   ],
   "source": [
    "s ** 2"
   ]
  },
  {
   "cell_type": "code",
   "execution_count": 17,
   "metadata": {
    "execution": {
     "iopub.execute_input": "2020-09-25T18:34:36.239900Z",
     "iopub.status.busy": "2020-09-25T18:34:36.239030Z",
     "iopub.status.idle": "2020-09-25T18:34:36.242405Z",
     "shell.execute_reply": "2020-09-25T18:34:36.243273Z"
    }
   },
   "outputs": [
    {
     "data": {
      "text/plain": [
       "True"
      ]
     },
     "execution_count": 1,
     "metadata": {},
     "output_type": "execute_result"
    }
   ],
   "source": [
    "'f' in s"
   ]
  },
  {
   "cell_type": "code",
   "execution_count": 18,
   "metadata": {
    "execution": {
     "iopub.execute_input": "2020-09-25T18:34:36.249707Z",
     "iopub.status.busy": "2020-09-25T18:34:36.248218Z",
     "iopub.status.idle": "2020-09-25T18:34:36.253512Z",
     "shell.execute_reply": "2020-09-25T18:34:36.254095Z"
    }
   },
   "outputs": [
    {
     "data": {
      "text/plain": [
       "True"
      ]
     },
     "execution_count": 1,
     "metadata": {},
     "output_type": "execute_result"
    }
   ],
   "source": [
    "'i' in s"
   ]
  },
  {
   "cell_type": "code",
   "execution_count": 19,
   "metadata": {
    "execution": {
     "iopub.execute_input": "2020-09-25T18:34:36.261108Z",
     "iopub.status.busy": "2020-09-25T18:34:36.259250Z",
     "iopub.status.idle": "2020-09-25T18:34:36.264817Z",
     "shell.execute_reply": "2020-09-25T18:34:36.265652Z"
    }
   },
   "outputs": [
    {
     "data": {
      "text/plain": [
       "False"
      ]
     },
     "execution_count": 1,
     "metadata": {},
     "output_type": "execute_result"
    }
   ],
   "source": [
    "'k' in s"
   ]
  },
  {
   "cell_type": "code",
   "execution_count": 20,
   "metadata": {
    "execution": {
     "iopub.execute_input": "2020-09-25T18:34:36.274895Z",
     "iopub.status.busy": "2020-09-25T18:34:36.274124Z",
     "iopub.status.idle": "2020-09-25T18:34:36.277139Z",
     "shell.execute_reply": "2020-09-25T18:34:36.277753Z"
    }
   },
   "outputs": [
    {
     "name": "stdout",
     "output_type": "stream",
     "text": [
      "{'a': 0, 'b': 1, 'c': 2, 'd': 3, 'e': 4, 'f': 5, 'g': 6, 'h': 7, 'i': 8, 'j': 9}\n",
      "a    0\n",
      "b    1\n",
      "c    2\n",
      "d    3\n",
      "e    4\n",
      "f    5\n",
      "g    6\n",
      "h    7\n",
      "i    8\n",
      "j    9\n",
      "dtype: int64\n"
     ]
    }
   ],
   "source": [
    "items = {ascii_lowercase[i]: i for i in range(10)}\n",
    "print(items)\n",
    "\n",
    "s = pd.Series(items)\n",
    "print(s)"
   ]
  },
  {
   "cell_type": "code",
   "execution_count": 21,
   "metadata": {
    "execution": {
     "iopub.execute_input": "2020-09-25T18:34:36.287273Z",
     "iopub.status.busy": "2020-09-25T18:34:36.286389Z",
     "iopub.status.idle": "2020-09-25T18:34:36.289588Z",
     "shell.execute_reply": "2020-09-25T18:34:36.290260Z"
    }
   },
   "outputs": [
    {
     "data": {
      "text/plain": [
       "a    0.0\n",
       "b    1.0\n",
       "c    2.0\n",
       "d    3.0\n",
       "e    4.0\n",
       "f    5.0\n",
       "g    6.0\n",
       "h    7.0\n",
       "i    8.0\n",
       "j    9.0\n",
       "k    NaN\n",
       "dtype: float64"
      ]
     },
     "execution_count": 1,
     "metadata": {},
     "output_type": "execute_result"
    }
   ],
   "source": [
    "s = pd.Series(items, index=[ascii_lowercase[i] for i in range(len(items) + 1)])\n",
    "\n",
    "s"
   ]
  },
  {
   "cell_type": "code",
   "execution_count": 22,
   "metadata": {
    "execution": {
     "iopub.execute_input": "2020-09-25T18:34:36.298216Z",
     "iopub.status.busy": "2020-09-25T18:34:36.297157Z",
     "iopub.status.idle": "2020-09-25T18:34:36.301062Z",
     "shell.execute_reply": "2020-09-25T18:34:36.301545Z"
    }
   },
   "outputs": [
    {
     "name": "stdout",
     "output_type": "stream",
     "text": [
      "nan\n",
      "nan\n",
      "True\n"
     ]
    }
   ],
   "source": [
    "import numpy as np\n",
    "\n",
    "print(np.nan)\n",
    "print(np.NaN)\n",
    "print(np.nan is np.NaN)"
   ]
  },
  {
   "cell_type": "code",
   "execution_count": 23,
   "metadata": {
    "execution": {
     "iopub.execute_input": "2020-09-25T18:34:36.306133Z",
     "iopub.status.busy": "2020-09-25T18:34:36.305457Z",
     "iopub.status.idle": "2020-09-25T18:34:36.308387Z",
     "shell.execute_reply": "2020-09-25T18:34:36.308998Z"
    }
   },
   "outputs": [
    {
     "name": "stdout",
     "output_type": "stream",
     "text": [
      "nan\n"
     ]
    }
   ],
   "source": [
    "print(s['k'])"
   ]
  },
  {
   "cell_type": "code",
   "execution_count": 24,
   "metadata": {
    "execution": {
     "iopub.execute_input": "2020-09-25T18:34:36.313980Z",
     "iopub.status.busy": "2020-09-25T18:34:36.313365Z",
     "iopub.status.idle": "2020-09-25T18:34:36.319451Z",
     "shell.execute_reply": "2020-09-25T18:34:36.318487Z"
    }
   },
   "outputs": [
    {
     "data": {
      "text/plain": [
       "0.0"
      ]
     },
     "execution_count": 1,
     "metadata": {},
     "output_type": "execute_result"
    }
   ],
   "source": [
    "s.min()"
   ]
  },
  {
   "cell_type": "code",
   "execution_count": 25,
   "metadata": {
    "execution": {
     "iopub.execute_input": "2020-09-25T18:34:36.325668Z",
     "iopub.status.busy": "2020-09-25T18:34:36.324711Z",
     "iopub.status.idle": "2020-09-25T18:34:36.329426Z",
     "shell.execute_reply": "2020-09-25T18:34:36.330111Z"
    }
   },
   "outputs": [
    {
     "data": {
      "text/plain": [
       "9.0"
      ]
     },
     "execution_count": 1,
     "metadata": {},
     "output_type": "execute_result"
    }
   ],
   "source": [
    "s.max()"
   ]
  },
  {
   "cell_type": "code",
   "execution_count": 26,
   "metadata": {
    "execution": {
     "iopub.execute_input": "2020-09-25T18:34:36.337254Z",
     "iopub.status.busy": "2020-09-25T18:34:36.336427Z",
     "iopub.status.idle": "2020-09-25T18:34:36.339374Z",
     "shell.execute_reply": "2020-09-25T18:34:36.340012Z"
    }
   },
   "outputs": [
    {
     "data": {
      "text/plain": [
       "4.5"
      ]
     },
     "execution_count": 1,
     "metadata": {},
     "output_type": "execute_result"
    }
   ],
   "source": [
    "s.median()"
   ]
  },
  {
   "cell_type": "code",
   "execution_count": 27,
   "metadata": {
    "execution": {
     "iopub.execute_input": "2020-09-25T18:34:36.346345Z",
     "iopub.status.busy": "2020-09-25T18:34:36.345683Z",
     "iopub.status.idle": "2020-09-25T18:34:36.349812Z",
     "shell.execute_reply": "2020-09-25T18:34:36.350825Z"
    }
   },
   "outputs": [
    {
     "data": {
      "text/plain": [
       "4.5"
      ]
     },
     "execution_count": 1,
     "metadata": {},
     "output_type": "execute_result"
    }
   ],
   "source": [
    "(pd.Series(items)).median()"
   ]
  },
  {
   "cell_type": "code",
   "execution_count": 28,
   "metadata": {
    "execution": {
     "iopub.execute_input": "2020-09-25T18:34:36.357455Z",
     "iopub.status.busy": "2020-09-25T18:34:36.356687Z",
     "iopub.status.idle": "2020-09-25T18:34:36.365040Z",
     "shell.execute_reply": "2020-09-25T18:34:36.363287Z"
    }
   },
   "outputs": [
    {
     "name": "stdout",
     "output_type": "stream",
     "text": [
      "a     0.0\n",
      "b     1.0\n",
      "c     2.0\n",
      "d     3.0\n",
      "e     4.0\n",
      "f     5.0\n",
      "g     6.0\n",
      "h     7.0\n",
      "i     8.0\n",
      "j     9.0\n",
      "k    10.0\n",
      "dtype: float64\n",
      "5.0\n"
     ]
    }
   ],
   "source": [
    "s['k'] = 10\n",
    "print(s)\n",
    "print(s.median())"
   ]
  },
  {
   "cell_type": "code",
   "execution_count": 29,
   "metadata": {
    "execution": {
     "iopub.execute_input": "2020-09-25T18:34:36.373448Z",
     "iopub.status.busy": "2020-09-25T18:34:36.372763Z",
     "iopub.status.idle": "2020-09-25T18:34:36.376063Z",
     "shell.execute_reply": "2020-09-25T18:34:36.376645Z"
    }
   },
   "outputs": [
    {
     "data": {
      "text/plain": [
       "letters\n",
       "a     0.0\n",
       "b     1.0\n",
       "c     2.0\n",
       "d     3.0\n",
       "e     4.0\n",
       "f     5.0\n",
       "g     6.0\n",
       "h     7.0\n",
       "i     8.0\n",
       "j     9.0\n",
       "k    10.0\n",
       "Name: Numbers, dtype: float64"
      ]
     },
     "execution_count": 1,
     "metadata": {},
     "output_type": "execute_result"
    }
   ],
   "source": [
    "s.name = 'Numbers'\n",
    "s.index.name = 'letters'\n",
    "\n",
    "s"
   ]
  },
  {
   "cell_type": "code",
   "execution_count": 30,
   "metadata": {
    "execution": {
     "iopub.execute_input": "2020-09-25T18:34:36.382225Z",
     "iopub.status.busy": "2020-09-25T18:34:36.381566Z",
     "iopub.status.idle": "2020-09-25T18:34:36.385398Z",
     "shell.execute_reply": "2020-09-25T18:34:36.387005Z"
    }
   },
   "outputs": [
    {
     "data": {
      "text/plain": [
       "<PandasArray>\n",
       "[0.0, 1.0, 2.0, 3.0, 4.0, 5.0, 6.0, 7.0, 8.0, 9.0, 10.0]\n",
       "Length: 11, dtype: float64"
      ]
     },
     "execution_count": 1,
     "metadata": {},
     "output_type": "execute_result"
    }
   ],
   "source": [
    "s.array"
   ]
  },
  {
   "cell_type": "code",
   "execution_count": 31,
   "metadata": {
    "execution": {
     "iopub.execute_input": "2020-09-25T18:34:36.393300Z",
     "iopub.status.busy": "2020-09-25T18:34:36.392192Z",
     "iopub.status.idle": "2020-09-25T18:34:36.397370Z",
     "shell.execute_reply": "2020-09-25T18:34:36.398616Z"
    }
   },
   "outputs": [
    {
     "data": {
      "text/plain": [
       "0.0"
      ]
     },
     "execution_count": 1,
     "metadata": {},
     "output_type": "execute_result"
    }
   ],
   "source": [
    "s.array[0]"
   ]
  },
  {
   "cell_type": "code",
   "execution_count": 32,
   "metadata": {
    "execution": {
     "iopub.execute_input": "2020-09-25T18:34:36.406852Z",
     "iopub.status.busy": "2020-09-25T18:34:36.405801Z",
     "iopub.status.idle": "2020-09-25T18:34:36.408778Z",
     "shell.execute_reply": "2020-09-25T18:34:36.409417Z"
    }
   },
   "outputs": [
    {
     "data": {
      "text/plain": [
       "array([ 0.,  1.,  2.,  3.,  4.,  5.,  6.,  7.,  8.,  9., 10.])"
      ]
     },
     "execution_count": 1,
     "metadata": {},
     "output_type": "execute_result"
    }
   ],
   "source": [
    "s.to_numpy()"
   ]
  },
  {
   "cell_type": "code",
   "execution_count": 33,
   "metadata": {
    "execution": {
     "iopub.execute_input": "2020-09-25T18:34:36.415723Z",
     "iopub.status.busy": "2020-09-25T18:34:36.414505Z",
     "iopub.status.idle": "2020-09-25T18:34:36.420003Z",
     "shell.execute_reply": "2020-09-25T18:34:36.419364Z"
    }
   },
   "outputs": [
    {
     "data": {
      "text/plain": [
       "<PandasArray>\n",
       "[0.0, 3.0, 5.0]\n",
       "Length: 3, dtype: float64"
      ]
     },
     "execution_count": 1,
     "metadata": {},
     "output_type": "execute_result"
    }
   ],
   "source": [
    "s.array[[0, 3, 5]]"
   ]
  },
  {
   "cell_type": "code",
   "execution_count": 34,
   "metadata": {
    "execution": {
     "iopub.execute_input": "2020-09-25T18:34:36.427582Z",
     "iopub.status.busy": "2020-09-25T18:34:36.426303Z",
     "iopub.status.idle": "2020-09-25T18:34:36.432337Z",
     "shell.execute_reply": "2020-09-25T18:34:36.431312Z"
    }
   },
   "outputs": [
    {
     "data": {
      "text/plain": [
       "letters\n",
       "a        1.000000\n",
       "b        2.718282\n",
       "c        7.389056\n",
       "d       20.085537\n",
       "e       54.598150\n",
       "f      148.413159\n",
       "g      403.428793\n",
       "h     1096.633158\n",
       "i     2980.957987\n",
       "j     8103.083928\n",
       "k    22026.465795\n",
       "Name: Numbers, dtype: float64"
      ]
     },
     "execution_count": 1,
     "metadata": {},
     "output_type": "execute_result"
    }
   ],
   "source": [
    "np.exp(s)"
   ]
  },
  {
   "cell_type": "code",
   "execution_count": 35,
   "metadata": {
    "execution": {
     "iopub.execute_input": "2020-09-25T18:34:36.446337Z",
     "iopub.status.busy": "2020-09-25T18:34:36.445122Z",
     "iopub.status.idle": "2020-09-25T18:34:36.452914Z",
     "shell.execute_reply": "2020-09-25T18:34:36.453546Z"
    }
   },
   "outputs": [
    {
     "data": {
      "text/html": [
       "<div>\n",
       "<style scoped>\n",
       "    .dataframe tbody tr th:only-of-type {\n",
       "        vertical-align: middle;\n",
       "    }\n",
       "\n",
       "    .dataframe tbody tr th {\n",
       "        vertical-align: top;\n",
       "    }\n",
       "\n",
       "    .dataframe thead th {\n",
       "        text-align: right;\n",
       "    }\n",
       "</style>\n",
       "<table border=\"1\" class=\"dataframe\">\n",
       "  <thead>\n",
       "    <tr style=\"text-align: right;\">\n",
       "      <th></th>\n",
       "      <th>country</th>\n",
       "      <th>population</th>\n",
       "      <th>square</th>\n",
       "    </tr>\n",
       "  </thead>\n",
       "  <tbody>\n",
       "    <tr>\n",
       "      <th>RU</th>\n",
       "      <td>Russia</td>\n",
       "      <td>144.5</td>\n",
       "      <td>17250000</td>\n",
       "    </tr>\n",
       "    <tr>\n",
       "      <th>KZ</th>\n",
       "      <td>Kazakhstan</td>\n",
       "      <td>18.3</td>\n",
       "      <td>2724900</td>\n",
       "    </tr>\n",
       "    <tr>\n",
       "      <th>UA</th>\n",
       "      <td>Ukraine</td>\n",
       "      <td>42.4</td>\n",
       "      <td>603628</td>\n",
       "    </tr>\n",
       "    <tr>\n",
       "      <th>BY</th>\n",
       "      <td>Belarus</td>\n",
       "      <td>9.5</td>\n",
       "      <td>207595</td>\n",
       "    </tr>\n",
       "  </tbody>\n",
       "</table>\n",
       "</div>"
      ],
      "text/plain": [
       "       country  population    square\n",
       "RU      Russia       144.5  17250000\n",
       "KZ  Kazakhstan        18.3   2724900\n",
       "UA     Ukraine        42.4    603628\n",
       "BY     Belarus         9.5    207595"
      ]
     },
     "execution_count": 1,
     "metadata": {},
     "output_type": "execute_result"
    }
   ],
   "source": [
    "df = pd.DataFrame({\n",
    "    'country': ['Russia', 'Kazakhstan', 'Ukraine', 'Belarus'],\n",
    "    'population': [144.5, 18.3, 42.4, 9.5],\n",
    "    'square': [17_250_000, 2_724_900, 603_628, 207_595],\n",
    "},\n",
    "    index=['RU', 'KZ', 'UA', 'BY'],\n",
    ")\n",
    "\n",
    "df"
   ]
  },
  {
   "cell_type": "code",
   "execution_count": 36,
   "metadata": {
    "execution": {
     "iopub.execute_input": "2020-09-25T18:34:36.459938Z",
     "iopub.status.busy": "2020-09-25T18:34:36.458704Z",
     "iopub.status.idle": "2020-09-25T18:34:36.463234Z",
     "shell.execute_reply": "2020-09-25T18:34:36.464305Z"
    }
   },
   "outputs": [
    {
     "data": {
      "text/plain": [
       "Index(['RU', 'KZ', 'UA', 'BY'], dtype='object')"
      ]
     },
     "execution_count": 1,
     "metadata": {},
     "output_type": "execute_result"
    }
   ],
   "source": [
    "df.index"
   ]
  },
  {
   "cell_type": "code",
   "execution_count": 37,
   "metadata": {
    "execution": {
     "iopub.execute_input": "2020-09-25T18:34:36.471408Z",
     "iopub.status.busy": "2020-09-25T18:34:36.470441Z",
     "iopub.status.idle": "2020-09-25T18:34:36.473996Z",
     "shell.execute_reply": "2020-09-25T18:34:36.474622Z"
    }
   },
   "outputs": [
    {
     "data": {
      "text/plain": [
       "Index(['RU', 'KZ', 'UA', 'BY'], dtype='object', name='Country Code')"
      ]
     },
     "execution_count": 1,
     "metadata": {},
     "output_type": "execute_result"
    }
   ],
   "source": [
    "df.index.name = 'Country Code'\n",
    "\n",
    "df.index"
   ]
  },
  {
   "cell_type": "code",
   "execution_count": 38,
   "metadata": {
    "execution": {
     "iopub.execute_input": "2020-09-25T18:34:36.485676Z",
     "iopub.status.busy": "2020-09-25T18:34:36.484971Z",
     "iopub.status.idle": "2020-09-25T18:34:36.488158Z",
     "shell.execute_reply": "2020-09-25T18:34:36.488749Z"
    }
   },
   "outputs": [
    {
     "data": {
      "text/html": [
       "<div>\n",
       "<style scoped>\n",
       "    .dataframe tbody tr th:only-of-type {\n",
       "        vertical-align: middle;\n",
       "    }\n",
       "\n",
       "    .dataframe tbody tr th {\n",
       "        vertical-align: top;\n",
       "    }\n",
       "\n",
       "    .dataframe thead th {\n",
       "        text-align: right;\n",
       "    }\n",
       "</style>\n",
       "<table border=\"1\" class=\"dataframe\">\n",
       "  <thead>\n",
       "    <tr style=\"text-align: right;\">\n",
       "      <th></th>\n",
       "      <th>country</th>\n",
       "      <th>population</th>\n",
       "      <th>square</th>\n",
       "    </tr>\n",
       "    <tr>\n",
       "      <th>Country Code</th>\n",
       "      <th></th>\n",
       "      <th></th>\n",
       "      <th></th>\n",
       "    </tr>\n",
       "  </thead>\n",
       "  <tbody>\n",
       "    <tr>\n",
       "      <th>RU</th>\n",
       "      <td>Russia</td>\n",
       "      <td>144.5</td>\n",
       "      <td>17250000</td>\n",
       "    </tr>\n",
       "    <tr>\n",
       "      <th>KZ</th>\n",
       "      <td>Kazakhstan</td>\n",
       "      <td>18.3</td>\n",
       "      <td>2724900</td>\n",
       "    </tr>\n",
       "    <tr>\n",
       "      <th>UA</th>\n",
       "      <td>Ukraine</td>\n",
       "      <td>42.4</td>\n",
       "      <td>603628</td>\n",
       "    </tr>\n",
       "    <tr>\n",
       "      <th>BY</th>\n",
       "      <td>Belarus</td>\n",
       "      <td>9.5</td>\n",
       "      <td>207595</td>\n",
       "    </tr>\n",
       "  </tbody>\n",
       "</table>\n",
       "</div>"
      ],
      "text/plain": [
       "                 country  population    square\n",
       "Country Code                                  \n",
       "RU                Russia       144.5  17250000\n",
       "KZ            Kazakhstan        18.3   2724900\n",
       "UA               Ukraine        42.4    603628\n",
       "BY               Belarus         9.5    207595"
      ]
     },
     "execution_count": 1,
     "metadata": {},
     "output_type": "execute_result"
    }
   ],
   "source": [
    "df"
   ]
  },
  {
   "cell_type": "code",
   "execution_count": 39,
   "metadata": {
    "execution": {
     "iopub.execute_input": "2020-09-25T18:34:36.497829Z",
     "iopub.status.busy": "2020-09-25T18:34:36.496430Z",
     "iopub.status.idle": "2020-09-25T18:34:36.501970Z",
     "shell.execute_reply": "2020-09-25T18:34:36.502971Z"
    }
   },
   "outputs": [
    {
     "data": {
      "text/plain": [
       "Country Code\n",
       "RU        Russia\n",
       "KZ    Kazakhstan\n",
       "UA       Ukraine\n",
       "BY       Belarus\n",
       "Name: country, dtype: object"
      ]
     },
     "execution_count": 1,
     "metadata": {},
     "output_type": "execute_result"
    }
   ],
   "source": [
    "df['country']"
   ]
  },
  {
   "cell_type": "code",
   "execution_count": 40,
   "metadata": {
    "execution": {
     "iopub.execute_input": "2020-09-25T18:34:36.509719Z",
     "iopub.status.busy": "2020-09-25T18:34:36.508857Z",
     "iopub.status.idle": "2020-09-25T18:34:36.512758Z",
     "shell.execute_reply": "2020-09-25T18:34:36.513658Z"
    }
   },
   "outputs": [
    {
     "data": {
      "text/plain": [
       "Country Code\n",
       "RU    144.5\n",
       "KZ     18.3\n",
       "UA     42.4\n",
       "BY      9.5\n",
       "Name: population, dtype: float64"
      ]
     },
     "execution_count": 1,
     "metadata": {},
     "output_type": "execute_result"
    }
   ],
   "source": [
    "df['population']"
   ]
  },
  {
   "cell_type": "code",
   "execution_count": 41,
   "metadata": {
    "execution": {
     "iopub.execute_input": "2020-09-25T18:34:36.522230Z",
     "iopub.status.busy": "2020-09-25T18:34:36.521332Z",
     "iopub.status.idle": "2020-09-25T18:34:36.524704Z",
     "shell.execute_reply": "2020-09-25T18:34:36.525818Z"
    }
   },
   "outputs": [
    {
     "data": {
      "text/plain": [
       "18.3"
      ]
     },
     "execution_count": 1,
     "metadata": {},
     "output_type": "execute_result"
    }
   ],
   "source": [
    "df['population']['KZ']"
   ]
  },
  {
   "cell_type": "code",
   "execution_count": 42,
   "metadata": {
    "execution": {
     "iopub.execute_input": "2020-09-25T18:34:36.535709Z",
     "iopub.status.busy": "2020-09-25T18:34:36.534841Z",
     "iopub.status.idle": "2020-09-25T18:34:36.537856Z",
     "shell.execute_reply": "2020-09-25T18:34:36.538332Z"
    }
   },
   "outputs": [
    {
     "data": {
      "text/plain": [
       "country       Kazakhstan\n",
       "population          18.3\n",
       "square           2724900\n",
       "Name: KZ, dtype: object"
      ]
     },
     "execution_count": 1,
     "metadata": {},
     "output_type": "execute_result"
    }
   ],
   "source": [
    "df.loc['KZ']"
   ]
  },
  {
   "cell_type": "code",
   "execution_count": 43,
   "metadata": {
    "execution": {
     "iopub.execute_input": "2020-09-25T18:34:36.544016Z",
     "iopub.status.busy": "2020-09-25T18:34:36.543131Z",
     "iopub.status.idle": "2020-09-25T18:34:36.548600Z",
     "shell.execute_reply": "2020-09-25T18:34:36.547042Z"
    }
   },
   "outputs": [
    {
     "data": {
      "text/plain": [
       "pandas.core.series.Series"
      ]
     },
     "execution_count": 1,
     "metadata": {},
     "output_type": "execute_result"
    }
   ],
   "source": [
    "type(df.loc['KZ'])"
   ]
  },
  {
   "cell_type": "code",
   "execution_count": 44,
   "metadata": {
    "execution": {
     "iopub.execute_input": "2020-09-25T18:34:36.558622Z",
     "iopub.status.busy": "2020-09-25T18:34:36.557652Z",
     "iopub.status.idle": "2020-09-25T18:34:36.565205Z",
     "shell.execute_reply": "2020-09-25T18:34:36.563440Z"
    }
   },
   "outputs": [
    {
     "data": {
      "text/plain": [
       "country       Ukraine\n",
       "population       42.4\n",
       "square         603628\n",
       "Name: UA, dtype: object"
      ]
     },
     "execution_count": 1,
     "metadata": {},
     "output_type": "execute_result"
    }
   ],
   "source": [
    "df.iloc[2]"
   ]
  },
  {
   "cell_type": "code",
   "execution_count": 45,
   "metadata": {
    "execution": {
     "iopub.execute_input": "2020-09-25T18:34:36.572939Z",
     "iopub.status.busy": "2020-09-25T18:34:36.572235Z",
     "iopub.status.idle": "2020-09-25T18:34:36.575403Z",
     "shell.execute_reply": "2020-09-25T18:34:36.576046Z"
    }
   },
   "outputs": [
    {
     "data": {
      "text/plain": [
       "Country Code\n",
       "RU    144.5\n",
       "BY      9.5\n",
       "Name: population, dtype: float64"
      ]
     },
     "execution_count": 1,
     "metadata": {},
     "output_type": "execute_result"
    }
   ],
   "source": [
    "df.loc[['RU', 'BY'], 'population']"
   ]
  },
  {
   "cell_type": "code",
   "execution_count": 46,
   "metadata": {
    "execution": {
     "iopub.execute_input": "2020-09-25T18:34:36.583091Z",
     "iopub.status.busy": "2020-09-25T18:34:36.582215Z",
     "iopub.status.idle": "2020-09-25T18:34:36.587239Z",
     "shell.execute_reply": "2020-09-25T18:34:36.586629Z"
    }
   },
   "outputs": [
    {
     "data": {
      "text/plain": [
       "Country Code\n",
       "RU    144.5\n",
       "BY      9.5\n",
       "Name: population, dtype: float64"
      ]
     },
     "execution_count": 1,
     "metadata": {},
     "output_type": "execute_result"
    }
   ],
   "source": [
    "df['population'][['RU', 'BY']]"
   ]
  },
  {
   "cell_type": "code",
   "execution_count": 47,
   "metadata": {
    "execution": {
     "iopub.execute_input": "2020-09-25T18:34:36.602739Z",
     "iopub.status.busy": "2020-09-25T18:34:36.601821Z",
     "iopub.status.idle": "2020-09-25T18:34:36.606063Z",
     "shell.execute_reply": "2020-09-25T18:34:36.606650Z"
    }
   },
   "outputs": [
    {
     "data": {
      "text/html": [
       "<div>\n",
       "<style scoped>\n",
       "    .dataframe tbody tr th:only-of-type {\n",
       "        vertical-align: middle;\n",
       "    }\n",
       "\n",
       "    .dataframe tbody tr th {\n",
       "        vertical-align: top;\n",
       "    }\n",
       "\n",
       "    .dataframe thead th {\n",
       "        text-align: right;\n",
       "    }\n",
       "</style>\n",
       "<table border=\"1\" class=\"dataframe\">\n",
       "  <thead>\n",
       "    <tr style=\"text-align: right;\">\n",
       "      <th></th>\n",
       "      <th>country</th>\n",
       "      <th>population</th>\n",
       "      <th>square</th>\n",
       "    </tr>\n",
       "    <tr>\n",
       "      <th>Country Code</th>\n",
       "      <th></th>\n",
       "      <th></th>\n",
       "      <th></th>\n",
       "    </tr>\n",
       "  </thead>\n",
       "  <tbody>\n",
       "    <tr>\n",
       "      <th>RU</th>\n",
       "      <td>Russia</td>\n",
       "      <td>144.5</td>\n",
       "      <td>17250000</td>\n",
       "    </tr>\n",
       "    <tr>\n",
       "      <th>KZ</th>\n",
       "      <td>Kazakhstan</td>\n",
       "      <td>18.3</td>\n",
       "      <td>2724900</td>\n",
       "    </tr>\n",
       "    <tr>\n",
       "      <th>UA</th>\n",
       "      <td>Ukraine</td>\n",
       "      <td>42.4</td>\n",
       "      <td>603628</td>\n",
       "    </tr>\n",
       "  </tbody>\n",
       "</table>\n",
       "</div>"
      ],
      "text/plain": [
       "                 country  population    square\n",
       "Country Code                                  \n",
       "RU                Russia       144.5  17250000\n",
       "KZ            Kazakhstan        18.3   2724900\n",
       "UA               Ukraine        42.4    603628"
      ]
     },
     "execution_count": 1,
     "metadata": {},
     "output_type": "execute_result"
    }
   ],
   "source": [
    "df.loc['RU':'UA']"
   ]
  },
  {
   "cell_type": "code",
   "execution_count": 48,
   "metadata": {
    "execution": {
     "iopub.execute_input": "2020-09-25T18:34:36.624688Z",
     "iopub.status.busy": "2020-09-25T18:34:36.619783Z",
     "iopub.status.idle": "2020-09-25T18:34:36.626651Z",
     "shell.execute_reply": "2020-09-25T18:34:36.627584Z"
    }
   },
   "outputs": [
    {
     "data": {
      "text/html": [
       "<div>\n",
       "<style scoped>\n",
       "    .dataframe tbody tr th:only-of-type {\n",
       "        vertical-align: middle;\n",
       "    }\n",
       "\n",
       "    .dataframe tbody tr th {\n",
       "        vertical-align: top;\n",
       "    }\n",
       "\n",
       "    .dataframe thead th {\n",
       "        text-align: right;\n",
       "    }\n",
       "</style>\n",
       "<table border=\"1\" class=\"dataframe\">\n",
       "  <thead>\n",
       "    <tr style=\"text-align: right;\">\n",
       "      <th></th>\n",
       "      <th>country</th>\n",
       "      <th>population</th>\n",
       "      <th>square</th>\n",
       "    </tr>\n",
       "    <tr>\n",
       "      <th>Country Code</th>\n",
       "      <th></th>\n",
       "      <th></th>\n",
       "      <th></th>\n",
       "    </tr>\n",
       "  </thead>\n",
       "  <tbody>\n",
       "    <tr>\n",
       "      <th>KZ</th>\n",
       "      <td>Kazakhstan</td>\n",
       "      <td>18.3</td>\n",
       "      <td>2724900</td>\n",
       "    </tr>\n",
       "    <tr>\n",
       "      <th>UA</th>\n",
       "      <td>Ukraine</td>\n",
       "      <td>42.4</td>\n",
       "      <td>603628</td>\n",
       "    </tr>\n",
       "    <tr>\n",
       "      <th>BY</th>\n",
       "      <td>Belarus</td>\n",
       "      <td>9.5</td>\n",
       "      <td>207595</td>\n",
       "    </tr>\n",
       "  </tbody>\n",
       "</table>\n",
       "</div>"
      ],
      "text/plain": [
       "                 country  population   square\n",
       "Country Code                                 \n",
       "KZ            Kazakhstan        18.3  2724900\n",
       "UA               Ukraine        42.4   603628\n",
       "BY               Belarus         9.5   207595"
      ]
     },
     "execution_count": 1,
     "metadata": {},
     "output_type": "execute_result"
    }
   ],
   "source": [
    "df.loc['KZ':]"
   ]
  },
  {
   "cell_type": "code",
   "execution_count": 49,
   "metadata": {
    "execution": {
     "iopub.execute_input": "2020-09-25T18:34:36.638057Z",
     "iopub.status.busy": "2020-09-25T18:34:36.637152Z",
     "iopub.status.idle": "2020-09-25T18:34:36.641199Z",
     "shell.execute_reply": "2020-09-25T18:34:36.640234Z"
    }
   },
   "outputs": [
    {
     "data": {
      "text/html": [
       "<div>\n",
       "<style scoped>\n",
       "    .dataframe tbody tr th:only-of-type {\n",
       "        vertical-align: middle;\n",
       "    }\n",
       "\n",
       "    .dataframe tbody tr th {\n",
       "        vertical-align: top;\n",
       "    }\n",
       "\n",
       "    .dataframe thead th {\n",
       "        text-align: right;\n",
       "    }\n",
       "</style>\n",
       "<table border=\"1\" class=\"dataframe\">\n",
       "  <thead>\n",
       "    <tr style=\"text-align: right;\">\n",
       "      <th></th>\n",
       "      <th>country</th>\n",
       "      <th>population</th>\n",
       "      <th>square</th>\n",
       "    </tr>\n",
       "    <tr>\n",
       "      <th>Country Code</th>\n",
       "      <th></th>\n",
       "      <th></th>\n",
       "      <th></th>\n",
       "    </tr>\n",
       "  </thead>\n",
       "  <tbody>\n",
       "    <tr>\n",
       "      <th>RU</th>\n",
       "      <td>Russia</td>\n",
       "      <td>144.5</td>\n",
       "      <td>17250000</td>\n",
       "    </tr>\n",
       "    <tr>\n",
       "      <th>KZ</th>\n",
       "      <td>Kazakhstan</td>\n",
       "      <td>18.3</td>\n",
       "      <td>2724900</td>\n",
       "    </tr>\n",
       "    <tr>\n",
       "      <th>UA</th>\n",
       "      <td>Ukraine</td>\n",
       "      <td>42.4</td>\n",
       "      <td>603628</td>\n",
       "    </tr>\n",
       "  </tbody>\n",
       "</table>\n",
       "</div>"
      ],
      "text/plain": [
       "                 country  population    square\n",
       "Country Code                                  \n",
       "RU                Russia       144.5  17250000\n",
       "KZ            Kazakhstan        18.3   2724900\n",
       "UA               Ukraine        42.4    603628"
      ]
     },
     "execution_count": 1,
     "metadata": {},
     "output_type": "execute_result"
    }
   ],
   "source": [
    "df.iloc[:3]"
   ]
  },
  {
   "cell_type": "code",
   "execution_count": 50,
   "metadata": {
    "execution": {
     "iopub.execute_input": "2020-09-25T18:34:36.648135Z",
     "iopub.status.busy": "2020-09-25T18:34:36.647463Z",
     "iopub.status.idle": "2020-09-25T18:34:36.651928Z",
     "shell.execute_reply": "2020-09-25T18:34:36.651261Z"
    }
   },
   "outputs": [
    {
     "data": {
      "text/plain": [
       "Country Code\n",
       "KZ    2724900\n",
       "UA     603628\n",
       "BY     207595\n",
       "Name: square, dtype: int64"
      ]
     },
     "execution_count": 1,
     "metadata": {},
     "output_type": "execute_result"
    }
   ],
   "source": [
    "df.loc['KZ':, 'square']"
   ]
  },
  {
   "cell_type": "code",
   "execution_count": 51,
   "metadata": {
    "execution": {
     "iopub.execute_input": "2020-09-25T18:34:36.659489Z",
     "iopub.status.busy": "2020-09-25T18:34:36.658427Z",
     "iopub.status.idle": "2020-09-25T18:34:36.664135Z",
     "shell.execute_reply": "2020-09-25T18:34:36.666074Z"
    }
   },
   "outputs": [
    {
     "data": {
      "text/plain": [
       "Country Code\n",
       "RU    144.5\n",
       "KZ     18.3\n",
       "UA     42.4\n",
       "BY      9.5\n",
       "Name: population, dtype: float64"
      ]
     },
     "execution_count": 1,
     "metadata": {},
     "output_type": "execute_result"
    }
   ],
   "source": [
    "df.population"
   ]
  },
  {
   "cell_type": "code",
   "execution_count": 52,
   "metadata": {
    "execution": {
     "iopub.execute_input": "2020-09-25T18:34:36.680264Z",
     "iopub.status.busy": "2020-09-25T18:34:36.679289Z",
     "iopub.status.idle": "2020-09-25T18:34:36.682194Z",
     "shell.execute_reply": "2020-09-25T18:34:36.682820Z"
    }
   },
   "outputs": [
    {
     "data": {
      "text/plain": [
       "Country Code\n",
       "RU    17250000\n",
       "KZ     2724900\n",
       "UA      603628\n",
       "BY      207595\n",
       "Name: square, dtype: int64"
      ]
     },
     "execution_count": 1,
     "metadata": {},
     "output_type": "execute_result"
    }
   ],
   "source": [
    "df.square"
   ]
  },
  {
   "cell_type": "code",
   "execution_count": 53,
   "metadata": {
    "execution": {
     "iopub.execute_input": "2020-09-25T18:34:36.689708Z",
     "iopub.status.busy": "2020-09-25T18:34:36.688753Z",
     "iopub.status.idle": "2020-09-25T18:34:36.695530Z",
     "shell.execute_reply": "2020-09-25T18:34:36.694658Z"
    }
   },
   "outputs": [
    {
     "data": {
      "text/plain": [
       "Country Code\n",
       "RU     True\n",
       "KZ    False\n",
       "UA     True\n",
       "BY    False\n",
       "Name: population, dtype: bool"
      ]
     },
     "execution_count": 1,
     "metadata": {},
     "output_type": "execute_result"
    }
   ],
   "source": [
    "df.population > 40"
   ]
  },
  {
   "cell_type": "code",
   "execution_count": 54,
   "metadata": {
    "execution": {
     "iopub.execute_input": "2020-09-25T18:34:36.709211Z",
     "iopub.status.busy": "2020-09-25T18:34:36.708304Z",
     "iopub.status.idle": "2020-09-25T18:34:36.711303Z",
     "shell.execute_reply": "2020-09-25T18:34:36.712085Z"
    }
   },
   "outputs": [
    {
     "data": {
      "text/html": [
       "<div>\n",
       "<style scoped>\n",
       "    .dataframe tbody tr th:only-of-type {\n",
       "        vertical-align: middle;\n",
       "    }\n",
       "\n",
       "    .dataframe tbody tr th {\n",
       "        vertical-align: top;\n",
       "    }\n",
       "\n",
       "    .dataframe thead th {\n",
       "        text-align: right;\n",
       "    }\n",
       "</style>\n",
       "<table border=\"1\" class=\"dataframe\">\n",
       "  <thead>\n",
       "    <tr style=\"text-align: right;\">\n",
       "      <th></th>\n",
       "      <th>country</th>\n",
       "      <th>population</th>\n",
       "      <th>square</th>\n",
       "    </tr>\n",
       "    <tr>\n",
       "      <th>Country Code</th>\n",
       "      <th></th>\n",
       "      <th></th>\n",
       "      <th></th>\n",
       "    </tr>\n",
       "  </thead>\n",
       "  <tbody>\n",
       "    <tr>\n",
       "      <th>RU</th>\n",
       "      <td>Russia</td>\n",
       "      <td>144.5</td>\n",
       "      <td>17250000</td>\n",
       "    </tr>\n",
       "    <tr>\n",
       "      <th>UA</th>\n",
       "      <td>Ukraine</td>\n",
       "      <td>42.4</td>\n",
       "      <td>603628</td>\n",
       "    </tr>\n",
       "  </tbody>\n",
       "</table>\n",
       "</div>"
      ],
      "text/plain": [
       "              country  population    square\n",
       "Country Code                               \n",
       "RU             Russia       144.5  17250000\n",
       "UA            Ukraine        42.4    603628"
      ]
     },
     "execution_count": 1,
     "metadata": {},
     "output_type": "execute_result"
    }
   ],
   "source": [
    "df[df.population > 40]"
   ]
  },
  {
   "cell_type": "code",
   "execution_count": 55,
   "metadata": {
    "execution": {
     "iopub.execute_input": "2020-09-25T18:34:36.725876Z",
     "iopub.status.busy": "2020-09-25T18:34:36.723890Z",
     "iopub.status.idle": "2020-09-25T18:34:36.730096Z",
     "shell.execute_reply": "2020-09-25T18:34:36.731244Z"
    }
   },
   "outputs": [
    {
     "data": {
      "text/html": [
       "<div>\n",
       "<style scoped>\n",
       "    .dataframe tbody tr th:only-of-type {\n",
       "        vertical-align: middle;\n",
       "    }\n",
       "\n",
       "    .dataframe tbody tr th {\n",
       "        vertical-align: top;\n",
       "    }\n",
       "\n",
       "    .dataframe thead th {\n",
       "        text-align: right;\n",
       "    }\n",
       "</style>\n",
       "<table border=\"1\" class=\"dataframe\">\n",
       "  <thead>\n",
       "    <tr style=\"text-align: right;\">\n",
       "      <th></th>\n",
       "      <th>country</th>\n",
       "      <th>square</th>\n",
       "    </tr>\n",
       "    <tr>\n",
       "      <th>Country Code</th>\n",
       "      <th></th>\n",
       "      <th></th>\n",
       "    </tr>\n",
       "  </thead>\n",
       "  <tbody>\n",
       "    <tr>\n",
       "      <th>RU</th>\n",
       "      <td>Russia</td>\n",
       "      <td>17250000</td>\n",
       "    </tr>\n",
       "    <tr>\n",
       "      <th>UA</th>\n",
       "      <td>Ukraine</td>\n",
       "      <td>603628</td>\n",
       "    </tr>\n",
       "  </tbody>\n",
       "</table>\n",
       "</div>"
      ],
      "text/plain": [
       "              country    square\n",
       "Country Code                   \n",
       "RU             Russia  17250000\n",
       "UA            Ukraine    603628"
      ]
     },
     "execution_count": 1,
     "metadata": {},
     "output_type": "execute_result"
    }
   ],
   "source": [
    "df[df.population > 40][['country', 'square']]"
   ]
  },
  {
   "cell_type": "code",
   "execution_count": 56,
   "metadata": {
    "execution": {
     "iopub.execute_input": "2020-09-25T18:34:36.747525Z",
     "iopub.status.busy": "2020-09-25T18:34:36.746848Z",
     "iopub.status.idle": "2020-09-25T18:34:36.751573Z",
     "shell.execute_reply": "2020-09-25T18:34:36.752585Z"
    }
   },
   "outputs": [
    {
     "data": {
      "text/html": [
       "<div>\n",
       "<style scoped>\n",
       "    .dataframe tbody tr th:only-of-type {\n",
       "        vertical-align: middle;\n",
       "    }\n",
       "\n",
       "    .dataframe tbody tr th {\n",
       "        vertical-align: top;\n",
       "    }\n",
       "\n",
       "    .dataframe thead th {\n",
       "        text-align: right;\n",
       "    }\n",
       "</style>\n",
       "<table border=\"1\" class=\"dataframe\">\n",
       "  <thead>\n",
       "    <tr style=\"text-align: right;\">\n",
       "      <th></th>\n",
       "      <th>country</th>\n",
       "      <th>population</th>\n",
       "      <th>square</th>\n",
       "      <th>density</th>\n",
       "    </tr>\n",
       "    <tr>\n",
       "      <th>Country Code</th>\n",
       "      <th></th>\n",
       "      <th></th>\n",
       "      <th></th>\n",
       "      <th></th>\n",
       "    </tr>\n",
       "  </thead>\n",
       "  <tbody>\n",
       "    <tr>\n",
       "      <th>RU</th>\n",
       "      <td>Russia</td>\n",
       "      <td>144.5</td>\n",
       "      <td>17250000</td>\n",
       "      <td>8.376812</td>\n",
       "    </tr>\n",
       "    <tr>\n",
       "      <th>KZ</th>\n",
       "      <td>Kazakhstan</td>\n",
       "      <td>18.3</td>\n",
       "      <td>2724900</td>\n",
       "      <td>6.715843</td>\n",
       "    </tr>\n",
       "    <tr>\n",
       "      <th>UA</th>\n",
       "      <td>Ukraine</td>\n",
       "      <td>42.4</td>\n",
       "      <td>603628</td>\n",
       "      <td>70.241937</td>\n",
       "    </tr>\n",
       "    <tr>\n",
       "      <th>BY</th>\n",
       "      <td>Belarus</td>\n",
       "      <td>9.5</td>\n",
       "      <td>207595</td>\n",
       "      <td>45.762181</td>\n",
       "    </tr>\n",
       "  </tbody>\n",
       "</table>\n",
       "</div>"
      ],
      "text/plain": [
       "                 country  population    square    density\n",
       "Country Code                                             \n",
       "RU                Russia       144.5  17250000   8.376812\n",
       "KZ            Kazakhstan        18.3   2724900   6.715843\n",
       "UA               Ukraine        42.4    603628  70.241937\n",
       "BY               Belarus         9.5    207595  45.762181"
      ]
     },
     "execution_count": 1,
     "metadata": {},
     "output_type": "execute_result"
    }
   ],
   "source": [
    "df['density'] = df.population * 1_000_000 / df.square\n",
    "\n",
    "df"
   ]
  },
  {
   "cell_type": "code",
   "execution_count": 57,
   "metadata": {
    "execution": {
     "iopub.execute_input": "2020-09-25T18:34:36.761271Z",
     "iopub.status.busy": "2020-09-25T18:34:36.760192Z",
     "iopub.status.idle": "2020-09-25T18:34:36.764918Z",
     "shell.execute_reply": "2020-09-25T18:34:36.763999Z"
    }
   },
   "outputs": [
    {
     "data": {
      "text/plain": [
       "Country Code\n",
       "RU     8.376812\n",
       "KZ     6.715843\n",
       "UA    70.241937\n",
       "BY    45.762181\n",
       "Name: density, dtype: float64"
      ]
     },
     "execution_count": 1,
     "metadata": {},
     "output_type": "execute_result"
    }
   ],
   "source": [
    "df.density"
   ]
  },
  {
   "cell_type": "code",
   "execution_count": 58,
   "metadata": {
    "execution": {
     "iopub.execute_input": "2020-09-25T18:34:36.771678Z",
     "iopub.status.busy": "2020-09-25T18:34:36.770636Z",
     "iopub.status.idle": "2020-09-25T18:34:36.774360Z",
     "shell.execute_reply": "2020-09-25T18:34:36.775057Z"
    }
   },
   "outputs": [],
   "source": [
    "del df['density']"
   ]
  },
  {
   "cell_type": "code",
   "execution_count": 59,
   "metadata": {
    "execution": {
     "iopub.execute_input": "2020-09-25T18:34:36.786427Z",
     "iopub.status.busy": "2020-09-25T18:34:36.785315Z",
     "iopub.status.idle": "2020-09-25T18:34:36.790011Z",
     "shell.execute_reply": "2020-09-25T18:34:36.789311Z"
    }
   },
   "outputs": [
    {
     "data": {
      "text/html": [
       "<div>\n",
       "<style scoped>\n",
       "    .dataframe tbody tr th:only-of-type {\n",
       "        vertical-align: middle;\n",
       "    }\n",
       "\n",
       "    .dataframe tbody tr th {\n",
       "        vertical-align: top;\n",
       "    }\n",
       "\n",
       "    .dataframe thead th {\n",
       "        text-align: right;\n",
       "    }\n",
       "</style>\n",
       "<table border=\"1\" class=\"dataframe\">\n",
       "  <thead>\n",
       "    <tr style=\"text-align: right;\">\n",
       "      <th></th>\n",
       "      <th>country</th>\n",
       "      <th>population</th>\n",
       "      <th>square</th>\n",
       "    </tr>\n",
       "    <tr>\n",
       "      <th>Country Code</th>\n",
       "      <th></th>\n",
       "      <th></th>\n",
       "      <th></th>\n",
       "    </tr>\n",
       "  </thead>\n",
       "  <tbody>\n",
       "    <tr>\n",
       "      <th>RU</th>\n",
       "      <td>Russia</td>\n",
       "      <td>144.5</td>\n",
       "      <td>17250000</td>\n",
       "    </tr>\n",
       "    <tr>\n",
       "      <th>KZ</th>\n",
       "      <td>Kazakhstan</td>\n",
       "      <td>18.3</td>\n",
       "      <td>2724900</td>\n",
       "    </tr>\n",
       "    <tr>\n",
       "      <th>UA</th>\n",
       "      <td>Ukraine</td>\n",
       "      <td>42.4</td>\n",
       "      <td>603628</td>\n",
       "    </tr>\n",
       "    <tr>\n",
       "      <th>BY</th>\n",
       "      <td>Belarus</td>\n",
       "      <td>9.5</td>\n",
       "      <td>207595</td>\n",
       "    </tr>\n",
       "  </tbody>\n",
       "</table>\n",
       "</div>"
      ],
      "text/plain": [
       "                 country  population    square\n",
       "Country Code                                  \n",
       "RU                Russia       144.5  17250000\n",
       "KZ            Kazakhstan        18.3   2724900\n",
       "UA               Ukraine        42.4    603628\n",
       "BY               Belarus         9.5    207595"
      ]
     },
     "execution_count": 1,
     "metadata": {},
     "output_type": "execute_result"
    }
   ],
   "source": [
    "df"
   ]
  },
  {
   "cell_type": "code",
   "execution_count": 60,
   "metadata": {
    "execution": {
     "iopub.execute_input": "2020-09-25T18:34:36.805931Z",
     "iopub.status.busy": "2020-09-25T18:34:36.805146Z",
     "iopub.status.idle": "2020-09-25T18:34:36.809243Z",
     "shell.execute_reply": "2020-09-25T18:34:36.808594Z"
    }
   },
   "outputs": [
    {
     "data": {
      "text/html": [
       "<div>\n",
       "<style scoped>\n",
       "    .dataframe tbody tr th:only-of-type {\n",
       "        vertical-align: middle;\n",
       "    }\n",
       "\n",
       "    .dataframe tbody tr th {\n",
       "        vertical-align: top;\n",
       "    }\n",
       "\n",
       "    .dataframe thead th {\n",
       "        text-align: right;\n",
       "    }\n",
       "</style>\n",
       "<table border=\"1\" class=\"dataframe\">\n",
       "  <thead>\n",
       "    <tr style=\"text-align: right;\">\n",
       "      <th></th>\n",
       "      <th>country</th>\n",
       "      <th>population</th>\n",
       "      <th>square</th>\n",
       "      <th>density</th>\n",
       "    </tr>\n",
       "    <tr>\n",
       "      <th>Country Code</th>\n",
       "      <th></th>\n",
       "      <th></th>\n",
       "      <th></th>\n",
       "      <th></th>\n",
       "    </tr>\n",
       "  </thead>\n",
       "  <tbody>\n",
       "    <tr>\n",
       "      <th>RU</th>\n",
       "      <td>Russia</td>\n",
       "      <td>144.5</td>\n",
       "      <td>17250000</td>\n",
       "      <td>8.376812</td>\n",
       "    </tr>\n",
       "    <tr>\n",
       "      <th>KZ</th>\n",
       "      <td>Kazakhstan</td>\n",
       "      <td>18.3</td>\n",
       "      <td>2724900</td>\n",
       "      <td>6.715843</td>\n",
       "    </tr>\n",
       "    <tr>\n",
       "      <th>UA</th>\n",
       "      <td>Ukraine</td>\n",
       "      <td>42.4</td>\n",
       "      <td>603628</td>\n",
       "      <td>70.241937</td>\n",
       "    </tr>\n",
       "    <tr>\n",
       "      <th>BY</th>\n",
       "      <td>Belarus</td>\n",
       "      <td>9.5</td>\n",
       "      <td>207595</td>\n",
       "      <td>45.762181</td>\n",
       "    </tr>\n",
       "  </tbody>\n",
       "</table>\n",
       "</div>"
      ],
      "text/plain": [
       "                 country  population    square    density\n",
       "Country Code                                             \n",
       "RU                Russia       144.5  17250000   8.376812\n",
       "KZ            Kazakhstan        18.3   2724900   6.715843\n",
       "UA               Ukraine        42.4    603628  70.241937\n",
       "BY               Belarus         9.5    207595  45.762181"
      ]
     },
     "execution_count": 1,
     "metadata": {},
     "output_type": "execute_result"
    }
   ],
   "source": [
    "df['density'] = df.population * 1_000_000 / df.square\n",
    "df"
   ]
  },
  {
   "cell_type": "code",
   "execution_count": 61,
   "metadata": {
    "execution": {
     "iopub.execute_input": "2020-09-25T18:34:36.825045Z",
     "iopub.status.busy": "2020-09-25T18:34:36.823799Z",
     "iopub.status.idle": "2020-09-25T18:34:36.829858Z",
     "shell.execute_reply": "2020-09-25T18:34:36.828873Z"
    }
   },
   "outputs": [
    {
     "data": {
      "text/html": [
       "<div>\n",
       "<style scoped>\n",
       "    .dataframe tbody tr th:only-of-type {\n",
       "        vertical-align: middle;\n",
       "    }\n",
       "\n",
       "    .dataframe tbody tr th {\n",
       "        vertical-align: top;\n",
       "    }\n",
       "\n",
       "    .dataframe thead th {\n",
       "        text-align: right;\n",
       "    }\n",
       "</style>\n",
       "<table border=\"1\" class=\"dataframe\">\n",
       "  <thead>\n",
       "    <tr style=\"text-align: right;\">\n",
       "      <th></th>\n",
       "      <th>country</th>\n",
       "      <th>population</th>\n",
       "      <th>square</th>\n",
       "    </tr>\n",
       "    <tr>\n",
       "      <th>Country Code</th>\n",
       "      <th></th>\n",
       "      <th></th>\n",
       "      <th></th>\n",
       "    </tr>\n",
       "  </thead>\n",
       "  <tbody>\n",
       "    <tr>\n",
       "      <th>RU</th>\n",
       "      <td>Russia</td>\n",
       "      <td>144.5</td>\n",
       "      <td>17250000</td>\n",
       "    </tr>\n",
       "    <tr>\n",
       "      <th>KZ</th>\n",
       "      <td>Kazakhstan</td>\n",
       "      <td>18.3</td>\n",
       "      <td>2724900</td>\n",
       "    </tr>\n",
       "    <tr>\n",
       "      <th>UA</th>\n",
       "      <td>Ukraine</td>\n",
       "      <td>42.4</td>\n",
       "      <td>603628</td>\n",
       "    </tr>\n",
       "    <tr>\n",
       "      <th>BY</th>\n",
       "      <td>Belarus</td>\n",
       "      <td>9.5</td>\n",
       "      <td>207595</td>\n",
       "    </tr>\n",
       "  </tbody>\n",
       "</table>\n",
       "</div>"
      ],
      "text/plain": [
       "                 country  population    square\n",
       "Country Code                                  \n",
       "RU                Russia       144.5  17250000\n",
       "KZ            Kazakhstan        18.3   2724900\n",
       "UA               Ukraine        42.4    603628\n",
       "BY               Belarus         9.5    207595"
      ]
     },
     "execution_count": 1,
     "metadata": {},
     "output_type": "execute_result"
    }
   ],
   "source": [
    "df.drop(['density'], axis='columns')"
   ]
  },
  {
   "cell_type": "code",
   "execution_count": 62,
   "metadata": {
    "execution": {
     "iopub.execute_input": "2020-09-25T18:34:36.836119Z",
     "iopub.status.busy": "2020-09-25T18:34:36.835399Z",
     "iopub.status.idle": "2020-09-25T18:34:36.841673Z",
     "shell.execute_reply": "2020-09-25T18:34:36.840967Z"
    }
   },
   "outputs": [],
   "source": [
    "countries_filename = 'countries_data.csv'\n",
    "df.to_csv(countries_filename)\n"
   ]
  },
  {
   "cell_type": "code",
   "execution_count": 63,
   "metadata": {
    "execution": {
     "iopub.execute_input": "2020-09-25T18:34:36.849022Z",
     "iopub.status.busy": "2020-09-25T18:34:36.847925Z",
     "iopub.status.idle": "2020-09-25T18:34:36.858315Z",
     "shell.execute_reply": "2020-09-25T18:34:36.856366Z"
    }
   },
   "outputs": [],
   "source": [
    "del df['density']\n",
    "df.to_csv(countries_filename)"
   ]
  },
  {
   "cell_type": "code",
   "execution_count": 64,
   "metadata": {
    "execution": {
     "iopub.execute_input": "2020-09-25T18:34:36.878225Z",
     "iopub.status.busy": "2020-09-25T18:34:36.866261Z",
     "iopub.status.idle": "2020-09-25T18:34:36.881648Z",
     "shell.execute_reply": "2020-09-25T18:34:36.882116Z"
    }
   },
   "outputs": [
    {
     "data": {
      "text/html": [
       "<div>\n",
       "<style scoped>\n",
       "    .dataframe tbody tr th:only-of-type {\n",
       "        vertical-align: middle;\n",
       "    }\n",
       "\n",
       "    .dataframe tbody tr th {\n",
       "        vertical-align: top;\n",
       "    }\n",
       "\n",
       "    .dataframe thead th {\n",
       "        text-align: right;\n",
       "    }\n",
       "</style>\n",
       "<table border=\"1\" class=\"dataframe\">\n",
       "  <thead>\n",
       "    <tr style=\"text-align: right;\">\n",
       "      <th></th>\n",
       "      <th>Country Code</th>\n",
       "      <th>country</th>\n",
       "      <th>population</th>\n",
       "      <th>square</th>\n",
       "    </tr>\n",
       "  </thead>\n",
       "  <tbody>\n",
       "    <tr>\n",
       "      <th>0</th>\n",
       "      <td>RU</td>\n",
       "      <td>Russia</td>\n",
       "      <td>144.5</td>\n",
       "      <td>17250000</td>\n",
       "    </tr>\n",
       "    <tr>\n",
       "      <th>1</th>\n",
       "      <td>KZ</td>\n",
       "      <td>Kazakhstan</td>\n",
       "      <td>18.3</td>\n",
       "      <td>2724900</td>\n",
       "    </tr>\n",
       "    <tr>\n",
       "      <th>2</th>\n",
       "      <td>UA</td>\n",
       "      <td>Ukraine</td>\n",
       "      <td>42.4</td>\n",
       "      <td>603628</td>\n",
       "    </tr>\n",
       "    <tr>\n",
       "      <th>3</th>\n",
       "      <td>BY</td>\n",
       "      <td>Belarus</td>\n",
       "      <td>9.5</td>\n",
       "      <td>207595</td>\n",
       "    </tr>\n",
       "  </tbody>\n",
       "</table>\n",
       "</div>"
      ],
      "text/plain": [
       "  Country Code     country  population    square\n",
       "0           RU      Russia       144.5  17250000\n",
       "1           KZ  Kazakhstan        18.3   2724900\n",
       "2           UA     Ukraine        42.4    603628\n",
       "3           BY     Belarus         9.5    207595"
      ]
     },
     "execution_count": 1,
     "metadata": {},
     "output_type": "execute_result"
    }
   ],
   "source": [
    "df = pd.read_csv(countries_filename)\n",
    "df"
   ]
  },
  {
   "cell_type": "code",
   "execution_count": 65,
   "metadata": {
    "execution": {
     "iopub.execute_input": "2020-09-25T18:34:36.905685Z",
     "iopub.status.busy": "2020-09-25T18:34:36.904756Z",
     "iopub.status.idle": "2020-09-25T18:34:36.909570Z",
     "shell.execute_reply": "2020-09-25T18:34:36.908420Z"
    }
   },
   "outputs": [
    {
     "data": {
      "text/html": [
       "<div>\n",
       "<style scoped>\n",
       "    .dataframe tbody tr th:only-of-type {\n",
       "        vertical-align: middle;\n",
       "    }\n",
       "\n",
       "    .dataframe tbody tr th {\n",
       "        vertical-align: top;\n",
       "    }\n",
       "\n",
       "    .dataframe thead th {\n",
       "        text-align: right;\n",
       "    }\n",
       "</style>\n",
       "<table border=\"1\" class=\"dataframe\">\n",
       "  <thead>\n",
       "    <tr style=\"text-align: right;\">\n",
       "      <th></th>\n",
       "      <th>country</th>\n",
       "      <th>population</th>\n",
       "      <th>square</th>\n",
       "    </tr>\n",
       "    <tr>\n",
       "      <th>Country Code</th>\n",
       "      <th></th>\n",
       "      <th></th>\n",
       "      <th></th>\n",
       "    </tr>\n",
       "  </thead>\n",
       "  <tbody>\n",
       "    <tr>\n",
       "      <th>RU</th>\n",
       "      <td>Russia</td>\n",
       "      <td>144.5</td>\n",
       "      <td>17250000</td>\n",
       "    </tr>\n",
       "    <tr>\n",
       "      <th>KZ</th>\n",
       "      <td>Kazakhstan</td>\n",
       "      <td>18.3</td>\n",
       "      <td>2724900</td>\n",
       "    </tr>\n",
       "    <tr>\n",
       "      <th>UA</th>\n",
       "      <td>Ukraine</td>\n",
       "      <td>42.4</td>\n",
       "      <td>603628</td>\n",
       "    </tr>\n",
       "    <tr>\n",
       "      <th>BY</th>\n",
       "      <td>Belarus</td>\n",
       "      <td>9.5</td>\n",
       "      <td>207595</td>\n",
       "    </tr>\n",
       "  </tbody>\n",
       "</table>\n",
       "</div>"
      ],
      "text/plain": [
       "                 country  population    square\n",
       "Country Code                                  \n",
       "RU                Russia       144.5  17250000\n",
       "KZ            Kazakhstan        18.3   2724900\n",
       "UA               Ukraine        42.4    603628\n",
       "BY               Belarus         9.5    207595"
      ]
     },
     "execution_count": 1,
     "metadata": {},
     "output_type": "execute_result"
    }
   ],
   "source": [
    "df = pd.read_csv(countries_filename, index_col=0)\n",
    "df"
   ]
  },
  {
   "cell_type": "code",
   "execution_count": 66,
   "metadata": {
    "execution": {
     "iopub.execute_input": "2020-09-25T18:34:36.915531Z",
     "iopub.status.busy": "2020-09-25T18:34:36.914465Z",
     "iopub.status.idle": "2020-09-25T18:34:36.918356Z",
     "shell.execute_reply": "2020-09-25T18:34:36.917532Z"
    }
   },
   "outputs": [
    {
     "data": {
      "text/plain": [
       "array([['Russia', 144.5, 17250000],\n",
       "       ['Kazakhstan', 18.3, 2724900],\n",
       "       ['Ukraine', 42.4, 603628],\n",
       "       ['Belarus', 9.5, 207595]], dtype=object)"
      ]
     },
     "execution_count": 1,
     "metadata": {},
     "output_type": "execute_result"
    }
   ],
   "source": [
    "df.to_numpy()"
   ]
  },
  {
   "cell_type": "code",
   "execution_count": 67,
   "metadata": {
    "execution": {
     "iopub.execute_input": "2020-09-25T18:34:36.925297Z",
     "iopub.status.busy": "2020-09-25T18:34:36.924150Z",
     "iopub.status.idle": "2020-09-25T18:34:36.950953Z",
     "shell.execute_reply": "2020-09-25T18:34:36.950038Z"
    }
   },
   "outputs": [
    {
     "data": {
      "text/html": [
       "<div>\n",
       "<style scoped>\n",
       "    .dataframe tbody tr th:only-of-type {\n",
       "        vertical-align: middle;\n",
       "    }\n",
       "\n",
       "    .dataframe tbody tr th {\n",
       "        vertical-align: top;\n",
       "    }\n",
       "\n",
       "    .dataframe thead th {\n",
       "        text-align: right;\n",
       "    }\n",
       "</style>\n",
       "<table border=\"1\" class=\"dataframe\">\n",
       "  <thead>\n",
       "    <tr style=\"text-align: right;\">\n",
       "      <th></th>\n",
       "      <th>PassengerID</th>\n",
       "      <th>Name</th>\n",
       "      <th>PClass</th>\n",
       "      <th>Age</th>\n",
       "      <th>Sex</th>\n",
       "      <th>Survived</th>\n",
       "      <th>SexCode</th>\n",
       "    </tr>\n",
       "  </thead>\n",
       "  <tbody>\n",
       "    <tr>\n",
       "      <th>0</th>\n",
       "      <td>1</td>\n",
       "      <td>Allen, Miss Elisabeth Walton</td>\n",
       "      <td>1st</td>\n",
       "      <td>29.00</td>\n",
       "      <td>female</td>\n",
       "      <td>1</td>\n",
       "      <td>1</td>\n",
       "    </tr>\n",
       "    <tr>\n",
       "      <th>1</th>\n",
       "      <td>2</td>\n",
       "      <td>Allison, Miss Helen Loraine</td>\n",
       "      <td>1st</td>\n",
       "      <td>2.00</td>\n",
       "      <td>female</td>\n",
       "      <td>0</td>\n",
       "      <td>1</td>\n",
       "    </tr>\n",
       "    <tr>\n",
       "      <th>2</th>\n",
       "      <td>3</td>\n",
       "      <td>Allison, Mr Hudson Joshua Creighton</td>\n",
       "      <td>1st</td>\n",
       "      <td>30.00</td>\n",
       "      <td>male</td>\n",
       "      <td>0</td>\n",
       "      <td>0</td>\n",
       "    </tr>\n",
       "    <tr>\n",
       "      <th>3</th>\n",
       "      <td>4</td>\n",
       "      <td>Allison, Mrs Hudson JC (Bessie Waldo Daniels)</td>\n",
       "      <td>1st</td>\n",
       "      <td>25.00</td>\n",
       "      <td>female</td>\n",
       "      <td>0</td>\n",
       "      <td>1</td>\n",
       "    </tr>\n",
       "    <tr>\n",
       "      <th>4</th>\n",
       "      <td>5</td>\n",
       "      <td>Allison, Master Hudson Trevor</td>\n",
       "      <td>1st</td>\n",
       "      <td>0.92</td>\n",
       "      <td>male</td>\n",
       "      <td>1</td>\n",
       "      <td>0</td>\n",
       "    </tr>\n",
       "    <tr>\n",
       "      <th>...</th>\n",
       "      <td>...</td>\n",
       "      <td>...</td>\n",
       "      <td>...</td>\n",
       "      <td>...</td>\n",
       "      <td>...</td>\n",
       "      <td>...</td>\n",
       "      <td>...</td>\n",
       "    </tr>\n",
       "    <tr>\n",
       "      <th>1308</th>\n",
       "      <td>1309</td>\n",
       "      <td>Zakarian, Mr Artun</td>\n",
       "      <td>3rd</td>\n",
       "      <td>27.00</td>\n",
       "      <td>male</td>\n",
       "      <td>0</td>\n",
       "      <td>0</td>\n",
       "    </tr>\n",
       "    <tr>\n",
       "      <th>1309</th>\n",
       "      <td>1310</td>\n",
       "      <td>Zakarian, Mr Maprieder</td>\n",
       "      <td>3rd</td>\n",
       "      <td>26.00</td>\n",
       "      <td>male</td>\n",
       "      <td>0</td>\n",
       "      <td>0</td>\n",
       "    </tr>\n",
       "    <tr>\n",
       "      <th>1310</th>\n",
       "      <td>1311</td>\n",
       "      <td>Zenni, Mr Philip</td>\n",
       "      <td>3rd</td>\n",
       "      <td>22.00</td>\n",
       "      <td>male</td>\n",
       "      <td>0</td>\n",
       "      <td>0</td>\n",
       "    </tr>\n",
       "    <tr>\n",
       "      <th>1311</th>\n",
       "      <td>1312</td>\n",
       "      <td>Lievens, Mr Rene</td>\n",
       "      <td>3rd</td>\n",
       "      <td>24.00</td>\n",
       "      <td>male</td>\n",
       "      <td>0</td>\n",
       "      <td>0</td>\n",
       "    </tr>\n",
       "    <tr>\n",
       "      <th>1312</th>\n",
       "      <td>1313</td>\n",
       "      <td>Zimmerman, Leo</td>\n",
       "      <td>3rd</td>\n",
       "      <td>29.00</td>\n",
       "      <td>male</td>\n",
       "      <td>0</td>\n",
       "      <td>0</td>\n",
       "    </tr>\n",
       "  </tbody>\n",
       "</table>\n",
       "<p>1313 rows × 7 columns</p>\n",
       "</div>"
      ],
      "text/plain": [
       "      PassengerID                                           Name PClass  \\\n",
       "0               1                   Allen, Miss Elisabeth Walton    1st   \n",
       "1               2                    Allison, Miss Helen Loraine    1st   \n",
       "2               3            Allison, Mr Hudson Joshua Creighton    1st   \n",
       "3               4  Allison, Mrs Hudson JC (Bessie Waldo Daniels)    1st   \n",
       "4               5                  Allison, Master Hudson Trevor    1st   \n",
       "...           ...                                            ...    ...   \n",
       "1308         1309                             Zakarian, Mr Artun    3rd   \n",
       "1309         1310                         Zakarian, Mr Maprieder    3rd   \n",
       "1310         1311                               Zenni, Mr Philip    3rd   \n",
       "1311         1312                               Lievens, Mr Rene    3rd   \n",
       "1312         1313                                 Zimmerman, Leo    3rd   \n",
       "\n",
       "        Age     Sex  Survived  SexCode  \n",
       "0     29.00  female         1        1  \n",
       "1      2.00  female         0        1  \n",
       "2     30.00    male         0        0  \n",
       "3     25.00  female         0        1  \n",
       "4      0.92    male         1        0  \n",
       "...     ...     ...       ...      ...  \n",
       "1308  27.00    male         0        0  \n",
       "1309  26.00    male         0        0  \n",
       "1310  22.00    male         0        0  \n",
       "1311  24.00    male         0        0  \n",
       "1312  29.00    male         0        0  \n",
       "\n",
       "[1313 rows x 7 columns]"
      ]
     },
     "execution_count": 1,
     "metadata": {},
     "output_type": "execute_result"
    }
   ],
   "source": [
    "titanic = pd.read_csv('titanic.csv')\n",
    "titanic"
   ]
  },
  {
   "cell_type": "code",
   "execution_count": 68,
   "metadata": {
    "execution": {
     "iopub.execute_input": "2020-09-25T18:34:36.970998Z",
     "iopub.status.busy": "2020-09-25T18:34:36.970303Z",
     "iopub.status.idle": "2020-09-25T18:34:36.973377Z",
     "shell.execute_reply": "2020-09-25T18:34:36.974013Z"
    }
   },
   "outputs": [
    {
     "data": {
      "text/html": [
       "<div>\n",
       "<style scoped>\n",
       "    .dataframe tbody tr th:only-of-type {\n",
       "        vertical-align: middle;\n",
       "    }\n",
       "\n",
       "    .dataframe tbody tr th {\n",
       "        vertical-align: top;\n",
       "    }\n",
       "\n",
       "    .dataframe thead th {\n",
       "        text-align: right;\n",
       "    }\n",
       "</style>\n",
       "<table border=\"1\" class=\"dataframe\">\n",
       "  <thead>\n",
       "    <tr style=\"text-align: right;\">\n",
       "      <th></th>\n",
       "      <th>PassengerID</th>\n",
       "      <th>Name</th>\n",
       "      <th>PClass</th>\n",
       "      <th>Age</th>\n",
       "      <th>Sex</th>\n",
       "      <th>Survived</th>\n",
       "      <th>SexCode</th>\n",
       "    </tr>\n",
       "  </thead>\n",
       "  <tbody>\n",
       "    <tr>\n",
       "      <th>0</th>\n",
       "      <td>1</td>\n",
       "      <td>Allen, Miss Elisabeth Walton</td>\n",
       "      <td>1st</td>\n",
       "      <td>29.00</td>\n",
       "      <td>female</td>\n",
       "      <td>1</td>\n",
       "      <td>1</td>\n",
       "    </tr>\n",
       "    <tr>\n",
       "      <th>1</th>\n",
       "      <td>2</td>\n",
       "      <td>Allison, Miss Helen Loraine</td>\n",
       "      <td>1st</td>\n",
       "      <td>2.00</td>\n",
       "      <td>female</td>\n",
       "      <td>0</td>\n",
       "      <td>1</td>\n",
       "    </tr>\n",
       "    <tr>\n",
       "      <th>2</th>\n",
       "      <td>3</td>\n",
       "      <td>Allison, Mr Hudson Joshua Creighton</td>\n",
       "      <td>1st</td>\n",
       "      <td>30.00</td>\n",
       "      <td>male</td>\n",
       "      <td>0</td>\n",
       "      <td>0</td>\n",
       "    </tr>\n",
       "    <tr>\n",
       "      <th>3</th>\n",
       "      <td>4</td>\n",
       "      <td>Allison, Mrs Hudson JC (Bessie Waldo Daniels)</td>\n",
       "      <td>1st</td>\n",
       "      <td>25.00</td>\n",
       "      <td>female</td>\n",
       "      <td>0</td>\n",
       "      <td>1</td>\n",
       "    </tr>\n",
       "    <tr>\n",
       "      <th>4</th>\n",
       "      <td>5</td>\n",
       "      <td>Allison, Master Hudson Trevor</td>\n",
       "      <td>1st</td>\n",
       "      <td>0.92</td>\n",
       "      <td>male</td>\n",
       "      <td>1</td>\n",
       "      <td>0</td>\n",
       "    </tr>\n",
       "  </tbody>\n",
       "</table>\n",
       "</div>"
      ],
      "text/plain": [
       "   PassengerID                                           Name PClass    Age  \\\n",
       "0            1                   Allen, Miss Elisabeth Walton    1st  29.00   \n",
       "1            2                    Allison, Miss Helen Loraine    1st   2.00   \n",
       "2            3            Allison, Mr Hudson Joshua Creighton    1st  30.00   \n",
       "3            4  Allison, Mrs Hudson JC (Bessie Waldo Daniels)    1st  25.00   \n",
       "4            5                  Allison, Master Hudson Trevor    1st   0.92   \n",
       "\n",
       "      Sex  Survived  SexCode  \n",
       "0  female         1        1  \n",
       "1  female         0        1  \n",
       "2    male         0        0  \n",
       "3  female         0        1  \n",
       "4    male         1        0  "
      ]
     },
     "execution_count": 1,
     "metadata": {},
     "output_type": "execute_result"
    }
   ],
   "source": [
    "titanic.head()"
   ]
  },
  {
   "cell_type": "code",
   "execution_count": 69,
   "metadata": {
    "execution": {
     "iopub.execute_input": "2020-09-25T18:34:36.986908Z",
     "iopub.status.busy": "2020-09-25T18:34:36.985880Z",
     "iopub.status.idle": "2020-09-25T18:34:36.989727Z",
     "shell.execute_reply": "2020-09-25T18:34:36.990555Z"
    }
   },
   "outputs": [
    {
     "data": {
      "text/html": [
       "<div>\n",
       "<style scoped>\n",
       "    .dataframe tbody tr th:only-of-type {\n",
       "        vertical-align: middle;\n",
       "    }\n",
       "\n",
       "    .dataframe tbody tr th {\n",
       "        vertical-align: top;\n",
       "    }\n",
       "\n",
       "    .dataframe thead th {\n",
       "        text-align: right;\n",
       "    }\n",
       "</style>\n",
       "<table border=\"1\" class=\"dataframe\">\n",
       "  <thead>\n",
       "    <tr style=\"text-align: right;\">\n",
       "      <th></th>\n",
       "      <th>PassengerID</th>\n",
       "      <th>Name</th>\n",
       "      <th>PClass</th>\n",
       "      <th>Age</th>\n",
       "      <th>Sex</th>\n",
       "      <th>Survived</th>\n",
       "      <th>SexCode</th>\n",
       "    </tr>\n",
       "  </thead>\n",
       "  <tbody>\n",
       "    <tr>\n",
       "      <th>1309</th>\n",
       "      <td>1310</td>\n",
       "      <td>Zakarian, Mr Maprieder</td>\n",
       "      <td>3rd</td>\n",
       "      <td>26.0</td>\n",
       "      <td>male</td>\n",
       "      <td>0</td>\n",
       "      <td>0</td>\n",
       "    </tr>\n",
       "    <tr>\n",
       "      <th>1310</th>\n",
       "      <td>1311</td>\n",
       "      <td>Zenni, Mr Philip</td>\n",
       "      <td>3rd</td>\n",
       "      <td>22.0</td>\n",
       "      <td>male</td>\n",
       "      <td>0</td>\n",
       "      <td>0</td>\n",
       "    </tr>\n",
       "    <tr>\n",
       "      <th>1311</th>\n",
       "      <td>1312</td>\n",
       "      <td>Lievens, Mr Rene</td>\n",
       "      <td>3rd</td>\n",
       "      <td>24.0</td>\n",
       "      <td>male</td>\n",
       "      <td>0</td>\n",
       "      <td>0</td>\n",
       "    </tr>\n",
       "    <tr>\n",
       "      <th>1312</th>\n",
       "      <td>1313</td>\n",
       "      <td>Zimmerman, Leo</td>\n",
       "      <td>3rd</td>\n",
       "      <td>29.0</td>\n",
       "      <td>male</td>\n",
       "      <td>0</td>\n",
       "      <td>0</td>\n",
       "    </tr>\n",
       "  </tbody>\n",
       "</table>\n",
       "</div>"
      ],
      "text/plain": [
       "      PassengerID                    Name PClass   Age   Sex  Survived  \\\n",
       "1309         1310  Zakarian, Mr Maprieder    3rd  26.0  male         0   \n",
       "1310         1311        Zenni, Mr Philip    3rd  22.0  male         0   \n",
       "1311         1312        Lievens, Mr Rene    3rd  24.0  male         0   \n",
       "1312         1313          Zimmerman, Leo    3rd  29.0  male         0   \n",
       "\n",
       "      SexCode  \n",
       "1309        0  \n",
       "1310        0  \n",
       "1311        0  \n",
       "1312        0  "
      ]
     },
     "execution_count": 1,
     "metadata": {},
     "output_type": "execute_result"
    }
   ],
   "source": [
    "titanic.tail(4)"
   ]
  },
  {
   "cell_type": "code",
   "execution_count": 70,
   "metadata": {
    "execution": {
     "iopub.execute_input": "2020-09-25T18:34:37.000545Z",
     "iopub.status.busy": "2020-09-25T18:34:36.999717Z",
     "iopub.status.idle": "2020-09-25T18:34:37.012215Z",
     "shell.execute_reply": "2020-09-25T18:34:37.013325Z"
    }
   },
   "outputs": [
    {
     "data": {
      "text/html": [
       "<div>\n",
       "<style scoped>\n",
       "    .dataframe tbody tr th:only-of-type {\n",
       "        vertical-align: middle;\n",
       "    }\n",
       "\n",
       "    .dataframe tbody tr th {\n",
       "        vertical-align: top;\n",
       "    }\n",
       "\n",
       "    .dataframe thead th {\n",
       "        text-align: right;\n",
       "    }\n",
       "</style>\n",
       "<table border=\"1\" class=\"dataframe\">\n",
       "  <thead>\n",
       "    <tr style=\"text-align: right;\">\n",
       "      <th></th>\n",
       "      <th></th>\n",
       "      <th>PassengerID</th>\n",
       "      <th>Name</th>\n",
       "      <th>PClass</th>\n",
       "      <th>Age</th>\n",
       "      <th>SexCode</th>\n",
       "    </tr>\n",
       "    <tr>\n",
       "      <th>Sex</th>\n",
       "      <th>Survived</th>\n",
       "      <th></th>\n",
       "      <th></th>\n",
       "      <th></th>\n",
       "      <th></th>\n",
       "      <th></th>\n",
       "    </tr>\n",
       "  </thead>\n",
       "  <tbody>\n",
       "    <tr>\n",
       "      <th rowspan=\"2\" valign=\"top\">female</th>\n",
       "      <th>0</th>\n",
       "      <td>154</td>\n",
       "      <td>154</td>\n",
       "      <td>154</td>\n",
       "      <td>71</td>\n",
       "      <td>154</td>\n",
       "    </tr>\n",
       "    <tr>\n",
       "      <th>1</th>\n",
       "      <td>308</td>\n",
       "      <td>308</td>\n",
       "      <td>308</td>\n",
       "      <td>217</td>\n",
       "      <td>308</td>\n",
       "    </tr>\n",
       "    <tr>\n",
       "      <th rowspan=\"2\" valign=\"top\">male</th>\n",
       "      <th>0</th>\n",
       "      <td>709</td>\n",
       "      <td>709</td>\n",
       "      <td>709</td>\n",
       "      <td>372</td>\n",
       "      <td>709</td>\n",
       "    </tr>\n",
       "    <tr>\n",
       "      <th>1</th>\n",
       "      <td>142</td>\n",
       "      <td>142</td>\n",
       "      <td>142</td>\n",
       "      <td>96</td>\n",
       "      <td>142</td>\n",
       "    </tr>\n",
       "  </tbody>\n",
       "</table>\n",
       "</div>"
      ],
      "text/plain": [
       "                 PassengerID  Name  PClass  Age  SexCode\n",
       "Sex    Survived                                         \n",
       "female 0                 154   154     154   71      154\n",
       "       1                 308   308     308  217      308\n",
       "male   0                 709   709     709  372      709\n",
       "       1                 142   142     142   96      142"
      ]
     },
     "execution_count": 1,
     "metadata": {},
     "output_type": "execute_result"
    }
   ],
   "source": [
    "titanic.groupby(['Sex', 'Survived']).count()"
   ]
  },
  {
   "cell_type": "code",
   "execution_count": 71,
   "metadata": {
    "execution": {
     "iopub.execute_input": "2020-09-25T18:34:37.020505Z",
     "iopub.status.busy": "2020-09-25T18:34:37.019870Z",
     "iopub.status.idle": "2020-09-25T18:34:37.027679Z",
     "shell.execute_reply": "2020-09-25T18:34:37.028951Z"
    }
   },
   "outputs": [
    {
     "data": {
      "text/plain": [
       "Sex     Survived\n",
       "female  0           154\n",
       "        1           308\n",
       "male    0           709\n",
       "        1           142\n",
       "Name: PassengerID, dtype: int64"
      ]
     },
     "execution_count": 1,
     "metadata": {},
     "output_type": "execute_result"
    }
   ],
   "source": [
    "titanic.groupby(['Sex', 'Survived'])['PassengerID'].count()"
   ]
  },
  {
   "cell_type": "code",
   "execution_count": 72,
   "metadata": {
    "execution": {
     "iopub.execute_input": "2020-09-25T18:34:37.037028Z",
     "iopub.status.busy": "2020-09-25T18:34:37.036178Z",
     "iopub.status.idle": "2020-09-25T18:34:37.045093Z",
     "shell.execute_reply": "2020-09-25T18:34:37.044218Z"
    }
   },
   "outputs": [
    {
     "data": {
      "text/plain": [
       "PClass  Survived\n",
       "*       0             1\n",
       "1st     0           129\n",
       "        1           193\n",
       "2nd     0           160\n",
       "        1           119\n",
       "3rd     0           573\n",
       "        1           138\n",
       "Name: PassengerID, dtype: int64"
      ]
     },
     "execution_count": 1,
     "metadata": {},
     "output_type": "execute_result"
    }
   ],
   "source": [
    "titanic.groupby(['PClass', 'Survived'])['PassengerID'].count()"
   ]
  },
  {
   "cell_type": "code",
   "execution_count": 73,
   "metadata": {
    "execution": {
     "iopub.execute_input": "2020-09-25T18:34:37.061767Z",
     "iopub.status.busy": "2020-09-25T18:34:37.058131Z",
     "iopub.status.idle": "2020-09-25T18:34:37.078988Z",
     "shell.execute_reply": "2020-09-25T18:34:37.077591Z"
    }
   },
   "outputs": [
    {
     "data": {
      "text/html": [
       "<div>\n",
       "<style scoped>\n",
       "    .dataframe tbody tr th:only-of-type {\n",
       "        vertical-align: middle;\n",
       "    }\n",
       "\n",
       "    .dataframe tbody tr th {\n",
       "        vertical-align: top;\n",
       "    }\n",
       "\n",
       "    .dataframe thead th {\n",
       "        text-align: right;\n",
       "    }\n",
       "</style>\n",
       "<table border=\"1\" class=\"dataframe\">\n",
       "  <thead>\n",
       "    <tr style=\"text-align: right;\">\n",
       "      <th>PClass</th>\n",
       "      <th>*</th>\n",
       "      <th>1st</th>\n",
       "      <th>2nd</th>\n",
       "      <th>3rd</th>\n",
       "    </tr>\n",
       "    <tr>\n",
       "      <th>Sex</th>\n",
       "      <th></th>\n",
       "      <th></th>\n",
       "      <th></th>\n",
       "      <th></th>\n",
       "    </tr>\n",
       "  </thead>\n",
       "  <tbody>\n",
       "    <tr>\n",
       "      <th>female</th>\n",
       "      <td>NaN</td>\n",
       "      <td>143.0</td>\n",
       "      <td>107.0</td>\n",
       "      <td>212.0</td>\n",
       "    </tr>\n",
       "    <tr>\n",
       "      <th>male</th>\n",
       "      <td>1.0</td>\n",
       "      <td>179.0</td>\n",
       "      <td>172.0</td>\n",
       "      <td>499.0</td>\n",
       "    </tr>\n",
       "  </tbody>\n",
       "</table>\n",
       "</div>"
      ],
      "text/plain": [
       "PClass    *    1st    2nd    3rd\n",
       "Sex                             \n",
       "female  NaN  143.0  107.0  212.0\n",
       "male    1.0  179.0  172.0  499.0"
      ]
     },
     "execution_count": 1,
     "metadata": {},
     "output_type": "execute_result"
    }
   ],
   "source": [
    "pvt = titanic.pivot_table(\n",
    "    index=['Sex'],\n",
    "    columns=['PClass'],\n",
    "    values='Name',\n",
    "    aggfunc='count',\n",
    ")\n",
    "pvt"
   ]
  },
  {
   "cell_type": "code",
   "execution_count": 74,
   "metadata": {
    "execution": {
     "iopub.execute_input": "2020-09-25T18:34:37.085862Z",
     "iopub.status.busy": "2020-09-25T18:34:37.085094Z",
     "iopub.status.idle": "2020-09-25T18:34:37.108625Z",
     "shell.execute_reply": "2020-09-25T18:34:37.107605Z"
    }
   },
   "outputs": [
    {
     "data": {
      "text/html": [
       "<div>\n",
       "<style scoped>\n",
       "    .dataframe tbody tr th:only-of-type {\n",
       "        vertical-align: middle;\n",
       "    }\n",
       "\n",
       "    .dataframe tbody tr th {\n",
       "        vertical-align: top;\n",
       "    }\n",
       "\n",
       "    .dataframe thead th {\n",
       "        text-align: right;\n",
       "    }\n",
       "</style>\n",
       "<table border=\"1\" class=\"dataframe\">\n",
       "  <thead>\n",
       "    <tr style=\"text-align: right;\">\n",
       "      <th></th>\n",
       "      <th>AT0000A18XM4 SW</th>\n",
       "      <th>BE0974268972 BB</th>\n",
       "      <th>US0527691069 US</th>\n",
       "      <th>DE0007164600 GR</th>\n",
       "      <th>US6092071058 US</th>\n",
       "    </tr>\n",
       "  </thead>\n",
       "  <tbody>\n",
       "    <tr>\n",
       "      <th>2014-01-14</th>\n",
       "      <td>0.184660</td>\n",
       "      <td>0.275706</td>\n",
       "      <td>0.303425</td>\n",
       "      <td>0.042841</td>\n",
       "      <td>0.193368</td>\n",
       "    </tr>\n",
       "    <tr>\n",
       "      <th>2014-01-15</th>\n",
       "      <td>0.225875</td>\n",
       "      <td>0.147861</td>\n",
       "      <td>0.151211</td>\n",
       "      <td>0.224074</td>\n",
       "      <td>0.250978</td>\n",
       "    </tr>\n",
       "    <tr>\n",
       "      <th>2014-01-16</th>\n",
       "      <td>0.261017</td>\n",
       "      <td>0.334213</td>\n",
       "      <td>0.293336</td>\n",
       "      <td>0.015744</td>\n",
       "      <td>0.095690</td>\n",
       "    </tr>\n",
       "    <tr>\n",
       "      <th>2014-01-17</th>\n",
       "      <td>0.160168</td>\n",
       "      <td>0.231034</td>\n",
       "      <td>0.092674</td>\n",
       "      <td>0.269050</td>\n",
       "      <td>0.247074</td>\n",
       "    </tr>\n",
       "    <tr>\n",
       "      <th>2014-01-18</th>\n",
       "      <td>0.057162</td>\n",
       "      <td>0.254146</td>\n",
       "      <td>0.027286</td>\n",
       "      <td>0.480660</td>\n",
       "      <td>0.180746</td>\n",
       "    </tr>\n",
       "    <tr>\n",
       "      <th>...</th>\n",
       "      <td>...</td>\n",
       "      <td>...</td>\n",
       "      <td>...</td>\n",
       "      <td>...</td>\n",
       "      <td>...</td>\n",
       "    </tr>\n",
       "    <tr>\n",
       "      <th>2018-02-28</th>\n",
       "      <td>0.123821</td>\n",
       "      <td>0.167899</td>\n",
       "      <td>0.120844</td>\n",
       "      <td>0.088780</td>\n",
       "      <td>0.498657</td>\n",
       "    </tr>\n",
       "    <tr>\n",
       "      <th>2018-03-01</th>\n",
       "      <td>0.035043</td>\n",
       "      <td>0.289624</td>\n",
       "      <td>0.220871</td>\n",
       "      <td>0.136366</td>\n",
       "      <td>0.318096</td>\n",
       "    </tr>\n",
       "    <tr>\n",
       "      <th>2018-03-02</th>\n",
       "      <td>0.397155</td>\n",
       "      <td>0.362025</td>\n",
       "      <td>0.050554</td>\n",
       "      <td>0.020247</td>\n",
       "      <td>0.170019</td>\n",
       "    </tr>\n",
       "    <tr>\n",
       "      <th>2018-03-03</th>\n",
       "      <td>0.319902</td>\n",
       "      <td>0.277405</td>\n",
       "      <td>0.051719</td>\n",
       "      <td>0.008164</td>\n",
       "      <td>0.342810</td>\n",
       "    </tr>\n",
       "    <tr>\n",
       "      <th>2018-03-06</th>\n",
       "      <td>0.057699</td>\n",
       "      <td>0.352290</td>\n",
       "      <td>0.291162</td>\n",
       "      <td>0.197700</td>\n",
       "      <td>0.101148</td>\n",
       "    </tr>\n",
       "  </tbody>\n",
       "</table>\n",
       "<p>1081 rows × 5 columns</p>\n",
       "</div>"
      ],
      "text/plain": [
       "            AT0000A18XM4 SW  BE0974268972 BB  US0527691069 US  \\\n",
       "2014-01-14         0.184660         0.275706         0.303425   \n",
       "2014-01-15         0.225875         0.147861         0.151211   \n",
       "2014-01-16         0.261017         0.334213         0.293336   \n",
       "2014-01-17         0.160168         0.231034         0.092674   \n",
       "2014-01-18         0.057162         0.254146         0.027286   \n",
       "...                     ...              ...              ...   \n",
       "2018-02-28         0.123821         0.167899         0.120844   \n",
       "2018-03-01         0.035043         0.289624         0.220871   \n",
       "2018-03-02         0.397155         0.362025         0.050554   \n",
       "2018-03-03         0.319902         0.277405         0.051719   \n",
       "2018-03-06         0.057699         0.352290         0.291162   \n",
       "\n",
       "            DE0007164600 GR  US6092071058 US  \n",
       "2014-01-14         0.042841         0.193368  \n",
       "2014-01-15         0.224074         0.250978  \n",
       "2014-01-16         0.015744         0.095690  \n",
       "2014-01-17         0.269050         0.247074  \n",
       "2014-01-18         0.480660         0.180746  \n",
       "...                     ...              ...  \n",
       "2018-02-28         0.088780         0.498657  \n",
       "2018-03-01         0.136366         0.318096  \n",
       "2018-03-02         0.020247         0.170019  \n",
       "2018-03-03         0.008164         0.342810  \n",
       "2018-03-06         0.197700         0.101148  \n",
       "\n",
       "[1081 rows x 5 columns]"
      ]
     },
     "execution_count": 1,
     "metadata": {},
     "output_type": "execute_result"
    }
   ],
   "source": [
    "weights = pd.read_csv(\n",
    "    'weights.csv',\n",
    "    index_col=0,\n",
    "    parse_dates=True,\n",
    ")\n",
    "\n",
    "weights"
   ]
  },
  {
   "cell_type": "code",
   "execution_count": 75,
   "metadata": {
    "execution": {
     "iopub.execute_input": "2020-09-25T18:34:37.128494Z",
     "iopub.status.busy": "2020-09-25T18:34:37.112744Z",
     "iopub.status.idle": "2020-09-25T18:34:37.135268Z",
     "shell.execute_reply": "2020-09-25T18:34:37.134265Z"
    }
   },
   "outputs": [
    {
     "data": {
      "text/html": [
       "<div>\n",
       "<style scoped>\n",
       "    .dataframe tbody tr th:only-of-type {\n",
       "        vertical-align: middle;\n",
       "    }\n",
       "\n",
       "    .dataframe tbody tr th {\n",
       "        vertical-align: top;\n",
       "    }\n",
       "\n",
       "    .dataframe thead th {\n",
       "        text-align: right;\n",
       "    }\n",
       "</style>\n",
       "<table border=\"1\" class=\"dataframe\">\n",
       "  <thead>\n",
       "    <tr style=\"text-align: right;\">\n",
       "      <th></th>\n",
       "      <th>AT0000A18XM4 SW</th>\n",
       "      <th>BE0974268972 BB</th>\n",
       "      <th>US0527691069 US</th>\n",
       "      <th>DE0007164600 GR</th>\n",
       "      <th>US6092071058 US</th>\n",
       "    </tr>\n",
       "  </thead>\n",
       "  <tbody>\n",
       "    <tr>\n",
       "      <th>2014-01-14</th>\n",
       "      <td>0.184660</td>\n",
       "      <td>0.275706</td>\n",
       "      <td>0.303425</td>\n",
       "      <td>0.042841</td>\n",
       "      <td>0.193368</td>\n",
       "    </tr>\n",
       "    <tr>\n",
       "      <th>2014-01-15</th>\n",
       "      <td>0.225875</td>\n",
       "      <td>0.147861</td>\n",
       "      <td>0.151211</td>\n",
       "      <td>0.224074</td>\n",
       "      <td>0.250978</td>\n",
       "    </tr>\n",
       "    <tr>\n",
       "      <th>2014-01-16</th>\n",
       "      <td>0.261017</td>\n",
       "      <td>0.334213</td>\n",
       "      <td>0.293336</td>\n",
       "      <td>0.015744</td>\n",
       "      <td>0.095690</td>\n",
       "    </tr>\n",
       "    <tr>\n",
       "      <th>2014-01-17</th>\n",
       "      <td>0.160168</td>\n",
       "      <td>0.231034</td>\n",
       "      <td>0.092674</td>\n",
       "      <td>0.269050</td>\n",
       "      <td>0.247074</td>\n",
       "    </tr>\n",
       "    <tr>\n",
       "      <th>2014-01-18</th>\n",
       "      <td>0.057162</td>\n",
       "      <td>0.254146</td>\n",
       "      <td>0.027286</td>\n",
       "      <td>0.480660</td>\n",
       "      <td>0.180746</td>\n",
       "    </tr>\n",
       "    <tr>\n",
       "      <th>...</th>\n",
       "      <td>...</td>\n",
       "      <td>...</td>\n",
       "      <td>...</td>\n",
       "      <td>...</td>\n",
       "      <td>...</td>\n",
       "    </tr>\n",
       "    <tr>\n",
       "      <th>2018-02-28</th>\n",
       "      <td>0.123821</td>\n",
       "      <td>0.167899</td>\n",
       "      <td>0.120844</td>\n",
       "      <td>0.088780</td>\n",
       "      <td>0.498657</td>\n",
       "    </tr>\n",
       "    <tr>\n",
       "      <th>2018-03-01</th>\n",
       "      <td>0.035043</td>\n",
       "      <td>0.289624</td>\n",
       "      <td>0.220871</td>\n",
       "      <td>0.136366</td>\n",
       "      <td>0.318096</td>\n",
       "    </tr>\n",
       "    <tr>\n",
       "      <th>2018-03-02</th>\n",
       "      <td>0.397155</td>\n",
       "      <td>0.362025</td>\n",
       "      <td>0.050554</td>\n",
       "      <td>0.020247</td>\n",
       "      <td>0.170019</td>\n",
       "    </tr>\n",
       "    <tr>\n",
       "      <th>2018-03-03</th>\n",
       "      <td>0.319902</td>\n",
       "      <td>0.277405</td>\n",
       "      <td>0.051719</td>\n",
       "      <td>0.008164</td>\n",
       "      <td>0.342810</td>\n",
       "    </tr>\n",
       "    <tr>\n",
       "      <th>2018-03-06</th>\n",
       "      <td>0.057699</td>\n",
       "      <td>0.352290</td>\n",
       "      <td>0.291162</td>\n",
       "      <td>0.197700</td>\n",
       "      <td>0.101148</td>\n",
       "    </tr>\n",
       "  </tbody>\n",
       "</table>\n",
       "<p>1081 rows × 5 columns</p>\n",
       "</div>"
      ],
      "text/plain": [
       "            AT0000A18XM4 SW  BE0974268972 BB  US0527691069 US  \\\n",
       "2014-01-14         0.184660         0.275706         0.303425   \n",
       "2014-01-15         0.225875         0.147861         0.151211   \n",
       "2014-01-16         0.261017         0.334213         0.293336   \n",
       "2014-01-17         0.160168         0.231034         0.092674   \n",
       "2014-01-18         0.057162         0.254146         0.027286   \n",
       "...                     ...              ...              ...   \n",
       "2018-02-28         0.123821         0.167899         0.120844   \n",
       "2018-03-01         0.035043         0.289624         0.220871   \n",
       "2018-03-02         0.397155         0.362025         0.050554   \n",
       "2018-03-03         0.319902         0.277405         0.051719   \n",
       "2018-03-06         0.057699         0.352290         0.291162   \n",
       "\n",
       "            DE0007164600 GR  US6092071058 US  \n",
       "2014-01-14         0.042841         0.193368  \n",
       "2014-01-15         0.224074         0.250978  \n",
       "2014-01-16         0.015744         0.095690  \n",
       "2014-01-17         0.269050         0.247074  \n",
       "2014-01-18         0.480660         0.180746  \n",
       "...                     ...              ...  \n",
       "2018-02-28         0.088780         0.498657  \n",
       "2018-03-01         0.136366         0.318096  \n",
       "2018-03-02         0.020247         0.170019  \n",
       "2018-03-03         0.008164         0.342810  \n",
       "2018-03-06         0.197700         0.101148  \n",
       "\n",
       "[1081 rows x 5 columns]"
      ]
     },
     "execution_count": 1,
     "metadata": {},
     "output_type": "execute_result"
    }
   ],
   "source": [
    "weights = weights.sort_index()\n",
    "\n",
    "weights"
   ]
  },
  {
   "cell_type": "code",
   "execution_count": 76,
   "metadata": {
    "execution": {
     "iopub.execute_input": "2020-09-25T18:34:37.142303Z",
     "iopub.status.busy": "2020-09-25T18:34:37.141644Z",
     "iopub.status.idle": "2020-09-25T18:34:37.146042Z",
     "shell.execute_reply": "2020-09-25T18:34:37.145389Z"
    }
   },
   "outputs": [
    {
     "data": {
      "text/plain": [
       "2014-01-14    0.184660\n",
       "2014-01-15    0.225875\n",
       "2014-01-16    0.261017\n",
       "2014-01-17    0.160168\n",
       "2014-01-18    0.057162\n",
       "Name: AT0000A18XM4 SW, dtype: float64"
      ]
     },
     "execution_count": 1,
     "metadata": {},
     "output_type": "execute_result"
    }
   ],
   "source": [
    "weights['AT0000A18XM4 SW'].head()"
   ]
  },
  {
   "cell_type": "code",
   "execution_count": 77,
   "metadata": {
    "execution": {
     "iopub.execute_input": "2020-09-25T18:34:37.155883Z",
     "iopub.status.busy": "2020-09-25T18:34:37.155012Z",
     "iopub.status.idle": "2020-09-25T18:34:37.162447Z",
     "shell.execute_reply": "2020-09-25T18:34:37.161286Z"
    }
   },
   "outputs": [
    {
     "data": {
      "text/plain": [
       "2014-01-14    0.184660\n",
       "2014-01-15    0.225875\n",
       "2014-01-16    0.261017\n",
       "2014-01-17    0.160168\n",
       "2014-01-18    0.057162\n",
       "                ...   \n",
       "2018-02-28    0.123821\n",
       "2018-03-01    0.035043\n",
       "2018-03-02    0.397155\n",
       "2018-03-03    0.319902\n",
       "2018-03-06    0.057699\n",
       "Name: AT0000A18XM4 SW, Length: 1081, dtype: float64"
      ]
     },
     "execution_count": 1,
     "metadata": {},
     "output_type": "execute_result"
    }
   ],
   "source": [
    "weights['AT0000A18XM4 SW']"
   ]
  },
  {
   "cell_type": "code",
   "execution_count": 78,
   "metadata": {
    "execution": {
     "iopub.execute_input": "2020-09-25T18:34:37.179739Z",
     "iopub.status.busy": "2020-09-25T18:34:37.179051Z",
     "iopub.status.idle": "2020-09-25T18:34:37.183192Z",
     "shell.execute_reply": "2020-09-25T18:34:37.182486Z"
    }
   },
   "outputs": [
    {
     "data": {
      "text/html": [
       "<div>\n",
       "<style scoped>\n",
       "    .dataframe tbody tr th:only-of-type {\n",
       "        vertical-align: middle;\n",
       "    }\n",
       "\n",
       "    .dataframe tbody tr th {\n",
       "        vertical-align: top;\n",
       "    }\n",
       "\n",
       "    .dataframe thead th {\n",
       "        text-align: right;\n",
       "    }\n",
       "</style>\n",
       "<table border=\"1\" class=\"dataframe\">\n",
       "  <thead>\n",
       "    <tr style=\"text-align: right;\">\n",
       "      <th></th>\n",
       "      <th>AT0000A18XM4 SW</th>\n",
       "      <th>BE0974268972 BB</th>\n",
       "    </tr>\n",
       "  </thead>\n",
       "  <tbody>\n",
       "    <tr>\n",
       "      <th>2014-01-14</th>\n",
       "      <td>0.184660</td>\n",
       "      <td>0.275706</td>\n",
       "    </tr>\n",
       "    <tr>\n",
       "      <th>2014-01-15</th>\n",
       "      <td>0.225875</td>\n",
       "      <td>0.147861</td>\n",
       "    </tr>\n",
       "    <tr>\n",
       "      <th>2014-01-16</th>\n",
       "      <td>0.261017</td>\n",
       "      <td>0.334213</td>\n",
       "    </tr>\n",
       "    <tr>\n",
       "      <th>2014-01-17</th>\n",
       "      <td>0.160168</td>\n",
       "      <td>0.231034</td>\n",
       "    </tr>\n",
       "    <tr>\n",
       "      <th>2014-01-18</th>\n",
       "      <td>0.057162</td>\n",
       "      <td>0.254146</td>\n",
       "    </tr>\n",
       "    <tr>\n",
       "      <th>...</th>\n",
       "      <td>...</td>\n",
       "      <td>...</td>\n",
       "    </tr>\n",
       "    <tr>\n",
       "      <th>2018-02-28</th>\n",
       "      <td>0.123821</td>\n",
       "      <td>0.167899</td>\n",
       "    </tr>\n",
       "    <tr>\n",
       "      <th>2018-03-01</th>\n",
       "      <td>0.035043</td>\n",
       "      <td>0.289624</td>\n",
       "    </tr>\n",
       "    <tr>\n",
       "      <th>2018-03-02</th>\n",
       "      <td>0.397155</td>\n",
       "      <td>0.362025</td>\n",
       "    </tr>\n",
       "    <tr>\n",
       "      <th>2018-03-03</th>\n",
       "      <td>0.319902</td>\n",
       "      <td>0.277405</td>\n",
       "    </tr>\n",
       "    <tr>\n",
       "      <th>2018-03-06</th>\n",
       "      <td>0.057699</td>\n",
       "      <td>0.352290</td>\n",
       "    </tr>\n",
       "  </tbody>\n",
       "</table>\n",
       "<p>1081 rows × 2 columns</p>\n",
       "</div>"
      ],
      "text/plain": [
       "            AT0000A18XM4 SW  BE0974268972 BB\n",
       "2014-01-14         0.184660         0.275706\n",
       "2014-01-15         0.225875         0.147861\n",
       "2014-01-16         0.261017         0.334213\n",
       "2014-01-17         0.160168         0.231034\n",
       "2014-01-18         0.057162         0.254146\n",
       "...                     ...              ...\n",
       "2018-02-28         0.123821         0.167899\n",
       "2018-03-01         0.035043         0.289624\n",
       "2018-03-02         0.397155         0.362025\n",
       "2018-03-03         0.319902         0.277405\n",
       "2018-03-06         0.057699         0.352290\n",
       "\n",
       "[1081 rows x 2 columns]"
      ]
     },
     "execution_count": 1,
     "metadata": {},
     "output_type": "execute_result"
    }
   ],
   "source": [
    "weights[['AT0000A18XM4 SW', 'BE0974268972 BB']]"
   ]
  },
  {
   "cell_type": "code",
   "execution_count": 79,
   "metadata": {
    "execution": {
     "iopub.execute_input": "2020-09-25T18:34:37.188077Z",
     "iopub.status.busy": "2020-09-25T18:34:37.187454Z",
     "iopub.status.idle": "2020-09-25T18:34:37.190846Z",
     "shell.execute_reply": "2020-09-25T18:34:37.189919Z"
    }
   },
   "outputs": [],
   "source": [
    "# print(weights.to_string())"
   ]
  },
  {
   "cell_type": "code",
   "execution_count": 80,
   "metadata": {
    "execution": {
     "iopub.execute_input": "2020-09-25T18:34:37.198534Z",
     "iopub.status.busy": "2020-09-25T18:34:37.197188Z",
     "iopub.status.idle": "2020-09-25T18:34:37.220858Z",
     "shell.execute_reply": "2020-09-25T18:34:37.221441Z"
    }
   },
   "outputs": [
    {
     "data": {
      "text/html": [
       "<div>\n",
       "<style scoped>\n",
       "    .dataframe tbody tr th:only-of-type {\n",
       "        vertical-align: middle;\n",
       "    }\n",
       "\n",
       "    .dataframe tbody tr th {\n",
       "        vertical-align: top;\n",
       "    }\n",
       "\n",
       "    .dataframe thead th {\n",
       "        text-align: right;\n",
       "    }\n",
       "</style>\n",
       "<table border=\"1\" class=\"dataframe\">\n",
       "  <thead>\n",
       "    <tr style=\"text-align: right;\">\n",
       "      <th></th>\n",
       "      <th>AT0000A18XM4 SW</th>\n",
       "      <th>BE0974268972 BB</th>\n",
       "      <th>US0527691069 US</th>\n",
       "      <th>DE0007164600 GR</th>\n",
       "      <th>US6092071058 US</th>\n",
       "    </tr>\n",
       "  </thead>\n",
       "  <tbody>\n",
       "    <tr>\n",
       "      <th>min</th>\n",
       "      <td>0.000063</td>\n",
       "      <td>0.000018</td>\n",
       "      <td>0.000331</td>\n",
       "      <td>2.895741e-07</td>\n",
       "      <td>0.000132</td>\n",
       "    </tr>\n",
       "    <tr>\n",
       "      <th>max</th>\n",
       "      <td>0.588783</td>\n",
       "      <td>0.638583</td>\n",
       "      <td>0.792982</td>\n",
       "      <td>8.555499e-01</td>\n",
       "      <td>0.621904</td>\n",
       "    </tr>\n",
       "  </tbody>\n",
       "</table>\n",
       "</div>"
      ],
      "text/plain": [
       "     AT0000A18XM4 SW  BE0974268972 BB  US0527691069 US  DE0007164600 GR  \\\n",
       "min         0.000063         0.000018         0.000331     2.895741e-07   \n",
       "max         0.588783         0.638583         0.792982     8.555499e-01   \n",
       "\n",
       "     US6092071058 US  \n",
       "min         0.000132  \n",
       "max         0.621904  "
      ]
     },
     "execution_count": 1,
     "metadata": {},
     "output_type": "execute_result"
    }
   ],
   "source": [
    "weights.agg(['min', 'max'])"
   ]
  },
  {
   "cell_type": "code",
   "execution_count": 81,
   "metadata": {
    "execution": {
     "iopub.execute_input": "2020-09-25T18:34:37.230074Z",
     "iopub.status.busy": "2020-09-25T18:34:37.226386Z",
     "iopub.status.idle": "2020-09-25T18:34:37.234634Z",
     "shell.execute_reply": "2020-09-25T18:34:37.235643Z"
    }
   },
   "outputs": [
    {
     "data": {
      "text/plain": [
       "AT0000A18XM4 SW    207.610076\n",
       "BE0974268972 BB    219.560807\n",
       "US0527691069 US    221.511034\n",
       "DE0007164600 GR    217.219639\n",
       "US6092071058 US    215.098445\n",
       "dtype: float64"
      ]
     },
     "execution_count": 1,
     "metadata": {},
     "output_type": "execute_result"
    }
   ],
   "source": [
    "weights.agg('sum')"
   ]
  },
  {
   "cell_type": "code",
   "execution_count": 82,
   "metadata": {
    "execution": {
     "iopub.execute_input": "2020-09-25T18:34:37.241955Z",
     "iopub.status.busy": "2020-09-25T18:34:37.239893Z",
     "iopub.status.idle": "2020-09-25T18:34:37.245469Z",
     "shell.execute_reply": "2020-09-25T18:34:37.246084Z"
    }
   },
   "outputs": [
    {
     "data": {
      "text/plain": [
       "AT0000A18XM4 SW   2017-05-06\n",
       "BE0974268972 BB   2014-10-08\n",
       "US0527691069 US   2017-08-24\n",
       "DE0007164600 GR   2017-01-25\n",
       "US6092071058 US   2016-06-15\n",
       "dtype: datetime64[ns]"
      ]
     },
     "execution_count": 1,
     "metadata": {},
     "output_type": "execute_result"
    }
   ],
   "source": [
    "weights.idxmax()"
   ]
  },
  {
   "cell_type": "code",
   "execution_count": 83,
   "metadata": {
    "execution": {
     "iopub.execute_input": "2020-09-25T18:34:37.264007Z",
     "iopub.status.busy": "2020-09-25T18:34:37.262991Z",
     "iopub.status.idle": "2020-09-25T18:34:37.268268Z",
     "shell.execute_reply": "2020-09-25T18:34:37.267598Z"
    }
   },
   "outputs": [
    {
     "data": {
      "text/html": [
       "<div>\n",
       "<style scoped>\n",
       "    .dataframe tbody tr th:only-of-type {\n",
       "        vertical-align: middle;\n",
       "    }\n",
       "\n",
       "    .dataframe tbody tr th {\n",
       "        vertical-align: top;\n",
       "    }\n",
       "\n",
       "    .dataframe thead th {\n",
       "        text-align: right;\n",
       "    }\n",
       "</style>\n",
       "<table border=\"1\" class=\"dataframe\">\n",
       "  <thead>\n",
       "    <tr style=\"text-align: right;\">\n",
       "      <th></th>\n",
       "      <th>AT0000A18XM4 SW</th>\n",
       "      <th>BE0974268972 BB</th>\n",
       "      <th>US0527691069 US</th>\n",
       "      <th>DE0007164600 GR</th>\n",
       "      <th>US6092071058 US</th>\n",
       "    </tr>\n",
       "  </thead>\n",
       "  <tbody>\n",
       "    <tr>\n",
       "      <th>2017-05-06</th>\n",
       "      <td>0.588783</td>\n",
       "      <td>0.098971</td>\n",
       "      <td>0.065059</td>\n",
       "      <td>0.220716</td>\n",
       "      <td>0.026471</td>\n",
       "    </tr>\n",
       "    <tr>\n",
       "      <th>2014-10-08</th>\n",
       "      <td>0.055022</td>\n",
       "      <td>0.638583</td>\n",
       "      <td>0.087784</td>\n",
       "      <td>0.004366</td>\n",
       "      <td>0.214245</td>\n",
       "    </tr>\n",
       "    <tr>\n",
       "      <th>2017-08-24</th>\n",
       "      <td>0.016481</td>\n",
       "      <td>0.081014</td>\n",
       "      <td>0.792982</td>\n",
       "      <td>0.034498</td>\n",
       "      <td>0.075025</td>\n",
       "    </tr>\n",
       "    <tr>\n",
       "      <th>2017-01-25</th>\n",
       "      <td>0.033026</td>\n",
       "      <td>0.044487</td>\n",
       "      <td>0.063948</td>\n",
       "      <td>0.855550</td>\n",
       "      <td>0.002989</td>\n",
       "    </tr>\n",
       "    <tr>\n",
       "      <th>2016-06-15</th>\n",
       "      <td>0.089216</td>\n",
       "      <td>0.227885</td>\n",
       "      <td>0.007397</td>\n",
       "      <td>0.053598</td>\n",
       "      <td>0.621904</td>\n",
       "    </tr>\n",
       "  </tbody>\n",
       "</table>\n",
       "</div>"
      ],
      "text/plain": [
       "            AT0000A18XM4 SW  BE0974268972 BB  US0527691069 US  \\\n",
       "2017-05-06         0.588783         0.098971         0.065059   \n",
       "2014-10-08         0.055022         0.638583         0.087784   \n",
       "2017-08-24         0.016481         0.081014         0.792982   \n",
       "2017-01-25         0.033026         0.044487         0.063948   \n",
       "2016-06-15         0.089216         0.227885         0.007397   \n",
       "\n",
       "            DE0007164600 GR  US6092071058 US  \n",
       "2017-05-06         0.220716         0.026471  \n",
       "2014-10-08         0.004366         0.214245  \n",
       "2017-08-24         0.034498         0.075025  \n",
       "2017-01-25         0.855550         0.002989  \n",
       "2016-06-15         0.053598         0.621904  "
      ]
     },
     "execution_count": 1,
     "metadata": {},
     "output_type": "execute_result"
    }
   ],
   "source": [
    "weights.loc[weights.idxmax()]"
   ]
  },
  {
   "cell_type": "code",
   "execution_count": 84,
   "metadata": {
    "execution": {
     "iopub.execute_input": "2020-09-25T18:34:37.281724Z",
     "iopub.status.busy": "2020-09-25T18:34:37.280212Z",
     "iopub.status.idle": "2020-09-25T18:34:37.286838Z",
     "shell.execute_reply": "2020-09-25T18:34:37.287445Z"
    }
   },
   "outputs": [
    {
     "data": {
      "text/html": [
       "<div>\n",
       "<style scoped>\n",
       "    .dataframe tbody tr th:only-of-type {\n",
       "        vertical-align: middle;\n",
       "    }\n",
       "\n",
       "    .dataframe tbody tr th {\n",
       "        vertical-align: top;\n",
       "    }\n",
       "\n",
       "    .dataframe thead th {\n",
       "        text-align: right;\n",
       "    }\n",
       "</style>\n",
       "<table border=\"1\" class=\"dataframe\">\n",
       "  <thead>\n",
       "    <tr style=\"text-align: right;\">\n",
       "      <th></th>\n",
       "      <th>PassengerID</th>\n",
       "      <th>Name</th>\n",
       "      <th>PClass</th>\n",
       "      <th>Age</th>\n",
       "      <th>Sex</th>\n",
       "      <th>Survived</th>\n",
       "      <th>SexCode</th>\n",
       "    </tr>\n",
       "  </thead>\n",
       "  <tbody>\n",
       "    <tr>\n",
       "      <th>0</th>\n",
       "      <td>1</td>\n",
       "      <td>Allen, Miss Elisabeth Walton</td>\n",
       "      <td>1st</td>\n",
       "      <td>29.00</td>\n",
       "      <td>female</td>\n",
       "      <td>1</td>\n",
       "      <td>1</td>\n",
       "    </tr>\n",
       "    <tr>\n",
       "      <th>1</th>\n",
       "      <td>2</td>\n",
       "      <td>Allison, Miss Helen Loraine</td>\n",
       "      <td>1st</td>\n",
       "      <td>2.00</td>\n",
       "      <td>female</td>\n",
       "      <td>0</td>\n",
       "      <td>1</td>\n",
       "    </tr>\n",
       "    <tr>\n",
       "      <th>2</th>\n",
       "      <td>3</td>\n",
       "      <td>Allison, Mr Hudson Joshua Creighton</td>\n",
       "      <td>1st</td>\n",
       "      <td>30.00</td>\n",
       "      <td>male</td>\n",
       "      <td>0</td>\n",
       "      <td>0</td>\n",
       "    </tr>\n",
       "    <tr>\n",
       "      <th>3</th>\n",
       "      <td>4</td>\n",
       "      <td>Allison, Mrs Hudson JC (Bessie Waldo Daniels)</td>\n",
       "      <td>1st</td>\n",
       "      <td>25.00</td>\n",
       "      <td>female</td>\n",
       "      <td>0</td>\n",
       "      <td>1</td>\n",
       "    </tr>\n",
       "    <tr>\n",
       "      <th>4</th>\n",
       "      <td>5</td>\n",
       "      <td>Allison, Master Hudson Trevor</td>\n",
       "      <td>1st</td>\n",
       "      <td>0.92</td>\n",
       "      <td>male</td>\n",
       "      <td>1</td>\n",
       "      <td>0</td>\n",
       "    </tr>\n",
       "  </tbody>\n",
       "</table>\n",
       "</div>"
      ],
      "text/plain": [
       "   PassengerID                                           Name PClass    Age  \\\n",
       "0            1                   Allen, Miss Elisabeth Walton    1st  29.00   \n",
       "1            2                    Allison, Miss Helen Loraine    1st   2.00   \n",
       "2            3            Allison, Mr Hudson Joshua Creighton    1st  30.00   \n",
       "3            4  Allison, Mrs Hudson JC (Bessie Waldo Daniels)    1st  25.00   \n",
       "4            5                  Allison, Master Hudson Trevor    1st   0.92   \n",
       "\n",
       "      Sex  Survived  SexCode  \n",
       "0  female         1        1  \n",
       "1  female         0        1  \n",
       "2    male         0        0  \n",
       "3  female         0        1  \n",
       "4    male         1        0  "
      ]
     },
     "execution_count": 1,
     "metadata": {},
     "output_type": "execute_result"
    }
   ],
   "source": [
    "titanic.head()"
   ]
  },
  {
   "cell_type": "code",
   "execution_count": 85,
   "metadata": {
    "execution": {
     "iopub.execute_input": "2020-09-25T18:34:37.310584Z",
     "iopub.status.busy": "2020-09-25T18:34:37.309487Z",
     "iopub.status.idle": "2020-09-25T18:34:37.313050Z",
     "shell.execute_reply": "2020-09-25T18:34:37.313753Z"
    }
   },
   "outputs": [
    {
     "data": {
      "text/html": [
       "<div>\n",
       "<style scoped>\n",
       "    .dataframe tbody tr th:only-of-type {\n",
       "        vertical-align: middle;\n",
       "    }\n",
       "\n",
       "    .dataframe tbody tr th {\n",
       "        vertical-align: top;\n",
       "    }\n",
       "\n",
       "    .dataframe thead th {\n",
       "        text-align: right;\n",
       "    }\n",
       "</style>\n",
       "<table border=\"1\" class=\"dataframe\">\n",
       "  <thead>\n",
       "    <tr style=\"text-align: right;\">\n",
       "      <th></th>\n",
       "      <th>PassengerID</th>\n",
       "      <th>Name</th>\n",
       "      <th>PClass</th>\n",
       "      <th>Age</th>\n",
       "      <th>Sex</th>\n",
       "      <th>Survived</th>\n",
       "      <th>SexCode</th>\n",
       "    </tr>\n",
       "  </thead>\n",
       "  <tbody>\n",
       "    <tr>\n",
       "      <th>0</th>\n",
       "      <td>1</td>\n",
       "      <td>Allen, Miss Elisabeth Walton</td>\n",
       "      <td>1st</td>\n",
       "      <td>29.00</td>\n",
       "      <td>female</td>\n",
       "      <td>1</td>\n",
       "      <td>1</td>\n",
       "    </tr>\n",
       "    <tr>\n",
       "      <th>1</th>\n",
       "      <td>2</td>\n",
       "      <td>Allison, Miss Helen Loraine</td>\n",
       "      <td>1st</td>\n",
       "      <td>2.00</td>\n",
       "      <td>female</td>\n",
       "      <td>0</td>\n",
       "      <td>1</td>\n",
       "    </tr>\n",
       "    <tr>\n",
       "      <th>2</th>\n",
       "      <td>3</td>\n",
       "      <td>Allison, Mr Hudson Joshua Creighton</td>\n",
       "      <td>1st</td>\n",
       "      <td>30.00</td>\n",
       "      <td>male</td>\n",
       "      <td>0</td>\n",
       "      <td>0</td>\n",
       "    </tr>\n",
       "    <tr>\n",
       "      <th>3</th>\n",
       "      <td>4</td>\n",
       "      <td>Allison, Mrs Hudson JC (Bessie Waldo Daniels)</td>\n",
       "      <td>1st</td>\n",
       "      <td>25.00</td>\n",
       "      <td>female</td>\n",
       "      <td>0</td>\n",
       "      <td>1</td>\n",
       "    </tr>\n",
       "    <tr>\n",
       "      <th>4</th>\n",
       "      <td>5</td>\n",
       "      <td>Allison, Master Hudson Trevor</td>\n",
       "      <td>1st</td>\n",
       "      <td>0.92</td>\n",
       "      <td>male</td>\n",
       "      <td>1</td>\n",
       "      <td>0</td>\n",
       "    </tr>\n",
       "    <tr>\n",
       "      <th>...</th>\n",
       "      <td>...</td>\n",
       "      <td>...</td>\n",
       "      <td>...</td>\n",
       "      <td>...</td>\n",
       "      <td>...</td>\n",
       "      <td>...</td>\n",
       "      <td>...</td>\n",
       "    </tr>\n",
       "    <tr>\n",
       "      <th>1308</th>\n",
       "      <td>1309</td>\n",
       "      <td>Zakarian, Mr Artun</td>\n",
       "      <td>3rd</td>\n",
       "      <td>27.00</td>\n",
       "      <td>male</td>\n",
       "      <td>0</td>\n",
       "      <td>0</td>\n",
       "    </tr>\n",
       "    <tr>\n",
       "      <th>1309</th>\n",
       "      <td>1310</td>\n",
       "      <td>Zakarian, Mr Maprieder</td>\n",
       "      <td>3rd</td>\n",
       "      <td>26.00</td>\n",
       "      <td>male</td>\n",
       "      <td>0</td>\n",
       "      <td>0</td>\n",
       "    </tr>\n",
       "    <tr>\n",
       "      <th>1310</th>\n",
       "      <td>1311</td>\n",
       "      <td>Zenni, Mr Philip</td>\n",
       "      <td>3rd</td>\n",
       "      <td>22.00</td>\n",
       "      <td>male</td>\n",
       "      <td>0</td>\n",
       "      <td>0</td>\n",
       "    </tr>\n",
       "    <tr>\n",
       "      <th>1311</th>\n",
       "      <td>1312</td>\n",
       "      <td>Lievens, Mr Rene</td>\n",
       "      <td>3rd</td>\n",
       "      <td>24.00</td>\n",
       "      <td>male</td>\n",
       "      <td>0</td>\n",
       "      <td>0</td>\n",
       "    </tr>\n",
       "    <tr>\n",
       "      <th>1312</th>\n",
       "      <td>1313</td>\n",
       "      <td>Zimmerman, Leo</td>\n",
       "      <td>3rd</td>\n",
       "      <td>29.00</td>\n",
       "      <td>male</td>\n",
       "      <td>0</td>\n",
       "      <td>0</td>\n",
       "    </tr>\n",
       "  </tbody>\n",
       "</table>\n",
       "<p>1313 rows × 7 columns</p>\n",
       "</div>"
      ],
      "text/plain": [
       "      PassengerID                                           Name PClass  \\\n",
       "0               1                   Allen, Miss Elisabeth Walton    1st   \n",
       "1               2                    Allison, Miss Helen Loraine    1st   \n",
       "2               3            Allison, Mr Hudson Joshua Creighton    1st   \n",
       "3               4  Allison, Mrs Hudson JC (Bessie Waldo Daniels)    1st   \n",
       "4               5                  Allison, Master Hudson Trevor    1st   \n",
       "...           ...                                            ...    ...   \n",
       "1308         1309                             Zakarian, Mr Artun    3rd   \n",
       "1309         1310                         Zakarian, Mr Maprieder    3rd   \n",
       "1310         1311                               Zenni, Mr Philip    3rd   \n",
       "1311         1312                               Lievens, Mr Rene    3rd   \n",
       "1312         1313                                 Zimmerman, Leo    3rd   \n",
       "\n",
       "        Age     Sex  Survived  SexCode  \n",
       "0     29.00  female         1        1  \n",
       "1      2.00  female         0        1  \n",
       "2     30.00    male         0        0  \n",
       "3     25.00  female         0        1  \n",
       "4      0.92    male         1        0  \n",
       "...     ...     ...       ...      ...  \n",
       "1308  27.00    male         0        0  \n",
       "1309  26.00    male         0        0  \n",
       "1310  22.00    male         0        0  \n",
       "1311  24.00    male         0        0  \n",
       "1312  29.00    male         0        0  \n",
       "\n",
       "[1313 rows x 7 columns]"
      ]
     },
     "execution_count": 1,
     "metadata": {},
     "output_type": "execute_result"
    }
   ],
   "source": [
    "titanic.head(2000)"
   ]
  },
  {
   "cell_type": "code",
   "execution_count": 86,
   "metadata": {
    "execution": {
     "iopub.execute_input": "2020-09-25T18:34:37.320842Z",
     "iopub.status.busy": "2020-09-25T18:34:37.320160Z",
     "iopub.status.idle": "2020-09-25T18:34:37.423950Z",
     "shell.execute_reply": "2020-09-25T18:34:37.425043Z"
    }
   },
   "outputs": [
    {
     "name": "stdout",
     "output_type": "stream",
     "text": [
      "{'AdminOffensesTypeText': 'Штраф',\n",
      " 'AmountToPay': 0,\n",
      " 'ApnDetail': [{'AttrId': 'StAP',\n",
      "                'Name': 'Статья КоАП или закона субъекта РФ, состав '\n",
      "                        'правонарушения',\n",
      "                'Value': '12.17 ч.1.2 - Движение или остановка на полосе для '\n",
      "                         'маршрутных ТС в Москве или в Санкт-Петербурге'},\n",
      "               {'AttrId': 'MestoDAP',\n",
      "                'Name': 'Место составления документа',\n",
      "                'Value': 'САДОВАЯ-САМОТЕЧНАЯ,д.1,ТВЕРСКОЙ (ЦАО) Р-Н'},\n",
      "               {'AttrId': 'DatNar',\n",
      "                'Name': 'Дата и время нарушения',\n",
      "                'Value': '23.01.2018 00:21:00'},\n",
      "               {'AttrId': 'MestoNar',\n",
      "                'Name': 'Место нарушения',\n",
      "                'Value': 'МОСКВА Г.   МОХОВАЯ д.15/1'},\n",
      "               {'AttrId': 'OdpsName',\n",
      "                'Name': 'Орган власти, выявивший нарушение',\n",
      "                'Value': 'ЦАФАП ОДД ГИБДД ГУ МВД России по г.Москве'},\n",
      "               {'AttrId': 'FIONarush',\n",
      "                'Name': 'Нарушитель',\n",
      "                'Value': 'ЛЕОНИД ЭДУАРДОВИЧ'},\n",
      "               {'AttrId': 'GRZNarush',\n",
      "                'Name': 'Транспортное средство',\n",
      "                'Value': 'С700*****'}],\n",
      " 'DAP': '18810177180125209293',\n",
      " 'DAPName': 'Постановление по видеофиксации №18810177180125209293 от '\n",
      "            '25.01.2018',\n",
      " 'DateDAP': '25.01.2018',\n",
      " 'DiscountDate': '',\n",
      " 'DiscountSize': '',\n",
      " 'DiscountSizeAmountToPaySum': None,\n",
      " 'FineStatus': 1,\n",
      " 'FineSum': 3000,\n",
      " 'HasAdditionalActions': False,\n",
      " 'HasPhoto': True,\n",
      " 'IsFine': True,\n",
      " 'Latitude': '55,7563209999',\n",
      " 'Longitude': '37,614136',\n",
      " 'OdpsKod': '1145519',\n",
      " 'PayedAmountSum': None,\n",
      " 'PaymentId': '',\n",
      " 'Sh': '{\"DAP\":\"18810177180125209293\",\"DateDAP\":\"25.01.2018\",\"ODPS\":\"ЦАФАП ОДД '\n",
      "       'ГИБДД ГУ МВД России по '\n",
      "       'г.Москве\",\"PaymentID\":null,\"RsRschet\":\"40101810045250010041\",\"SgBuk\":\"044525000\",\"ShBankName\":\"ГУ '\n",
      "       'Банка России по '\n",
      "       'ЦФО\",\"ShInn\":\"7707089101\",\"ShKbk\":\"18811630020016000140\",\"ShKpp\":\"770731005\",\"ShOkato\":\"45379000\",\"ShPoluchName\":\"УФК '\n",
      "       'по г. Москве (УГИБДД ГУ МВД России по '\n",
      "       'г.Москве)\",\"Sum\":3000,\"Uin\":\"18810177180125209293\"}',\n",
      " 'Sts': '7741525886',\n",
      " 'Type': 0,\n",
      " 'UID': 'f9e58750-5f64-4138-942a-67e0967d4547',\n",
      " 'VidNak': '2',\n",
      " 'VstupDate': '',\n",
      " 'Vu': ''}\n"
     ]
    }
   ],
   "source": [
    "import json\n",
    "from datetime import datetime\n",
    "\n",
    "\n",
    "with open('fines.json') as f:\n",
    "    json_str = f.read()\n",
    "\n",
    "value_raw = json.loads(json_str)['Value']\n",
    "fines_list = json.loads(value_raw)['Fines']\n",
    "\n",
    "from pprint import pprint\n",
    "\n",
    "pprint(fines_list[0])"
   ]
  },
  {
   "cell_type": "code",
   "execution_count": 87,
   "metadata": {
    "execution": {
     "iopub.execute_input": "2020-09-25T18:34:37.436276Z",
     "iopub.status.busy": "2020-09-25T18:34:37.435311Z",
     "iopub.status.idle": "2020-09-25T18:34:37.451296Z",
     "shell.execute_reply": "2020-09-25T18:34:37.450347Z"
    }
   },
   "outputs": [
    {
     "data": {
      "text/html": [
       "<div>\n",
       "<style scoped>\n",
       "    .dataframe tbody tr th:only-of-type {\n",
       "        vertical-align: middle;\n",
       "    }\n",
       "\n",
       "    .dataframe tbody tr th {\n",
       "        vertical-align: top;\n",
       "    }\n",
       "\n",
       "    .dataframe thead th {\n",
       "        text-align: right;\n",
       "    }\n",
       "</style>\n",
       "<table border=\"1\" class=\"dataframe\">\n",
       "  <thead>\n",
       "    <tr style=\"text-align: right;\">\n",
       "      <th></th>\n",
       "      <th>Name</th>\n",
       "      <th>Place</th>\n",
       "      <th>Fine sum</th>\n",
       "    </tr>\n",
       "  </thead>\n",
       "  <tbody>\n",
       "    <tr>\n",
       "      <th>0</th>\n",
       "      <td>12.17 ч.1.2 - Движение или остановка на полосе...</td>\n",
       "      <td>МОСКВА Г.   МОХОВАЯ д.15/1</td>\n",
       "      <td>3000</td>\n",
       "    </tr>\n",
       "    <tr>\n",
       "      <th>1</th>\n",
       "      <td>12.09.2 - Превышение скорости движения ТС от 2...</td>\n",
       "      <td>А/Д М-9 \"БАЛТИЯ\", 24КМ+750М, ИЗ МОСКВЫ</td>\n",
       "      <td>500</td>\n",
       "    </tr>\n",
       "    <tr>\n",
       "      <th>2</th>\n",
       "      <td>12.9.6 - Повторное превышение скорости на 40-6...</td>\n",
       "      <td>МОСКВА Г.   РУБЛЕВСКОЕ Ш. д.79</td>\n",
       "      <td>2000</td>\n",
       "    </tr>\n",
       "    <tr>\n",
       "      <th>3</th>\n",
       "      <td>12.15.1 - Наруш.правил расп.т/с на пр.части бе...</td>\n",
       "      <td>МОСКВА Г.   КУТУЗОВСКИЙ ПРОСП.</td>\n",
       "      <td>1500</td>\n",
       "    </tr>\n",
       "    <tr>\n",
       "      <th>4</th>\n",
       "      <td>12.9.6 - Повторное превышение скорости на 40-6...</td>\n",
       "      <td>МОСКВА Г.   НОВЫЙ АРБАТ д.36/9</td>\n",
       "      <td>2000</td>\n",
       "    </tr>\n",
       "    <tr>\n",
       "      <th>...</th>\n",
       "      <td>...</td>\n",
       "      <td>...</td>\n",
       "      <td>...</td>\n",
       "    </tr>\n",
       "    <tr>\n",
       "      <th>830</th>\n",
       "      <td>12.09.2 - Превышение скорости движения ТС от 2...</td>\n",
       "      <td>МОСКВА Г.   НОВЫЙ АРБАТ д.28</td>\n",
       "      <td>500</td>\n",
       "    </tr>\n",
       "    <tr>\n",
       "      <th>831</th>\n",
       "      <td>12.16.5 Нарушение, предусмотренное частью 4 на...</td>\n",
       "      <td>г. Москва, Тверская улица, 4</td>\n",
       "      <td>3000</td>\n",
       "    </tr>\n",
       "    <tr>\n",
       "      <th>832</th>\n",
       "      <td>12.16.5 Нарушение, предусмотренное частью 4 на...</td>\n",
       "      <td>г. Москва, Тверская улица, 4</td>\n",
       "      <td>3000</td>\n",
       "    </tr>\n",
       "    <tr>\n",
       "      <th>833</th>\n",
       "      <td>12.16.5 Нарушение, предусмотренное частью 4 на...</td>\n",
       "      <td>г. Москва, ул. Охотный Ряд, д. 2</td>\n",
       "      <td>3000</td>\n",
       "    </tr>\n",
       "    <tr>\n",
       "      <th>834</th>\n",
       "      <td>12.16.5 Нарушение, предусмотренное частью 4 на...</td>\n",
       "      <td>г. Москва, Тверская улица, 3</td>\n",
       "      <td>3000</td>\n",
       "    </tr>\n",
       "  </tbody>\n",
       "</table>\n",
       "<p>835 rows × 3 columns</p>\n",
       "</div>"
      ],
      "text/plain": [
       "                                                  Name  \\\n",
       "0    12.17 ч.1.2 - Движение или остановка на полосе...   \n",
       "1    12.09.2 - Превышение скорости движения ТС от 2...   \n",
       "2    12.9.6 - Повторное превышение скорости на 40-6...   \n",
       "3    12.15.1 - Наруш.правил расп.т/с на пр.части бе...   \n",
       "4    12.9.6 - Повторное превышение скорости на 40-6...   \n",
       "..                                                 ...   \n",
       "830  12.09.2 - Превышение скорости движения ТС от 2...   \n",
       "831  12.16.5 Нарушение, предусмотренное частью 4 на...   \n",
       "832  12.16.5 Нарушение, предусмотренное частью 4 на...   \n",
       "833  12.16.5 Нарушение, предусмотренное частью 4 на...   \n",
       "834  12.16.5 Нарушение, предусмотренное частью 4 на...   \n",
       "\n",
       "                                        Place  Fine sum  \n",
       "0                  МОСКВА Г.   МОХОВАЯ д.15/1      3000  \n",
       "1      А/Д М-9 \"БАЛТИЯ\", 24КМ+750М, ИЗ МОСКВЫ       500  \n",
       "2              МОСКВА Г.   РУБЛЕВСКОЕ Ш. д.79      2000  \n",
       "3              МОСКВА Г.   КУТУЗОВСКИЙ ПРОСП.      1500  \n",
       "4              МОСКВА Г.   НОВЫЙ АРБАТ д.36/9      2000  \n",
       "..                                        ...       ...  \n",
       "830              МОСКВА Г.   НОВЫЙ АРБАТ д.28       500  \n",
       "831              г. Москва, Тверская улица, 4      3000  \n",
       "832              г. Москва, Тверская улица, 4      3000  \n",
       "833          г. Москва, ул. Охотный Ряд, д. 2      3000  \n",
       "834              г. Москва, Тверская улица, 3      3000  \n",
       "\n",
       "[835 rows x 3 columns]"
      ]
     },
     "execution_count": 1,
     "metadata": {},
     "output_type": "execute_result"
    }
   ],
   "source": [
    "fines = []\n",
    "for fine in fines_list:\n",
    "    fines.append({\n",
    "        'Name': fine['ApnDetail'][0]['Value'].replace('\\t', ' - '),\n",
    "        'Place': fine['ApnDetail'][3]['Value'],\n",
    "        'Fine sum': fine['FineSum'],\n",
    "    })\n",
    "\n",
    "fines_df = pd.DataFrame.from_dict(fines)\n",
    "fines_df"
   ]
  },
  {
   "cell_type": "code",
   "execution_count": 88,
   "metadata": {
    "execution": {
     "iopub.execute_input": "2020-09-25T18:34:37.460535Z",
     "iopub.status.busy": "2020-09-25T18:34:37.458996Z",
     "iopub.status.idle": "2020-09-25T18:34:37.473740Z",
     "shell.execute_reply": "2020-09-25T18:34:37.474340Z"
    }
   },
   "outputs": [
    {
     "data": {
      "text/html": [
       "<div>\n",
       "<style scoped>\n",
       "    .dataframe tbody tr th:only-of-type {\n",
       "        vertical-align: middle;\n",
       "    }\n",
       "\n",
       "    .dataframe tbody tr th {\n",
       "        vertical-align: top;\n",
       "    }\n",
       "\n",
       "    .dataframe thead th {\n",
       "        text-align: right;\n",
       "    }\n",
       "</style>\n",
       "<table border=\"1\" class=\"dataframe\">\n",
       "  <thead>\n",
       "    <tr style=\"text-align: right;\">\n",
       "      <th></th>\n",
       "      <th>count</th>\n",
       "      <th>sum</th>\n",
       "    </tr>\n",
       "    <tr>\n",
       "      <th>Name</th>\n",
       "      <th></th>\n",
       "      <th></th>\n",
       "    </tr>\n",
       "  </thead>\n",
       "  <tbody>\n",
       "    <tr>\n",
       "      <th>12.09.2 - Превышение скорости движения ТС от 20 до 40 км/ч</th>\n",
       "      <td>361</td>\n",
       "      <td>180500</td>\n",
       "    </tr>\n",
       "    <tr>\n",
       "      <th>12.17 ч.1.2 - Движение или остановка на полосе для маршрутных ТС в Москве или в Санкт-Петербурге</th>\n",
       "      <td>212</td>\n",
       "      <td>636000</td>\n",
       "    </tr>\n",
       "    <tr>\n",
       "      <th>12.15.1 - Наруш.правил расп.т/с на пр.части без выезда на ст.встр.движ.,дв.по обоч.,пересечение колонны</th>\n",
       "      <td>95</td>\n",
       "      <td>142500</td>\n",
       "    </tr>\n",
       "    <tr>\n",
       "      <th>12.9.6 - Повторное превышение скорости на 40-60 км/час</th>\n",
       "      <td>94</td>\n",
       "      <td>188000</td>\n",
       "    </tr>\n",
       "    <tr>\n",
       "      <th>12.15.5 - Повторный выезд на сторону, предназначенную для встречного движения</th>\n",
       "      <td>21</td>\n",
       "      <td>105000</td>\n",
       "    </tr>\n",
       "    <tr>\n",
       "      <th>12.9.7 - Повторное превышение скорости на 60-80 км/час и более 80 км/ч</th>\n",
       "      <td>17</td>\n",
       "      <td>85000</td>\n",
       "    </tr>\n",
       "    <tr>\n",
       "      <th>12.16.5 Нарушение, предусмотренное частью 4 настоящей статьи, совершенное в городе федерального значения Москве или Санкт-Петербурге</th>\n",
       "      <td>15</td>\n",
       "      <td>45000</td>\n",
       "    </tr>\n",
       "    <tr>\n",
       "      <th>12.16.1 - Несоблюдение требований знаков или разметки, за искл.случаев, предусм.др.статьями гл.12</th>\n",
       "      <td>8</td>\n",
       "      <td>4000</td>\n",
       "    </tr>\n",
       "    <tr>\n",
       "      <th>12.09.3 - Превышение скорости движения ТС от 40 до 60 км/ч</th>\n",
       "      <td>7</td>\n",
       "      <td>7000</td>\n",
       "    </tr>\n",
       "    <tr>\n",
       "      <th>12.19 ч.6 - Стоянка, остановка ТС на проезжей части, либо далее 1-й полосы в Москве или в Санкт-Петербурге</th>\n",
       "      <td>3</td>\n",
       "      <td>9000</td>\n",
       "    </tr>\n",
       "    <tr>\n",
       "      <th>12.16.2 - Поворот налево или разворот в нарушение знаков или разметки</th>\n",
       "      <td>1</td>\n",
       "      <td>1000</td>\n",
       "    </tr>\n",
       "    <tr>\n",
       "      <th>8.14.2  - Неуплата за размещение транспортного средства на платной городской парковке</th>\n",
       "      <td>1</td>\n",
       "      <td>2500</td>\n",
       "    </tr>\n",
       "  </tbody>\n",
       "</table>\n",
       "</div>"
      ],
      "text/plain": [
       "                                                    count     sum\n",
       "Name                                                             \n",
       "12.09.2 - Превышение скорости движения ТС от 20...    361  180500\n",
       "12.17 ч.1.2 - Движение или остановка на полосе ...    212  636000\n",
       "12.15.1 - Наруш.правил расп.т/с на пр.части без...     95  142500\n",
       "12.9.6 - Повторное превышение скорости на 40-60...     94  188000\n",
       "12.15.5 - Повторный выезд на сторону, предназна...     21  105000\n",
       "12.9.7 - Повторное превышение скорости на 60-80...     17   85000\n",
       "12.16.5 Нарушение, предусмотренное частью 4 нас...     15   45000\n",
       "12.16.1 - Несоблюдение требований знаков или ра...      8    4000\n",
       "12.09.3 - Превышение скорости движения ТС от 40...      7    7000\n",
       "12.19 ч.6 - Стоянка, остановка ТС на проезжей ч...      3    9000\n",
       "12.16.2 - Поворот налево или разворот в нарушен...      1    1000\n",
       "8.14.2  - Неуплата за размещение транспортного ...      1    2500"
      ]
     },
     "execution_count": 1,
     "metadata": {},
     "output_type": "execute_result"
    }
   ],
   "source": [
    "summary = fines_df.groupby('Name')['Fine sum'].agg(\n",
    "    ['count', 'sum'],\n",
    ").sort_values(['count'], ascending=False)\n",
    "\n",
    "summary"
   ]
  },
  {
   "cell_type": "code",
   "execution_count": 89,
   "metadata": {
    "execution": {
     "iopub.execute_input": "2020-09-25T18:34:37.480952Z",
     "iopub.status.busy": "2020-09-25T18:34:37.480336Z",
     "iopub.status.idle": "2020-09-25T18:34:37.484216Z",
     "shell.execute_reply": "2020-09-25T18:34:37.483517Z"
    }
   },
   "outputs": [
    {
     "data": {
      "text/plain": [
       "count        835\n",
       "sum      1405500\n",
       "Name: Full summary, dtype: int64"
      ]
     },
     "execution_count": 1,
     "metadata": {},
     "output_type": "execute_result"
    }
   ],
   "source": [
    "pd.Series(summary.sum(), name='Full summary')"
   ]
  },
  {
   "cell_type": "code",
   "execution_count": 90,
   "metadata": {
    "execution": {
     "iopub.execute_input": "2020-09-25T18:34:37.503469Z",
     "iopub.status.busy": "2020-09-25T18:34:37.502484Z",
     "iopub.status.idle": "2020-09-25T18:34:37.506795Z",
     "shell.execute_reply": "2020-09-25T18:34:37.506148Z"
    }
   },
   "outputs": [
    {
     "data": {
      "text/html": [
       "<div>\n",
       "<style scoped>\n",
       "    .dataframe tbody tr th:only-of-type {\n",
       "        vertical-align: middle;\n",
       "    }\n",
       "\n",
       "    .dataframe tbody tr th {\n",
       "        vertical-align: top;\n",
       "    }\n",
       "\n",
       "    .dataframe thead th {\n",
       "        text-align: right;\n",
       "    }\n",
       "</style>\n",
       "<table border=\"1\" class=\"dataframe\">\n",
       "  <thead>\n",
       "    <tr style=\"text-align: right;\">\n",
       "      <th></th>\n",
       "      <th>count</th>\n",
       "      <th>sum</th>\n",
       "    </tr>\n",
       "    <tr>\n",
       "      <th>Name</th>\n",
       "      <th></th>\n",
       "      <th></th>\n",
       "    </tr>\n",
       "  </thead>\n",
       "  <tbody>\n",
       "    <tr>\n",
       "      <th>12.09.2 - Превышение скорости движения ТС от 20 до 40 км/ч</th>\n",
       "      <td>361</td>\n",
       "      <td>180500</td>\n",
       "    </tr>\n",
       "    <tr>\n",
       "      <th>12.17 ч.1.2 - Движение или остановка на полосе для маршрутных ТС в Москве или в Санкт-Петербурге</th>\n",
       "      <td>212</td>\n",
       "      <td>636000</td>\n",
       "    </tr>\n",
       "    <tr>\n",
       "      <th>12.15.1 - Наруш.правил расп.т/с на пр.части без выезда на ст.встр.движ.,дв.по обоч.,пересечение колонны</th>\n",
       "      <td>95</td>\n",
       "      <td>142500</td>\n",
       "    </tr>\n",
       "    <tr>\n",
       "      <th>12.9.6 - Повторное превышение скорости на 40-60 км/час</th>\n",
       "      <td>94</td>\n",
       "      <td>188000</td>\n",
       "    </tr>\n",
       "    <tr>\n",
       "      <th>12.15.5 - Повторный выезд на сторону, предназначенную для встречного движения</th>\n",
       "      <td>21</td>\n",
       "      <td>105000</td>\n",
       "    </tr>\n",
       "    <tr>\n",
       "      <th>12.9.7 - Повторное превышение скорости на 60-80 км/час и более 80 км/ч</th>\n",
       "      <td>17</td>\n",
       "      <td>85000</td>\n",
       "    </tr>\n",
       "    <tr>\n",
       "      <th>12.16.5 Нарушение, предусмотренное частью 4 настоящей статьи, совершенное в городе федерального значения Москве или Санкт-Петербурге</th>\n",
       "      <td>15</td>\n",
       "      <td>45000</td>\n",
       "    </tr>\n",
       "    <tr>\n",
       "      <th>12.16.1 - Несоблюдение требований знаков или разметки, за искл.случаев, предусм.др.статьями гл.12</th>\n",
       "      <td>8</td>\n",
       "      <td>4000</td>\n",
       "    </tr>\n",
       "    <tr>\n",
       "      <th>12.09.3 - Превышение скорости движения ТС от 40 до 60 км/ч</th>\n",
       "      <td>7</td>\n",
       "      <td>7000</td>\n",
       "    </tr>\n",
       "    <tr>\n",
       "      <th>12.19 ч.6 - Стоянка, остановка ТС на проезжей части, либо далее 1-й полосы в Москве или в Санкт-Петербурге</th>\n",
       "      <td>3</td>\n",
       "      <td>9000</td>\n",
       "    </tr>\n",
       "    <tr>\n",
       "      <th>12.16.2 - Поворот налево или разворот в нарушение знаков или разметки</th>\n",
       "      <td>1</td>\n",
       "      <td>1000</td>\n",
       "    </tr>\n",
       "    <tr>\n",
       "      <th>8.14.2  - Неуплата за размещение транспортного средства на платной городской парковке</th>\n",
       "      <td>1</td>\n",
       "      <td>2500</td>\n",
       "    </tr>\n",
       "    <tr>\n",
       "      <th>Full summary</th>\n",
       "      <td>835</td>\n",
       "      <td>1405500</td>\n",
       "    </tr>\n",
       "  </tbody>\n",
       "</table>\n",
       "</div>"
      ],
      "text/plain": [
       "                                                    count      sum\n",
       "Name                                                              \n",
       "12.09.2 - Превышение скорости движения ТС от 20...    361   180500\n",
       "12.17 ч.1.2 - Движение или остановка на полосе ...    212   636000\n",
       "12.15.1 - Наруш.правил расп.т/с на пр.части без...     95   142500\n",
       "12.9.6 - Повторное превышение скорости на 40-60...     94   188000\n",
       "12.15.5 - Повторный выезд на сторону, предназна...     21   105000\n",
       "12.9.7 - Повторное превышение скорости на 60-80...     17    85000\n",
       "12.16.5 Нарушение, предусмотренное частью 4 нас...     15    45000\n",
       "12.16.1 - Несоблюдение требований знаков или ра...      8     4000\n",
       "12.09.3 - Превышение скорости движения ТС от 40...      7     7000\n",
       "12.19 ч.6 - Стоянка, остановка ТС на проезжей ч...      3     9000\n",
       "12.16.2 - Поворот налево или разворот в нарушен...      1     1000\n",
       "8.14.2  - Неуплата за размещение транспортного ...      1     2500\n",
       "Full summary                                          835  1405500"
      ]
     },
     "execution_count": 1,
     "metadata": {},
     "output_type": "execute_result"
    }
   ],
   "source": [
    "summary.append(\n",
    "    pd.Series(summary.sum(), name='Full summary')\n",
    ")"
   ]
  },
  {
   "cell_type": "code",
   "execution_count": null,
   "metadata": {},
   "outputs": [],
   "source": []
  }
 ],
 "metadata": {
  "kernelspec": {
   "display_name": "Python 3",
   "language": "python",
   "name": "python3"
  },
  "language_info": {
   "codemirror_mode": {
    "name": "ipython",
    "version": 3
   },
   "file_extension": ".py",
   "mimetype": "text/x-python",
   "name": "python",
   "nbconvert_exporter": "python",
   "pygments_lexer": "ipython3",
   "version": "3.8.2"
  }
 },
 "nbformat": 4,
 "nbformat_minor": 4
}
